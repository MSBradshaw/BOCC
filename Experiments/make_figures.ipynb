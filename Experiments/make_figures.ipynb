{
 "cells": [
  {
   "cell_type": "code",
   "execution_count": 8,
   "id": "0acc3931",
   "metadata": {},
   "outputs": [],
   "source": [
    "import networkx as nx\n",
    "import matplotlib.pyplot as plt\n",
    "import obonet\n",
    "import BOCC\n",
    "import pandas as pd\n",
    "import numpy as np\n",
    "import math\n",
    "from webweb import Web\n",
    "import os\n",
    "import seaborn as sns\n",
    "from BOCC import BOCC, load_clusters\n",
    "from PIL import Image\n",
    "from PIL import ImageDraw\n",
    "from PIL import ImageFont\n",
    "import typing\n",
    "import matplotlib.patches as mpatches\n",
    "from matplotlib.lines import Line2D\n",
    "from upsetplot import from_memberships\n",
    "from upsetplot import plot\n",
    "\n",
    "std_fontsize = 12"
   ]
  },
  {
   "cell_type": "code",
   "execution_count": 9,
   "id": "38375cf0",
   "metadata": {},
   "outputs": [],
   "source": [
    "# Define jane's information\n",
    "jane_hpos = ['HP:0002066','HP:0020221','HP:0032792','HP:0001733','HP:0001824']\n",
    "jane_hpo_common_names = ['Gait ataxia','Clonic seizures','Tonic seizures','Pancreatitis','Weight loss']\n",
    "jane_genes = ['SSPO','NBEA']"
   ]
  },
  {
   "cell_type": "code",
   "execution_count": 10,
   "id": "1a736eda",
   "metadata": {},
   "outputs": [],
   "source": [
    "def clear_ax(ax, top=False, bottom=False, left=False, right=False):\n",
    "    ax.spines['top'].set_visible(top)\n",
    "    ax.spines['bottom'].set_visible(bottom)\n",
    "    ax.spines['left'].set_visible(left)\n",
    "    ax.spines['right'].set_visible(right)\n",
    "    # ax.get_xaxis().set_visible(False)\n",
    "    ax.get_yaxis().set_visible(True)\n",
    "    ax.yaxis.set_tick_params(width=0.0, labelsize=8)\n",
    "    ax.xaxis.set_tick_params(width=0.0, labelsize=8)\n"
   ]
  },
  {
   "cell_type": "code",
   "execution_count": 11,
   "id": "0937227c",
   "metadata": {},
   "outputs": [],
   "source": [
    "# load the graphs\n",
    "G = nx.read_edgelist('../Edgelists/String_HPO_2021.phenotypic_branch.edgelist.txt')\n",
    "G19 = nx.read_edgelist('../Edgelists/String_HPO_2019.phenotypic_branch.edgelist.txt')\n",
    "G20 = nx.read_edgelist('../Edgelists/String_HPO_2020.phenotypic_branch.edgelist.txt')\n",
    "G21 = nx.read_edgelist('../Edgelists/String_HPO_2021.phenotypic_branch.edgelist.txt')\n",
    "G22 = nx.read_edgelist('../Edgelists/String_HPO_2022.phenotypic_branch.edgelist.txt')\n",
    "\n",
    "hpos = [x for x in G.nodes if 'HP:' in x]\n",
    "genes = [x for x in G.nodes if 'HP:' not in x]"
   ]
  },
  {
   "cell_type": "code",
   "execution_count": 12,
   "id": "0ac488ea",
   "metadata": {},
   "outputs": [],
   "source": [
    "# what is the median number of PPIs\n",
    "# ppi_counts = []\n",
    "# for g in genes:\n",
    "#     ppi_counts.append(len([x for x in G.neighbors(g) if x in genes]))\n",
    "\n",
    "# print('Median PPI',np.median(ppi_counts))"
   ]
  },
  {
   "cell_type": "code",
   "execution_count": 13,
   "id": "ecfac2a7",
   "metadata": {},
   "outputs": [],
   "source": [
    "# load the original clusters\n",
    "# remove trival communities\n",
    "def remove_trivial_coms(coms):\n",
    "    keepers = []\n",
    "    for c in coms:\n",
    "        if len(c.members) > 2 and len(c.get_genes()) > 0 and len(c.get_genes()) != len(c.members):\n",
    "            keepers.append(c)\n",
    "    return keepers\n",
    "\n",
    "g_coms = load_clusters('../Clusters/2021/greedy.2021.coms.txt')\n",
    "w_coms = load_clusters('../Clusters/2021/walktrap.2021.coms.txt')\n",
    "i_coms = load_clusters('../Clusters/2021/infomap.2021.coms.txt')\n",
    "c_coms = load_clusters('../Clusters/2021/cesna.2021.coms.txt')"
   ]
  },
  {
   "cell_type": "code",
   "execution_count": 14,
   "id": "b34a6714",
   "metadata": {},
   "outputs": [
    {
     "name": "stdout",
     "output_type": "stream",
     "text": [
      "# sub clusters 32767\n",
      "# non-trivial sub clusters 3696\n"
     ]
    }
   ],
   "source": [
    "# do the same things as above but with the paris 2021 crosses\n",
    "g_subcoms = load_clusters('../SubComs/2021/paris.greedy.2021.coms.txt')\n",
    "w_subcoms = load_clusters('../SubComs/2021/paris.walktrap.2021.coms.txt')\n",
    "i_subcoms = load_clusters('../SubComs/2021/paris.infomap.2021.coms.txt')\n",
    "c_subcoms = load_clusters('../SubComs/2021/paris.cesna.2021.coms.txt')\n",
    "\n",
    "print('# sub clusters',sum([len(g_subcoms),len(w_subcoms),len(i_subcoms),len(c_subcoms)]))\n",
    "g_subcoms = remove_trivial_coms(g_subcoms)\n",
    "w_subcoms = remove_trivial_coms(w_subcoms)\n",
    "i_subcoms = remove_trivial_coms(i_subcoms)\n",
    "c_subcoms = remove_trivial_coms(c_subcoms)\n",
    "print('# non-trivial sub clusters',sum([len(g_subcoms),len(w_subcoms),len(i_subcoms),len(c_subcoms)]))"
   ]
  },
  {
   "cell_type": "code",
   "execution_count": 15,
   "id": "dc68da5c",
   "metadata": {},
   "outputs": [
    {
     "name": "stdout",
     "output_type": "stream",
     "text": [
      "# 2020 sub clusters 3696\n",
      "# 2020 non-trivial sub clusters 3696\n"
     ]
    }
   ],
   "source": [
    "# do the same things as above but with the paris 2020 crosses\n",
    "g_subcoms_20 = load_clusters('../SubComs/2020/paris.greedy.2020.coms.txt')\n",
    "w_subcoms_20 = load_clusters('../SubComs/2020/paris.walktrap.2020.coms.txt')\n",
    "i_subcoms_20 = load_clusters('../SubComs/2020/paris.infomap.2020.coms.txt')\n",
    "c_subcoms_20 = load_clusters('../SubComs/2020/paris.cesna.2020.coms.txt')\n",
    "\n",
    "print('# 2020 sub clusters',sum([len(g_subcoms),len(w_subcoms),len(i_subcoms),len(c_subcoms)]))\n",
    "g_subcoms_20 = remove_trivial_coms(g_subcoms_20)\n",
    "w_subcoms_20 = remove_trivial_coms(w_subcoms_20)\n",
    "i_subcoms_20 = remove_trivial_coms(i_subcoms_20)\n",
    "c_subcoms_20 = remove_trivial_coms(c_subcoms_20)\n",
    "print('# 2020 non-trivial sub clusters',sum([len(g_subcoms),len(w_subcoms),len(i_subcoms),len(c_subcoms)]))"
   ]
  },
  {
   "cell_type": "code",
   "execution_count": 16,
   "id": "08c6f0ed",
   "metadata": {},
   "outputs": [],
   "source": [
    "\"\"\"\n",
    "can you send me a file that is “cluser_id cluster_score gene_name num_g2p_connections num_pottential_g2p_connections”\n",
    "one file per algorithm?\n",
    "the last two columns are intra cluster\n",
    "\"\"\"\n",
    "# predicted_df = pd.read_csv('../XGBoost2021ClusterRankings.csv')\n",
    "cluster_scores = {}\n",
    "first= True\n",
    "for line in open('../XGBoost2021ClusterRankings.csv','r'):\n",
    "    if first:\n",
    "        first = False\n",
    "        continue\n",
    "#     print(line)\n",
    "    row = line.strip().split(',')\n",
    "    cluster_scores[row[0]] = 1 - float(row[1])\n",
    "    \n",
    "def export_gene_in_cluster_stats(coms,g,scores,prefix,outfile):\n",
    "    data_to_save = {'com_id':[],'cluster_score':[],'genes':[],'num_g2p_connections':[],'num_potential_g2p_connections':[]}\n",
    "    for com in coms:\n",
    "        com_name = prefix + com.name\n",
    "        if com_name not in scores:\n",
    "            continue\n",
    "        genes = [n for n in com.members if 'HP:' not in n]\n",
    "        hpos = [n for n in com.members if 'HP:' in n]\n",
    "        g2 = g.subgraph(com.members)\n",
    "        # count the number of g2p connects in each cluster\n",
    "        for gene in genes:\n",
    "            #get the number of HPO neighbors of gene\n",
    "            num_hpo_neighbors = len([n for n in g2.neighbors(gene) if 'HP:' in n])\n",
    "            num_possible_new_g2p = len(hpos) - num_hpo_neighbors\n",
    "    #         print(num_g2p, num_possible_new_g2p)\n",
    "            data_to_save['com_id'].append(com_name)\n",
    "            data_to_save['cluster_score'].append(scores[com_name])\n",
    "            data_to_save['genes'].append(gene)\n",
    "            data_to_save['num_g2p_connections'].append(num_hpo_neighbors)\n",
    "            data_to_save['num_potential_g2p_connections'].append(num_possible_new_g2p)\n",
    "    tmp_df = pd.DataFrame(data_to_save)\n",
    "    tmp_df.to_csv(outfile,sep='\\t',index=False)\n",
    "\n",
    "export_gene_in_cluster_stats(w_subcoms,G21,cluster_scores,'paris.walktrap.2021:','paris.walktrap.2021.g2p_counts.tsv')\n",
    "export_gene_in_cluster_stats(g_subcoms,G21,cluster_scores,'paris.greedy.2021:','paris.greedy.2021.g2p_counts.tsv')\n",
    "export_gene_in_cluster_stats(i_subcoms,G21,cluster_scores,'paris.infomap.2021:','paris.infomap.2021.g2p_counts.tsv')\n",
    "export_gene_in_cluster_stats(c_subcoms,G21,cluster_scores,'paris.cesna.2021:','paris.cesna.2021.g2p_counts.tsv')"
   ]
  },
  {
   "cell_type": "code",
   "execution_count": 17,
   "id": "e82e6432",
   "metadata": {},
   "outputs": [
    {
     "name": "stdout",
     "output_type": "stream",
     "text": [
      "# all clusters 27809\n",
      "# non-trivial clusters 1970\n"
     ]
    }
   ],
   "source": [
    "print('# all clusters',sum([len(g_coms),len(w_coms),len(i_coms),len(c_coms),]))\n",
    "\n",
    "g_coms = remove_trivial_coms(g_coms)\n",
    "w_coms = remove_trivial_coms(w_coms)\n",
    "i_coms = remove_trivial_coms(i_coms)\n",
    "c_coms = remove_trivial_coms(c_coms)\n",
    "\n",
    "print('# non-trivial clusters',sum([len(g_coms),len(w_coms),len(i_coms),len(c_coms)]))"
   ]
  },
  {
   "attachments": {},
   "cell_type": "markdown",
   "id": "f0ba5314",
   "metadata": {},
   "source": [
    "## Yearly Stats"
   ]
  },
  {
   "cell_type": "code",
   "execution_count": 18,
   "id": "02dd2a34",
   "metadata": {},
   "outputs": [],
   "source": [
    "# count node and edge type stats\n",
    "def count_size_stats(_G):\n",
    "    # count genes\n",
    "    num_genes = sum(['HP:' not in n for n in _G.nodes])\n",
    "    # count HPOs\n",
    "    num_hpos = sum(['HP:' in n for n in _G.nodes])\n",
    "    # 0 = p2p, 1 = p2g, 2 = p2p\n",
    "    hpo_counts = [ sum(['HP:' in x for x in e]) for e in _G.edges]\n",
    "    # count g2p\n",
    "    num_g2p = hpo_counts.count(1)\n",
    "    # count g2g\n",
    "    num_p2p = hpo_counts.count(2)\n",
    "    # count p2p\n",
    "    num_g2g = hpo_counts.count(0)\n",
    "    return [num_genes, num_hpos, num_p2p, num_g2p, num_g2g]\n",
    "\n",
    "plt_data = {'year':[],'type':[],'count':[]}\n",
    "# for y,_g in zip(list(range(2015,2023)),[G15,G16,G17,G18,G19,G20,G21]):\n",
    "for y,_g in zip(list(range(2019,2023)),[G19,G20,G21,G22]):    \n",
    "    stats = count_size_stats(_g)\n",
    "    for t,x in zip(['STRING nodes', 'HPO nodes', 'HPO edges', 'gene-to-phenotype edges', 'STRING edges'],stats):\n",
    "        plt_data['year'].append(y)\n",
    "        plt_data['type'].append(t)\n",
    "        plt_data['count'].append(x)\n",
    "plt_df = pd.DataFrame(plt_data)"
   ]
  },
  {
   "cell_type": "code",
   "execution_count": 19,
   "id": "37bec17d",
   "metadata": {},
   "outputs": [
    {
     "data": {
      "image/png": "[encoded data removed]",
      "text/plain": [
       "<Figure size 576x432 with 1 Axes>"
      ]
     },
     "metadata": {
      "needs_background": "light"
     },
     "output_type": "display_data"
    }
   ],
   "source": [
    "# plt.figure(figsize = (6,6))\n",
    "fig, ax = plt.subplots()\n",
    "fig.set_size_inches(8, 6)\n",
    "\n",
    "# sns.catplot(\n",
    "#     data=plt_df, kind=\"bar\",\n",
    "#     x=\"year\", y=\"count\", hue=\"type\",\n",
    "#     ci=\"sd\",ax=ax)\n",
    "\n",
    "sns.barplot(data=plt_df,x='year',y='count',hue='type',ax=ax)\n",
    "sns.set_style(\"whitegrid\", {'axes.grid' : False})\n",
    "\n",
    "clear_ax(ax,bottom=True, left=True)\n",
    "\n",
    "plt.legend(frameon=False,title=None,bbox_to_anchor=(1, 0.5),fontsize=std_fontsize)\n",
    "plt.yscale('log')\n",
    "ax.set_xlabel('')\n",
    "plt.xticks(fontsize=std_fontsize)\n",
    "plt.yticks(fontsize=std_fontsize)\n",
    "plt.ylabel('count',fontsize=std_fontsize)\n",
    "plt.tight_layout()\n",
    "plt.savefig('../PublicationFigures/yearly_stats.png',dpi=300)\n",
    "plt.show()"
   ]
  },
  {
   "cell_type": "code",
   "execution_count": 20,
   "id": "5eb37eef",
   "metadata": {},
   "outputs": [],
   "source": [
    "yearly_changes = {'year':[],'type':[],'change':[]}\n",
    "# calculate the difference from previous years\n",
    "for year in range(2019,2023):\n",
    "    next_year = year\n",
    "    sub = plt_df[plt_df['year'] == 2019]\n",
    "    next_sub = plt_df[plt_df['year'] == next_year]\n",
    "    for t in sub['type'].unique():\n",
    "        sub_type_value = int(sub[sub['type'] == t]['count'])\n",
    "        next_sub_type_value = int(next_sub[next_sub['type'] == t]['count'])\n",
    "        difference = next_sub_type_value - sub_type_value\n",
    "        percent_change = difference/sub_type_value\n",
    "#         print(year,t,percent_change)\n",
    "#         print(year,t,difference)\n",
    "#         print()\n",
    "        yearly_changes['year'].append(year)\n",
    "        yearly_changes['type'].append(t)\n",
    "        yearly_changes['change'].append(percent_change)\n",
    "yearly_change_df = pd.DataFrame(yearly_changes)"
   ]
  },
  {
   "cell_type": "code",
   "execution_count": 21,
   "id": "432d59d9",
   "metadata": {},
   "outputs": [
    {
     "data": {
      "image/png": "[encoded data removed]",
      "text/plain": [
       "<Figure size 864x432 with 2 Axes>"
      ]
     },
     "metadata": {},
     "output_type": "display_data"
    }
   ],
   "source": [
    "# print(yearly_change_df)\n",
    "fig, ax = plt.subplots(2)\n",
    "fig.set_size_inches(12, 6)\n",
    "yearly_change_df['percent_change'] = [ round(x*100,2) for x in yearly_change_df['change']]\n",
    "handles = []\n",
    "colors = ['blue','red','green','orange','purple']\n",
    "for i,t in enumerate(yearly_change_df['type'].unique()):\n",
    "    if t == 'gene-to-phenotype edges':\n",
    "        continue\n",
    "    sub = yearly_change_df[yearly_change_df['type'] == t]\n",
    "    ax[1].plot(sub['year'],sub['percent_change'], color=colors[i])\n",
    "    legend_piece = Line2D([0], [0], color=colors[i], label=t)\n",
    "    handles.append(legend_piece)\n",
    "\n",
    "sub = yearly_change_df[yearly_change_df['type'] == 'gene-to-phenotype edges']\n",
    "ax[0].plot(sub['year'],sub['percent_change'],label='gene-to-phenotype edges',color=colors[-2])\n",
    "legend_piece = Line2D([0], [0],color=colors[-2], label='gene-to-phenotype edges')\n",
    "handles.append(legend_piece)\n",
    "    \n",
    "ax[0].set_xticks([])\n",
    "ax[1].set_xticks([2019,2020,2021,2022])\n",
    "\n",
    "\n",
    "clear_ax(ax[0],bottom=False, left=True)\n",
    "clear_ax(ax[1],bottom=True, left=True)\n",
    "\n",
    "ax[1].tick_params(axis='both', which='major', labelsize=std_fontsize)\n",
    "ax[1].tick_params(axis='both', which='minor', labelsize=std_fontsize)\n",
    "\n",
    "ax[0].tick_params(axis='both', which='major', labelsize=std_fontsize)\n",
    "ax[0].tick_params(axis='both', which='minor', labelsize=std_fontsize)\n",
    "\n",
    "\n",
    "ax[0].set_ylabel('% Change relative to 2019', fontsize=std_fontsize)\n",
    "ax[1].set_ylabel('% Change relative to 2019', fontsize=std_fontsize)\n",
    "\n",
    "ax[1].legend(handles=handles, bbox_to_anchor=(1.1, 1), frameon=False, fontsize=std_fontsize)\n",
    "plt.tight_layout()\n",
    "\n",
    "plt.savefig('../PublicationFigures/yearly_change_stats.png',dpi=300)\n",
    "\n",
    "plt.show()\n"
   ]
  },
  {
   "attachments": {},
   "cell_type": "markdown",
   "id": "cf7127ab",
   "metadata": {},
   "source": [
    "## Cluster & Sub Cluster Size"
   ]
  },
  {
   "cell_type": "code",
   "execution_count": 22,
   "id": "eaa6e4a9",
   "metadata": {},
   "outputs": [
    {
     "name": "stdout",
     "output_type": "stream",
     "text": [
      "0 greedy\n",
      "1 walktrap\n",
      "2 infomap\n",
      "3 cesna\n",
      "0 greedy-paris\n",
      "1 walktrap-paris\n",
      "2 infomap-paris\n",
      "3 cesna-paris\n"
     ]
    },
    {
     "data": {
      "image/png": "[encoded data removed]",
      "text/plain": [
       "<Figure size 864x432 with 8 Axes>"
      ]
     },
     "metadata": {},
     "output_type": "display_data"
    }
   ],
   "source": [
    "# plot size distribution of original coms\n",
    "fig, axes = plt.subplots(4,2)\n",
    "fig.set_size_inches(12, 6)\n",
    "\n",
    "spaces = '                                     '\n",
    "letters = ['A','B','C','D']\n",
    "for i,n in enumerate(zip([g_coms,w_coms,i_coms,c_coms],['greedy','walktrap','infomap','cesna'])):\n",
    "    print(i,n[1])\n",
    "    xs = [ len(c.members) for c in n[0]]\n",
    "    ys = [ len(c.get_genes()) / (len(c.members) - len(c.get_genes())) if len(c.get_genes()) != len(c.members) else 1 for c in n[0]]\n",
    "    axes[i,0].set_title('{letter}{spaces}{algo} n={n}'.format(algo=n[1],n=str(len(n[0])),letter=letters[i],spaces=spaces),loc='left')\n",
    "    axes[i,0].hist(xs,bins=100)\n",
    "    axes[i,0].set_xlabel('size',fontsize=std_fontsize)\n",
    "    axes[i,0].set_ylabel('count',fontsize=std_fontsize)\n",
    "    clear_ax(axes[i,0],bottom=True, left=True)\n",
    "\n",
    "spaces = '                                 '\n",
    "letters = ['E','F','G','H']\n",
    "for i,n in enumerate(zip([g_subcoms,w_subcoms,i_subcoms,c_subcoms],['greedy-paris','walktrap-paris','infomap-paris','cesna-paris'])):\n",
    "    print(i,n[1])\n",
    "    xs = [ len(c.members) for c in n[0]]\n",
    "    ys = [ len(c.get_genes()) / (len(c.members) - len(c.get_genes())) if len(c.get_genes()) != len(c.members) else 1 for c in n[0]]\n",
    "    axes[i,1].set_title('{letter}{spaces}{algo} n={n}'.format(algo=n[1],n=str(len(n[0])),letter=letters[i],spaces=spaces),loc='left',fontsize=std_fontsize)\n",
    "    axes[i,1].hist(xs,bins=100)\n",
    "    axes[i,1].set_xlabel('size',fontsize=std_fontsize)\n",
    "    axes[i,1].set_xlim((0,100))\n",
    "    axes[i,1].set_ylabel('count',fontsize=std_fontsize)\n",
    "    clear_ax(axes[i,1],bottom=True, left=True)\n",
    "plt.tight_layout()\n",
    "plt.savefig('../PublicationFigures/clusters_2021_non_trivial_size_dist.png',dpi=300)\n",
    "plt.show()\n"
   ]
  },
  {
   "attachments": {},
   "cell_type": "markdown",
   "id": "457368e9",
   "metadata": {},
   "source": [
    "## Snowball simulation results"
   ]
  },
  {
   "cell_type": "code",
   "execution_count": 23,
   "id": "68c5da67",
   "metadata": {},
   "outputs": [
    {
     "name": "stdout",
     "output_type": "stream",
     "text": [
      "(182900, 5)\n",
      "(80400, 5)\n",
      "(385500, 5)\n",
      "(2847100, 5)\n"
     ]
    }
   ],
   "source": [
    "# load rediscovery stats\n",
    "g_snow = pd.read_csv('../SnowballResultsFixed/snowball.paris.greedy.String_HPO_2020.phenotypic_branch.tsv',sep='\\t')\n",
    "w_snow = pd.read_csv('../SnowballResultsFixed/snowball.paris.walktrap.String_HPO_2020.phenotypic_branch.tsv',sep='\\t')\n",
    "i_snow = pd.read_csv('../SnowballResultsFixed/snowball.paris.infomap.String_HPO_2020.phenotypic_branch.tsv',sep='\\t')\n",
    "c_snow = pd.read_csv('../SnowballResultsFixed/snowball.paris.cesna.String_HPO_2020.phenotypic_branch.tsv',sep='\\t')\n",
    "print(g_snow.shape)\n",
    "print(w_snow.shape)\n",
    "print(i_snow.shape)\n",
    "print(c_snow.shape)"
   ]
  },
  {
   "cell_type": "code",
   "execution_count": 24,
   "id": "a9fc3fb6",
   "metadata": {},
   "outputs": [],
   "source": [
    "def control_inf(x):\n",
    "    if math.isinf(x):\n",
    "#         print('Inf')\n",
    "        return 1\n",
    "    elif x == 0 or math.isnan(x):\n",
    "#         print('Zero')\n",
    "        return 0\n",
    "    else:\n",
    "#         if math.isnan(np.log2(x)):\n",
    "#             print(x)\n",
    "        return np.log2(x)"
   ]
  },
  {
   "attachments": {},
   "cell_type": "markdown",
   "id": "cd21b6f1",
   "metadata": {},
   "source": [
    "## Distribution of emprical p-values"
   ]
  },
  {
   "cell_type": "code",
   "execution_count": 52,
   "id": "6fa8bdeb",
   "metadata": {},
   "outputs": [
    {
     "name": "stderr",
     "output_type": "stream",
     "text": [
      "/var/folders/ty/694s8g7n1cz_l5s3prx55jzr0000gn/T/ipykernel_55837/3063003636.py:6: RuntimeWarning: invalid value encountered in double_scalars\n",
      "  return float(np.log2(o / np.median(np.array(e))))\n",
      "/var/folders/ty/694s8g7n1cz_l5s3prx55jzr0000gn/T/ipykernel_55837/3063003636.py:6: RuntimeWarning: divide by zero encountered in double_scalars\n",
      "  return float(np.log2(o / np.median(np.array(e))))\n",
      "/var/folders/ty/694s8g7n1cz_l5s3prx55jzr0000gn/T/ipykernel_55837/3063003636.py:6: RuntimeWarning: divide by zero encountered in log2\n",
      "  return float(np.log2(o / np.median(np.array(e))))\n"
     ]
    },
    {
     "name": "stdout",
     "output_type": "stream",
     "text": [
      "Index(['algorithm', 'cluster_id', 'log2ratio', 'p-value', 'has_a_rediscovery',\n",
      "       'num_rediscoveries'],\n",
      "      dtype='object')\n",
      "(34959, 6)\n"
     ]
    }
   ],
   "source": [
    "def log_2_ratio(o: int, e: typing.List[int]) -> float:\n",
    "    \"\"\"\n",
    "    param o: observed number of rediscoveries\n",
    "    param e: list of expected number of rediscoveries based on the null model\n",
    "    \"\"\"\n",
    "    return float(np.log2(o / np.median(np.array(e))))\n",
    "\n",
    "def empircal_p(o: int, e: typing.List[int]) -> float:\n",
    "    \"\"\"\n",
    "    param o: observed number of rediscoveries\n",
    "    param e: list of expected number of rediscoveries based on the null model\n",
    "    \"\"\"\n",
    "    return float(1 - (sum([ o > x for x in e]) / len(e)))\n",
    "\n",
    "l2r_p = {'algorithm':[],'cluster_id':[],'log2ratio':[],'p-value':[],'has_a_rediscovery':[],'num_rediscoveries':[]}\n",
    "\n",
    "# test the functions\n",
    "assert(log_2_ratio(2,[2,2,2]) == 0)\n",
    "assert(log_2_ratio(2,[1,1,1]) > 0)\n",
    "assert(log_2_ratio(2,[3,3,3]) < 0)\n",
    "assert(empircal_p(2,[2,2,2]) == 1)\n",
    "assert(empircal_p(2,[1,1,1]) == 0)\n",
    "assert(round(empircal_p(2,[3,1,1]),2) == round(float(1/3),2))\n",
    "\n",
    "algos = ['greedy-paris','walktrap-paris','infomap-paris','cesna-paris']\n",
    "# calc log2ratio and p value for each cluster in each algo category. Save it all in one dataframe\n",
    "expecteds = {}\n",
    "for df,algo in zip([g_snow, w_snow, i_snow, c_snow],algos):\n",
    "    expecteds[algo] = []\n",
    "    for cid in df['com_id'].unique():\n",
    "        sub = df[df['com_id'] == cid]\n",
    "        observed = list(sub['com_score'])[0]\n",
    "        expected = list(sub['replicate_score'])\n",
    "        expecteds[algo] += expected\n",
    "        l2r = log_2_ratio(observed,expected)\n",
    "        p = empircal_p(observed,expected)\n",
    "        l2r_p['algorithm'].append(algo)\n",
    "        l2r_p['cluster_id'].append(cid)\n",
    "        l2r_p['log2ratio'].append(l2r)\n",
    "        l2r_p['p-value'].append(p)\n",
    "        l2r_p['has_a_rediscovery'].append(observed > 0)\n",
    "        l2r_p['num_rediscoveries'].append(observed)\n",
    "l2r_p_df = pd.DataFrame(l2r_p)\n",
    "print(l2r_p_df.columns)\n",
    "print(l2r_p_df.shape)"
   ]
  },
  {
   "cell_type": "code",
   "execution_count": 53,
   "id": "b67f00ff",
   "metadata": {},
   "outputs": [
    {
     "name": "stdout",
     "output_type": "stream",
     "text": [
      "['greedy-paris' 'walktrap-paris' 'infomap-paris' 'cesna-paris']\n"
     ]
    }
   ],
   "source": [
    "og_df = l2r_p_df.copy()\n",
    "print(og_df['algorithm'].unique())"
   ]
  },
  {
   "attachments": {},
   "cell_type": "markdown",
   "id": "46b27eeb",
   "metadata": {},
   "source": [
    "#### Remove trivial clusters from the snowballing results"
   ]
  },
  {
   "cell_type": "code",
   "execution_count": 54,
   "id": "c176fd3f",
   "metadata": {},
   "outputs": [
    {
     "name": "stdout",
     "output_type": "stream",
     "text": [
      "          algorithm  cluster_id  log2ratio  p-value  has_a_rediscovery  \\\n",
      "0      greedy-paris           0        NaN      1.0              False   \n",
      "1      greedy-paris           1        NaN      1.0              False   \n",
      "2      greedy-paris           2        NaN      1.0              False   \n",
      "3      greedy-paris           3        NaN      1.0              False   \n",
      "4      greedy-paris           4        NaN      1.0              False   \n",
      "...             ...         ...        ...      ...                ...   \n",
      "34954   cesna-paris       28466        NaN      1.0              False   \n",
      "34955   cesna-paris       28467        NaN      1.0              False   \n",
      "34956   cesna-paris       28468        NaN      1.0              False   \n",
      "34957   cesna-paris       28469        NaN      1.0              False   \n",
      "34958   cesna-paris       28470        NaN      1.0              False   \n",
      "\n",
      "       num_rediscoveries  \n",
      "0                      0  \n",
      "1                      0  \n",
      "2                      0  \n",
      "3                      0  \n",
      "4                      0  \n",
      "...                  ...  \n",
      "34954                  0  \n",
      "34955                  0  \n",
      "34956                  0  \n",
      "34957                  0  \n",
      "34958                  0  \n",
      "\n",
      "[34959 rows x 6 columns]\n",
      "          algorithm  cluster_id  log2ratio  p-value  has_a_rediscovery  \\\n",
      "0      greedy-paris           0        NaN      1.0              False   \n",
      "1      greedy-paris           1        NaN      1.0              False   \n",
      "2      greedy-paris           2        NaN      1.0              False   \n",
      "3      greedy-paris           3        NaN      1.0              False   \n",
      "4      greedy-paris           4        NaN      1.0              False   \n",
      "...             ...         ...        ...      ...                ...   \n",
      "34954   cesna-paris       28466        NaN      1.0              False   \n",
      "34955   cesna-paris       28467        NaN      1.0              False   \n",
      "34956   cesna-paris       28468        NaN      1.0              False   \n",
      "34957   cesna-paris       28469        NaN      1.0              False   \n",
      "34958   cesna-paris       28470        NaN      1.0              False   \n",
      "\n",
      "       num_rediscoveries    algorithm2                     uid  \n",
      "0                      0  paris.greedy     paris.greedy.2020:0  \n",
      "1                      0  paris.greedy     paris.greedy.2020:1  \n",
      "2                      0  paris.greedy     paris.greedy.2020:2  \n",
      "3                      0  paris.greedy     paris.greedy.2020:3  \n",
      "4                      0  paris.greedy     paris.greedy.2020:4  \n",
      "...                  ...           ...                     ...  \n",
      "34954                  0   paris.cesna  paris.cesna.2020:28466  \n",
      "34955                  0   paris.cesna  paris.cesna.2020:28467  \n",
      "34956                  0   paris.cesna  paris.cesna.2020:28468  \n",
      "34957                  0   paris.cesna  paris.cesna.2020:28469  \n",
      "34958                  0   paris.cesna  paris.cesna.2020:28470  \n",
      "\n",
      "[34959 rows x 8 columns]\n",
      "3119\n",
      "['paris.greedy.2020:106', 'paris.greedy.2020:107', 'paris.greedy.2020:108', 'paris.greedy.2020:109', 'paris.greedy.2020:110', 'paris.greedy.2020:111', 'paris.greedy.2020:114', 'paris.greedy.2020:115', 'paris.greedy.2020:116', 'paris.greedy.2020:117', 'paris.greedy.2020:119', 'paris.greedy.2020:123', 'paris.greedy.2020:124', 'paris.greedy.2020:126', 'paris.greedy.2020:128']\n",
      "(34959, 8)\n",
      "(3119, 8)\n"
     ]
    }
   ],
   "source": [
    "l2r_p_df = og_df.copy()\n",
    "print(l2r_p_df)\n",
    "l2r_p_df['algorithm2'] = [ x.split('-')[1] + '.' + x.split('-')[0] for x in l2r_p_df['algorithm']]\n",
    "l2r_p_df['uid'] = l2r_p_df['algorithm2'] + '.2020:' + l2r_p_df['cluster_id'].astype(str)\n",
    "# l2r_p_df['uid'] = [ x.replace('-','.') for x in l2r_p_df['uid']]\n",
    "print(l2r_p_df)\n",
    "non_trivial_sub_coms = []\n",
    "for algo,subcoms_ittr in zip(['greedy','walktrap','infomap','cesna'],\n",
    "                             [g_subcoms_20,w_subcoms_20,i_subcoms_20,c_subcoms_20]):\n",
    "    for com in subcoms_ittr:\n",
    "        non_trivial_sub_coms.append('paris.{}.2020:{}'.format(algo,str(com.name)))\n",
    "\n",
    "print(len(non_trivial_sub_coms))\n",
    "print(non_trivial_sub_coms[0:15])\n",
    "print(l2r_p_df.shape)\n",
    "l2r_p_df = l2r_p_df[l2r_p_df['uid'].isin(non_trivial_sub_coms)]\n",
    "print(l2r_p_df.shape)"
   ]
  },
  {
   "attachments": {},
   "cell_type": "markdown",
   "id": "0bf77a3e",
   "metadata": {},
   "source": [
    "## Of the clusters that have atleast 1 rediscovery, what is the distribution of p-values?"
   ]
  },
  {
   "cell_type": "code",
   "execution_count": 60,
   "id": "ea021a89",
   "metadata": {},
   "outputs": [
    {
     "name": "stdout",
     "output_type": "stream",
     "text": [
      "total number of clusters with a rediscovery 524\n",
      "total number of non-trivial clusters 3119\n",
      "% with atleast 1 rediscovery 0.16800256492465535\n",
      "greedy-paris No rediscoveries\t 352\n",
      "greedy-paris Rediscoveries\t 89\n",
      "greedy-paris Total 441\n",
      "\n",
      "walktrap-paris No rediscoveries\t 64\n",
      "walktrap-paris Rediscoveries\t 39\n",
      "walktrap-paris Total 103\n",
      "\n",
      "infomap-paris No rediscoveries\t 210\n",
      "infomap-paris Rediscoveries\t 75\n",
      "infomap-paris Total 285\n",
      "\n",
      "cesna-paris No rediscoveries\t 1969\n",
      "cesna-paris Rediscoveries\t 321\n",
      "cesna-paris Total 2290\n",
      "\n"
     ]
    },
    {
     "data": {
      "image/png": "[encoded data removed]",
      "text/plain": [
       "<Figure size 504x504 with 4 Axes>"
      ]
     },
     "metadata": {},
     "output_type": "display_data"
    }
   ],
   "source": [
    "#print how many have and do not have rediscoveries\n",
    "print('total number of clusters with a rediscovery',l2r_p_df['has_a_rediscovery'].sum())\n",
    "# total number of clusters\n",
    "print('total number of non-trivial clusters', l2r_p_df.shape[0])\n",
    "print('% with atleast 1 rediscovery', l2r_p_df['has_a_rediscovery'].sum() / l2r_p_df.shape[0])\n",
    "fig, ax = plt.subplots(2,2)\n",
    "fig.set_size_inches(7, 7)\n",
    "letters = ['A','B','C','D']\n",
    "for i,algo in enumerate(l2r_p_df['algorithm'].unique()):\n",
    "    sub = l2r_p_df[l2r_p_df['algorithm'] == algo]\n",
    "    subsub = sub[sub['has_a_rediscovery'] == True]\n",
    "    print(algo, 'No rediscoveries\\t', sub.shape[0] - sub['has_a_rediscovery'].sum())\n",
    "    print(algo, 'Rediscoveries\\t', sub['has_a_rediscovery'].sum())\n",
    "    print(algo, 'Total', sub.shape[0])\n",
    "    print()\n",
    "    # specify bins for hist that are 0 - 1 by 0.05\n",
    "    # list(range(0,1.05,0.05))\n",
    "    ax[i//2,i%2].hist(subsub['p-value'], bins=20, range=(0,1))\n",
    "    ax[i//2,i%2].set_title(letters[i] + '                  ' + algo,loc='left',fontsize=std_fontsize)\n",
    "    ax[i//2,i%2].set_xlabel('p-value',fontsize=std_fontsize)\n",
    "    ax[i//2,i%2].set_ylabel('count',fontsize=std_fontsize)\n",
    "    # set x range 0 - 1\n",
    "    ax[i//2,i%2].set_xlim((0,1))\n",
    "    clear_ax(ax[i//2,i%2],bottom=True, left=True)\n",
    "plt.tight_layout()\n",
    "plt.savefig('../PublicationFigures/rediscovery_p_values.filtered.png',dpi=300)\n"
   ]
  },
  {
   "cell_type": "code",
   "execution_count": 59,
   "id": "d4325fb0",
   "metadata": {},
   "outputs": [
    {
     "name": "stdout",
     "output_type": "stream",
     "text": [
      "greedy-paris 182900\n",
      "walktrap-paris 80400\n",
      "infomap-paris 385500\n",
      "cesna-paris 2847100\n"
     ]
    },
    {
     "data": {
      "image/png": "[encoded data removed]",
      "text/plain": [
       "<Figure size 504x504 with 4 Axes>"
      ]
     },
     "metadata": {},
     "output_type": "display_data"
    }
   ],
   "source": [
    "for k in expecteds.keys():\n",
    "    print(k,len(expecteds[k]))\n",
    "\n",
    "fig, ax = plt.subplots(2,2)\n",
    "fig.set_size_inches(7, 7)\n",
    "letters = ['A','B','C','D']\n",
    "for i,algo in enumerate(l2r_p_df['algorithm'].unique()):\n",
    "    sub = l2r_p_df[l2r_p_df['algorithm'] == algo]\n",
    "    subsub = sub[sub['has_a_rediscovery'] == True]\n",
    "    ax[i//2,i%2].hist(subsub['num_rediscoveries'], bins=20)\n",
    "    ax[i//2,i%2].set_title(letters[i] + '                  ' + algo,loc='left',fontsize=std_fontsize)\n",
    "    ax[i//2,i%2].set_xlabel('number of rediscoveries',fontsize=std_fontsize)\n",
    "    ax[i//2,i%2].set_ylabel('count',fontsize=std_fontsize)\n",
    "    clear_ax(ax[i//2,i%2],bottom=True, left=True)\n",
    "plt.tight_layout()\n",
    "plt.savefig('../PublicationFigures/number_of_rediscoveries.filtered.png',dpi=300)\n"
   ]
  },
  {
   "attachments": {},
   "cell_type": "markdown",
   "id": "aee5c8a3",
   "metadata": {},
   "source": [
    "## Edge Uniqueness"
   ]
  },
  {
   "cell_type": "code",
   "execution_count": 24,
   "id": "1f431b03",
   "metadata": {
    "pycharm": {
     "name": "#%%\n"
    }
   },
   "outputs": [
    {
     "name": "stdout",
     "output_type": "stream",
     "text": [
      "17421\n",
      "walktrap-paris\n",
      "364\n",
      "infomap-paris\n",
      "222\n",
      "greedy-paris\n",
      "226\n",
      "cesna-paris\n",
      "540\n"
     ]
    }
   ],
   "source": [
    "# get a list of rediscoveries per algo\n",
    "def rediscover(edges,coms):\n",
    "    \"\"\"\n",
    "    @param edges: list of edges [[node1,node2],[node1,node3],..]\n",
    "    @param coms: list of BOCC objects\n",
    "    \"\"\"\n",
    "    rediscoveries = list()\n",
    "    for com in coms:\n",
    "        for edge in edges:\n",
    "            edge = list(edge)\n",
    "            if edge[0] in com.members and edge[1] in com.members:\n",
    "                edge.sort()\n",
    "                rediscoveries.append(str(edge))\n",
    "#                 print(com.name,edge)\n",
    "    return rediscoveries\n",
    "\n",
    "def rediscover_with_com_id(edges,coms):\n",
    "    \"\"\"\n",
    "    @param edges: list of edges [[node1,node2],[node1,node3],..]\n",
    "    @param coms: list of BOCC objects\n",
    "    \"\"\"\n",
    "    rediscoveries = list()\n",
    "    for com in coms:\n",
    "        for edge in edges:\n",
    "            edge = list(edge)\n",
    "            if edge[0] in com.members and edge[1] in com.members:\n",
    "                edge.sort()\n",
    "                rediscoveries.append([com.name,edge])\n",
    "                print(com.name,edge)\n",
    "    return rediscoveries\n",
    "\n",
    "g2p_edges_2022 = [e for e in G22.edges if sum('HP:' in x for x in e) == 1 and e not in G21.edges]\n",
    "print(len(g2p_edges_2022))\n",
    "clusters_dict_2021 = {}\n",
    "for f in os.listdir('../SubComs/2021/'):\n",
    "    if 'paris' not in f:\n",
    "        continue\n",
    "    tmp_coms = load_clusters('../SubComs/2021/' + f)\n",
    "    tmp_name = f.replace('.coms.txt','').replace('paris.','').replace('.2021','')\n",
    "    tmp_name += '-paris'\n",
    "    rediscover(g2p_edges_2022,tmp_coms)\n",
    "    clusters_dict_2021[tmp_name] = rediscover(g2p_edges_2022,tmp_coms)\n",
    "    print(tmp_name)\n",
    "    print(len(clusters_dict_2021[tmp_name]))"
   ]
  },
  {
   "cell_type": "code",
   "execution_count": 25,
   "id": "14f1a904",
   "metadata": {
    "pycharm": {
     "name": "#%%\n"
    }
   },
   "outputs": [
    {
     "name": "stdout",
     "output_type": "stream",
     "text": [
      "dict_keys(['walktrap-paris', 'infomap-paris', 'greedy-paris', 'cesna-paris'])\n",
      "(8, 3)\n"
     ]
    }
   ],
   "source": [
    "# calc data for uniqueness\n",
    "uniq_rediscovery = {'algo':[],'infotype':[],'count':[]}\n",
    "print(clusters_dict_2021.keys())\n",
    "for key in clusters_dict_2021.keys():\n",
    "    all_rediscoveries = list()\n",
    "    for key2 in clusters_dict_2021.keys():\n",
    "        if key == key2:\n",
    "            continue\n",
    "        # a list of all rediscoveries made by the other 3 algorithms\n",
    "        all_rediscoveries = all_rediscoveries + clusters_dict_2021[key2]\n",
    "    all_rediscoveries_set = set(all_rediscoveries)    \n",
    "    uniq_rediscovery['algo'].append(key)\n",
    "    uniq_rediscovery['infotype'].append('common')\n",
    "    uniq_rediscovery['count'].append(len([x for x in set(clusters_dict_2021[key]) if x in all_rediscoveries_set]))\n",
    "    common = uniq_rediscovery['count'][-1]\n",
    "    \n",
    "    uniq_rediscovery['algo'].append(key)\n",
    "    uniq_rediscovery['infotype'].append('unique')\n",
    "    uniq_rediscovery['count'].append(len([x for x in set(clusters_dict_2021[key]) if x not in all_rediscoveries_set]))\n",
    "    uniq = uniq_rediscovery['count'][-1]\n",
    "#     assert(common + uniq == uniq_self)\n",
    "\n",
    "uniq_rediscovery_df = pd.DataFrame(uniq_rediscovery)\n",
    "print(uniq_rediscovery_df.shape)\n",
    "# assert(uniq_rediscovery_df.shape[0] == 4 * 4)"
   ]
  },
  {
   "cell_type": "code",
   "execution_count": 26,
   "id": "5b2850b2",
   "metadata": {},
   "outputs": [
    {
     "name": "stdout",
     "output_type": "stream",
     "text": [
      "1.0\n",
      "greedy-paris 226.0\n",
      "0.7406340057636888\n",
      "walktrap-paris 347.0\n",
      "0.27927927927927926\n",
      "infomap-paris 222.0\n",
      "0.10714285714285714\n",
      "cesna-paris 504.0\n"
     ]
    },
    {
     "data": {
      "image/png": "[encoded data removed]",
      "text/plain": [
       "<Figure size 576x432 with 1 Axes>"
      ]
     },
     "metadata": {},
     "output_type": "display_data"
    }
   ],
   "source": [
    "# bar charts of uniqueness\n",
    "\n",
    "fig, axes = plt.subplots()\n",
    "fig.set_size_inches(8, 6)\n",
    "tick_names = []\n",
    "spaces = '    '\n",
    "\n",
    "for i,algo in enumerate(algos):\n",
    "    tick_names.append(algo)\n",
    "    sub = uniq_rediscovery_df[uniq_rediscovery_df['algo'] == algo]\n",
    "    common_count = sub[sub['infotype'] == 'common']['count']\n",
    "    unique_count = sub[sub['infotype'] != 'common']['count']\n",
    "    common_percent = float(common_count) / (float(common_count) + float(unique_count))\n",
    "    print(common_percent)\n",
    "    print(algo, float(common_count) + float(unique_count))\n",
    "    b1 = axes.barh(-i, common_percent, color=\"blue\")\n",
    "    b2 = axes.barh(-i, 1 - common_percent, left=common_percent, color=\"orange\")\n",
    "#     plt.text( common_percent / 2, i, 'common {}%'.format(round(common_percent,2)),fontsize=std_fontsize)\n",
    "clear_ax(axes,bottom=True)\n",
    "plt.yticks([-1*x for x in range(4)], tick_names, fontsize=std_fontsize)\n",
    "plt.xticks([0.00,.25,.5,.75,1.00], fontsize=std_fontsize)\n",
    "plt.xlabel('portion of rediscovered edges', fontsize=std_fontsize)\n",
    "common_patch = mpatches.Patch(color='blue', label='common')\n",
    "unique_patch = mpatches.Patch(color='orange', label='unique')\n",
    "plt.legend(handles=[common_patch, unique_patch], bbox_to_anchor=(1.1, 1), frameon=False, fontsize=std_fontsize)\n",
    "plt.tight_layout()\n",
    "plt.savefig('../PublicationFigures/rediscovery_comon_uniq_bars.png',dpi=300)\n",
    "plt.show() "
   ]
  },
  {
   "cell_type": "code",
   "execution_count": 27,
   "id": "3effed7b",
   "metadata": {},
   "outputs": [
    {
     "name": "stdout",
     "output_type": "stream",
     "text": [
      "             algo infotype  count\n",
      "0  walktrap-paris   common    257\n",
      "1  walktrap-paris   unique     90\n",
      "2   infomap-paris   common     62\n",
      "3   infomap-paris   unique    160\n",
      "4    greedy-paris   common    226\n",
      "5    greedy-paris   unique      0\n",
      "6     cesna-paris   common     54\n",
      "7     cesna-paris   unique    450\n",
      "common 599\n",
      "unique 700\n",
      "total 1299\n"
     ]
    }
   ],
   "source": [
    "# print(len(global_all_rediscoveries))\n",
    "# print(len(global_all_rediscoveries_set))\n",
    "print(uniq_rediscovery_df)\n",
    "print('common', uniq_rediscovery_df[uniq_rediscovery_df['infotype'] == 'common']['count'].sum())\n",
    "print('unique', uniq_rediscovery_df[uniq_rediscovery_df['infotype'] == 'unique']['count'].sum())\n",
    "print('total',uniq_rediscovery_df['count'].sum())"
   ]
  },
  {
   "attachments": {},
   "cell_type": "markdown",
   "id": "bd8e3969",
   "metadata": {},
   "source": [
    "## Up Set Plots\n",
    "https://upsetplot.readthedocs.io/en/stable/"
   ]
  },
  {
   "cell_type": "code",
   "execution_count": 28,
   "id": "e2535068",
   "metadata": {},
   "outputs": [
    {
     "name": "stdout",
     "output_type": "stream",
     "text": [
      "cesna-paris,greedy-paris,infomap-paris,walktrap-paris 3\n",
      ",greedy-paris,infomap-paris,walktrap-paris 33\n",
      ",cesna-paris,infomap-paris,walktrap-paris 5\n",
      ",,infomap-paris,walktrap-paris 49\n",
      ",cesna-paris,greedy-paris,walktrap-paris 24\n",
      ",,greedy-paris,walktrap-paris 226\n",
      ",,cesna-paris,walktrap-paris 41\n",
      ",,,walktrap-paris 347\n",
      ",cesna-paris,greedy-paris,infomap-paris 3\n",
      ",,greedy-paris,infomap-paris 33\n",
      ",,cesna-paris,infomap-paris 18\n",
      ",,,infomap-paris 222\n",
      ",,cesna-paris,greedy-paris 24\n",
      ",,,greedy-paris 226\n",
      ",,,cesna-paris 504\n"
     ]
    },
    {
     "data": {
      "image/png": "[encoded data removed]",
      "text/plain": [
       "<Figure size 672x320 with 4 Axes>"
      ]
     },
     "metadata": {},
     "output_type": "display_data"
    }
   ],
   "source": [
    "# print(clusters_dict_2021.keys())\n",
    "# print(clusters_dict_2021[tmp_name])\n",
    "\n",
    "def remove_items(test_list, item):\n",
    " \n",
    "    # using list comprehension to perform the task\n",
    "    res = [i for i in test_list if i != item]\n",
    " \n",
    "    return res\n",
    "\n",
    "plt_categories = []\n",
    "plt_counts = []\n",
    "upset_plot_results = {}\n",
    "keys = list(clusters_dict_2021.keys()) + ['']\n",
    "for key1 in list(clusters_dict_2021.keys()):\n",
    "    set1 = set(clusters_dict_2021[key1])\n",
    "    for key2 in keys:\n",
    "        if key2 != '':\n",
    "            set2 = set(clusters_dict_2021[key2])\n",
    "            s12 = set2.intersection(set1)\n",
    "        else:\n",
    "            s12 = set1\n",
    "        for key3 in keys:\n",
    "            if key3 != '':\n",
    "                set3 = set(clusters_dict_2021[key3])\n",
    "                s123 = s12.intersection(set3)\n",
    "            else:\n",
    "                s123 = s12\n",
    "            for key4 in keys:\n",
    "                if key4 != '':\n",
    "                    set4 = set(clusters_dict_2021[key4])\n",
    "                    s1234 = s123.intersection(set4)\n",
    "                else:\n",
    "                    s1234 = s123\n",
    "                these_keys = [key1,key2,key3,key4]\n",
    "                these_keys2 = these_keys\n",
    "                if '' in these_keys2:\n",
    "                    these_keys2 = remove_items(these_keys2, '')\n",
    "                if len(these_keys2) != len(set(these_keys2)):\n",
    "                    continue\n",
    "                these_keys.sort()\n",
    "                if ','.join(these_keys) in upset_plot_results:\n",
    "                    continue\n",
    "                upset_plot_results[','.join(these_keys)] = len(s1234)\n",
    "                plt_categories.append(these_keys2)\n",
    "                plt_counts.append(len(s1234))\n",
    "                    \n",
    "for k in upset_plot_results.keys():\n",
    "    print(k, upset_plot_results[k])\n",
    "\n",
    "example = from_memberships(plt_categories,data=plt_counts)\n",
    "plot(example)\n",
    "plt.savefig('../PublicationFigures/upsetplot.png',dpi=300)"
   ]
  },
  {
   "attachments": {},
   "cell_type": "markdown",
   "id": "14eb2507",
   "metadata": {},
   "source": [
    "## Drug discovery g2p downsampling"
   ]
  },
  {
   "cell_type": "code",
   "execution_count": 29,
   "id": "623f673d",
   "metadata": {},
   "outputs": [],
   "source": [
    "# function to read in edge list \n",
    "def read_edgelist(filename):\n",
    "    edges = []\n",
    "    with open(filename) as infile:\n",
    "        for line in infile:\n",
    "            edge = line.strip().split('\\t')\n",
    "            edges.append(edge)\n",
    "    return edges\n",
    "\n",
    "# function to count the number of times each gene is in the list\n",
    "def count_genes(edges):\n",
    "    gene_counts = {}\n",
    "    for edge in edges:\n",
    "        gene = edge[1]\n",
    "        if gene not in gene_counts:\n",
    "            gene_counts[gene] = 0\n",
    "        gene_counts[gene] += 1\n",
    "    return gene_counts\n",
    "\n",
    "# function to plot a histogram of the gene counts\n",
    "def get_gene_counts_hist_bins(gene_counts):\n",
    "    bs = plt.hist(gene_counts.values(),bins=100)\n",
    "    plt.clf()\n",
    "    return bs\n",
    "\n",
    "# function to sample a gene_count dict to match the bins returned from plot_gene_counts\n",
    "def sample_to_match_bins(gene_counts,bs):\n",
    "    # set the random seed\n",
    "    np.random.seed(0)\n",
    "    # get the bin edges\n",
    "    bin_edges = bs[1]\n",
    "    # get the bin counts\n",
    "    bin_counts = bs[0]\n",
    "    # get the bin centers\n",
    "\n",
    "    # sample the gene counts to match the bin counts\n",
    "    sampled_gene_counts = {}\n",
    "    for i in range(len(bin_edges)-1):\n",
    "        # get the number of genes in the bin\n",
    "        num_genes = bin_counts[i]\n",
    "        # get the number of phenotypes in the bin\n",
    "        num_phenotypes = bin_counts[i]\n",
    "        # get the genes in the bin\n",
    "        genes_in_bin = [g for g in gene_counts.keys() if gene_counts[g] >= bin_edges[i] and gene_counts[g] < bin_edges[i+1]]\n",
    "        print(len(genes_in_bin))\n",
    "        # sample the genes in the bin to match the bin count\n",
    "        # print(genes_in_bin)\n",
    "        # print(num_genes)\n",
    "        sampled_genes = np.random.choice(genes_in_bin,size=int(num_genes),replace=False)\n",
    "        # add the sampled genes to the sampled_gene_counts dict\n",
    "        for g in sampled_genes:\n",
    "            sampled_gene_counts[g] = gene_counts[g]\n",
    "    return sampled_gene_counts\n",
    "\n",
    "# function to remove top and right border form an axis\n",
    "def remove_top_right_border(ax):\n",
    "    ax.spines['top'].set_visible(False)\n",
    "    ax.spines['right'].set_visible(False)\n",
    "\n",
    "# function to plot 3 histograms of the gene counts, each in their own axis\n",
    "def plot_3_gene_counts(gene_counts1,gene_counts2,gene_counts3,figname):\n",
    "    # get the number of phenotypes in each gene_counts dict\n",
    "    num_phenotypes1 = sum(gene_counts1.values())\n",
    "    num_phenotypes2 = sum(gene_counts2.values())\n",
    "    num_phenotypes3 = sum(gene_counts3.values())\n",
    "    # plot the histograms\n",
    "    fig, axs = plt.subplots(1,3)\n",
    "    fig.set_size_inches(18, 6)\n",
    "    axs[0].hist(gene_counts1.values(),bins=100)\n",
    "    axs[0].set_xlabel('number of phenotypes per gene',fontsize=std_fontsize)\n",
    "    axs[0].set_ylabel('count',fontsize=std_fontsize)\n",
    "    axs[0].set_title('A                             # edges={}'.format(str(num_phenotypes1)),loc='left',fontsize=std_fontsize)\n",
    "    axs[1].hist(gene_counts2.values(),bins=100)\n",
    "    axs[1].set_xlabel('number of phenotypes per gene',fontsize=std_fontsize)\n",
    "    axs[1].set_ylabel('count',fontsize=std_fontsize)\n",
    "    axs[1].set_title('B                             # edges={}'.format(str(num_phenotypes2)),loc='left',fontsize=std_fontsize)\n",
    "    axs[2].hist(gene_counts3.values(),bins=100)\n",
    "    axs[2].set_xlabel('number of phenotypes per gene',fontsize=std_fontsize)\n",
    "    axs[2].set_ylabel('count',fontsize=std_fontsize)\n",
    "    axs[2].set_title('C                             # edges={}'.format(str(num_phenotypes3)),loc='left',fontsize=std_fontsize)\n",
    "    remove_top_right_border(axs[0])\n",
    "    remove_top_right_border(axs[1])\n",
    "    remove_top_right_border(axs[2])\n",
    "    plt.savefig(figname)\n",
    "    plt.show()\n",
    "\n",
    "# function to selecte the edges related to genes from the gene_counts dict and write them to a file\n",
    "def select_edges(edges,gene_counts,outfile):\n",
    "    # get the genes from the gene_counts dict\n",
    "    genes = gene_counts.keys()\n",
    "    # open the output file\n",
    "    with open(outfile,'w') as out:\n",
    "        # loop over the edges\n",
    "        for edge in edges:\n",
    "            # get the gene\n",
    "            gene = edge[1]\n",
    "            # check if the gene is in the gene_counts dict\n",
    "            if gene in genes:\n",
    "                # write the edge to the output file\n",
    "                out.write('\\t'.join(edge)+'\\n')"
   ]
  },
  {
   "cell_type": "code",
   "execution_count": 30,
   "id": "6bffd381",
   "metadata": {},
   "outputs": [
    {
     "name": "stdout",
     "output_type": "stream",
     "text": [
      "9660\n",
      "3147\n",
      "3234\n",
      "1164\n",
      "960\n",
      "1005\n",
      "754\n",
      "825\n",
      "708\n",
      "570\n",
      "593\n",
      "524\n",
      "493\n",
      "375\n",
      "291\n",
      "477\n",
      "452\n",
      "538\n",
      "405\n",
      "312\n",
      "330\n",
      "277\n",
      "268\n",
      "281\n",
      "220\n",
      "320\n",
      "236\n",
      "285\n",
      "311\n",
      "238\n",
      "273\n",
      "247\n",
      "229\n",
      "277\n",
      "382\n",
      "326\n",
      "303\n",
      "338\n",
      "414\n",
      "316\n",
      "354\n",
      "377\n",
      "354\n",
      "391\n",
      "362\n",
      "323\n",
      "430\n",
      "377\n",
      "438\n",
      "370\n",
      "389\n",
      "487\n",
      "378\n",
      "451\n",
      "413\n",
      "362\n",
      "439\n",
      "359\n",
      "433\n",
      "373\n",
      "328\n",
      "344\n",
      "319\n",
      "288\n",
      "371\n",
      "297\n",
      "294\n",
      "252\n",
      "232\n",
      "244\n",
      "198\n",
      "218\n",
      "177\n",
      "156\n",
      "163\n",
      "136\n",
      "140\n",
      "87\n",
      "91\n",
      "105\n",
      "78\n",
      "77\n",
      "82\n",
      "77\n",
      "66\n",
      "48\n",
      "54\n",
      "53\n",
      "36\n",
      "43\n",
      "30\n",
      "29\n",
      "35\n",
      "30\n",
      "25\n",
      "27\n",
      "17\n",
      "26\n",
      "14\n",
      "22\n"
     ]
    },
    {
     "data": {
      "text/plain": [
       "<Figure size 432x288 with 0 Axes>"
      ]
     },
     "metadata": {},
     "output_type": "display_data"
    }
   ],
   "source": [
    "#g2p_Edgelists/String_HPO_2022.phenotypic_branch.g2p_edgelist.txt Resources/new_drug_edges.txt Figures/drug_inferred_p_per_g.png\n",
    "edges1 = read_edgelist('../g2p_Edgelists/String_HPO_2022.phenotypic_branch.g2p_edgelist.txt')\n",
    "edges2 = read_edgelist('../Resources/new_drug_edges.txt')\n",
    "# count the number of times each gene is in the list\n",
    "gene_counts1 = count_genes(edges1)\n",
    "gene_counts2 = count_genes(edges2)\n",
    "# plot a histogram of the gene counts\n",
    "bs1 = get_gene_counts_hist_bins(gene_counts1)\n",
    "bs2 = get_gene_counts_hist_bins(gene_counts2)\n",
    "# sample the gene counts to match the bins returned from plot_gene_counts\n",
    "sampled_gene_counts = sample_to_match_bins(gene_counts2,bs1)\n",
    "# plot 3 histograms of the gene counts, each in their own axis\n",
    "# plot_3_gene_counts(gene_counts2,gene_counts1,sampled_gene_counts,'../Figures/drug_inferred_p_per_g.png')\n",
    "select_edges(edges2,sampled_gene_counts,'../Resources/new_drug_edges_sampled.txt')"
   ]
  },
  {
   "cell_type": "code",
   "execution_count": 31,
   "id": "1f5c0b7e",
   "metadata": {},
   "outputs": [
    {
     "data": {
      "image/png": "[encoded data removed]",
      "text/plain": [
       "<Figure size 1296x432 with 3 Axes>"
      ]
     },
     "metadata": {},
     "output_type": "display_data"
    }
   ],
   "source": [
    "plot_3_gene_counts(gene_counts2,gene_counts1,sampled_gene_counts,'../PublicationFigures/drug_inferred_p_per_g.png')"
   ]
  },
  {
   "attachments": {},
   "cell_type": "markdown",
   "id": "8af921f5",
   "metadata": {},
   "source": [
    "## Rediscoveries year after year"
   ]
  },
  {
   "cell_type": "code",
   "execution_count": 32,
   "id": "d4eceb48",
   "metadata": {},
   "outputs": [],
   "source": [
    "# load 2019 coms\n",
    "g_subcoms_19 = load_clusters('../SubComs/2019/paris.greedy.2019.coms.txt')\n",
    "w_subcoms_19 = load_clusters('../SubComs/2019/paris.walktrap.2019.coms.txt')\n",
    "i_subcoms_19 = load_clusters('../SubComs/2019/paris.infomap.2019.coms.txt')\n",
    "c_subcoms_19 = load_clusters('../SubComs/2019/paris.cesna.2019.coms.txt')"
   ]
  },
  {
   "cell_type": "code",
   "execution_count": 33,
   "id": "7080f995",
   "metadata": {},
   "outputs": [
    {
     "name": "stdout",
     "output_type": "stream",
     "text": [
      "1479\n",
      "47812\n",
      "43030\n",
      "37899\n",
      "15093\n"
     ]
    }
   ],
   "source": [
    "def get_possible_pairs_from_com(coms,_G):\n",
    "    # this function returns a list of all possible pairings of genes and phenotypes in all clusters - regardless of if they exist or not\n",
    "    pairs = set()\n",
    "    for com in coms:\n",
    "        genes = [x for x in com.members if 'HP:' not in x]\n",
    "        hpos = [x for x in com.members if 'HP:' in x]\n",
    "#         print('HPOs',len(hpos))\n",
    "#         print('Genes',len(genes))\n",
    "        for g in genes:\n",
    "            for h in hpos:\n",
    "                if _G.has_edge(g,h):\n",
    "                    continue\n",
    "                p=[g,h]\n",
    "                p.sort()\n",
    "                pairs.add(str(p))\n",
    "    return pairs\n",
    "\n",
    "g_subcoms_19_pairs = get_possible_pairs_from_com(g_subcoms_19,G19)\n",
    "w_subcoms_19_pairs = get_possible_pairs_from_com(w_subcoms_19,G19)\n",
    "i_subcoms_19_pairs = get_possible_pairs_from_com(i_subcoms_19,G19)\n",
    "c_subcoms_19_pairs = get_possible_pairs_from_com(c_subcoms_19,G19)\n",
    "print(len(g_subcoms_19))\n",
    "print(len(g_subcoms_19_pairs))\n",
    "print(len(w_subcoms_19_pairs))\n",
    "print(len(i_subcoms_19_pairs))\n",
    "print(len(c_subcoms_19_pairs))"
   ]
  },
  {
   "cell_type": "code",
   "execution_count": 34,
   "id": "2ea36c01",
   "metadata": {},
   "outputs": [
    {
     "name": "stdout",
     "output_type": "stream",
     "text": [
      "170892\n",
      "197926\n",
      "210413\n",
      "130314\n",
      "158358\n",
      "171489\n",
      "Number of possible new edges 2021 v 2022 31838\n"
     ]
    }
   ],
   "source": [
    "def load_new_edges(el):\n",
    "    pairs = set()\n",
    "    for line in open(el,'r'):\n",
    "        row = line.strip().split('\\t')\n",
    "        row.sort()\n",
    "        pairs.add(str(row))\n",
    "    return pairs\n",
    "\n",
    "new_19_pairs = load_new_edges('../g2p_Edgelists/String_HPO_2019.phenotypic_branch.g2p_edgelist.txt')\n",
    "new_20_pairs = load_new_edges('../g2p_Edgelists/String_HPO_2020.phenotypic_branch.g2p_edgelist.txt')\n",
    "new_21_pairs = load_new_edges('../g2p_Edgelists/String_HPO_2021.phenotypic_branch.g2p_edgelist.txt')\n",
    "new_22_pairs = load_new_edges('../g2p_Edgelists/String_HPO_2022.phenotypic_branch.g2p_edgelist.txt')\n",
    "print(len(new_20_pairs))\n",
    "print(len(new_21_pairs))\n",
    "print(len(new_22_pairs))\n",
    "\n",
    "# remove edges that are in 19 already\n",
    "new_20_pairs = set([x for x in new_20_pairs if x not in new_19_pairs])\n",
    "new_21_pairs = set([x for x in new_21_pairs if x not in new_19_pairs])\n",
    "new_22_pairs = set([x for x in new_22_pairs if x not in new_19_pairs])\n",
    "\n",
    "print(len(new_20_pairs))\n",
    "print(len(new_21_pairs))\n",
    "print(len(new_22_pairs))\n",
    "\n",
    "new_21_vs_20_pairs = [x for x in new_21_pairs if x not in new_20_pairs]\n",
    "print('Number of possible new edges 2021 v 2022', len(new_21_vs_20_pairs))\n"
   ]
  },
  {
   "cell_type": "code",
   "execution_count": 35,
   "id": "46a665ad",
   "metadata": {},
   "outputs": [
    {
     "name": "stdout",
     "output_type": "stream",
     "text": [
      "total possible number of rediscoveries 143834\n",
      "\n",
      "\n",
      "\n",
      "\n",
      "Total number of rediscoveries\n",
      "greedy 20 241\n",
      "greedy 21 306\n",
      "greedy 22 327\n",
      "walktrap 20 236\n",
      "walktrap 21 321\n",
      "walktrap 22 347\n",
      "infomap 20 222\n",
      "infomap 21 297\n",
      "infomap 22 318\n",
      "cesna 20 263\n",
      "cesna 21 443\n",
      "cesna 22 495\n",
      "\n",
      "total 20 962\n",
      "total 21 1367\n",
      "total 22 1487\n",
      "1011\n",
      "1107\n",
      "total unique rediscoveries in 19v21 and 19v22 1125\n",
      "\n",
      "\n",
      "\n",
      "\n",
      "% edge new edges that were rediscovered\n",
      "greedy 20 0.002\n",
      "greedy 21 0.002\n",
      "greedy 22 0.002\n",
      "walktrap 20 0.002\n",
      "walktrap 21 0.002\n",
      "walktrap 22 0.002\n",
      "infomap 20 0.002\n",
      "infomap 21 0.002\n",
      "infomap 22 0.002\n",
      "cesna 20 0.002\n",
      "cesna 21 0.003\n",
      "cesna 22 0.003\n",
      "\n",
      "\n",
      "\n",
      "\n",
      "Average number of rediscoveries per cluster\n",
      "greedy 20 0.163\n",
      "greedy 21 0.207\n",
      "greedy 22 0.221\n",
      "walktrap 20 0.16\n",
      "walktrap 21 0.217\n",
      "walktrap 22 0.235\n",
      "infomap 20 0.15\n",
      "infomap 21 0.201\n",
      "infomap 22 0.215\n",
      "cesna 20 0.178\n",
      "cesna 21 0.3\n",
      "cesna 22 0.335\n"
     ]
    }
   ],
   "source": [
    "def rediscover(pairs, el_pairs):\n",
    "    # find the intersection\n",
    "    return pairs.intersection(el_pairs)\n",
    "\n",
    "g_re_19_on_20 = rediscover(g_subcoms_19_pairs, new_20_pairs)\n",
    "g_re_19_on_21 = rediscover(g_subcoms_19_pairs, new_21_pairs)\n",
    "g_re_19_on_22 = rediscover(g_subcoms_19_pairs, new_22_pairs)\n",
    "\n",
    "w_re_19_on_20 = rediscover(w_subcoms_19_pairs, new_20_pairs)\n",
    "w_re_19_on_21 = rediscover(w_subcoms_19_pairs, new_21_pairs)\n",
    "w_re_19_on_22 = rediscover(w_subcoms_19_pairs, new_22_pairs)\n",
    "\n",
    "i_re_19_on_20 = rediscover(i_subcoms_19_pairs, new_20_pairs)\n",
    "i_re_19_on_21 = rediscover(i_subcoms_19_pairs, new_21_pairs)\n",
    "i_re_19_on_22 = rediscover(i_subcoms_19_pairs, new_22_pairs)\n",
    "\n",
    "c_re_19_on_20 = rediscover(c_subcoms_19_pairs, new_20_pairs)\n",
    "c_re_19_on_21 = rediscover(c_subcoms_19_pairs, new_21_pairs)\n",
    "c_re_19_on_22 = rediscover(c_subcoms_19_pairs, new_22_pairs)\n",
    "\n",
    "\n",
    "print('total possible number of rediscoveries', len(w_subcoms_19_pairs) + len(g_subcoms_19_pairs) +len(i_subcoms_19_pairs) +len(c_subcoms_19_pairs))\n",
    "\n",
    "print('\\n\\n\\n')\n",
    "print('Total number of rediscoveries')\n",
    "print('greedy 20', len(g_re_19_on_20))\n",
    "print('greedy 21', len(g_re_19_on_21))\n",
    "print('greedy 22', len(g_re_19_on_22))\n",
    "print('walktrap 20',len(w_re_19_on_20))\n",
    "print('walktrap 21',len(w_re_19_on_21))\n",
    "print('walktrap 22',len(w_re_19_on_22))\n",
    "print('infomap 20',len(i_re_19_on_20))\n",
    "print('infomap 21',len(i_re_19_on_21))\n",
    "print('infomap 22',len(i_re_19_on_22))\n",
    "print('cesna 20',len(c_re_19_on_20))\n",
    "print('cesna 21',len(c_re_19_on_21))\n",
    "print('cesna 22',len(c_re_19_on_22))\n",
    "print()\n",
    "print('total 20',len(c_re_19_on_20) + len(g_re_19_on_20) + len(w_re_19_on_20) + len(i_re_19_on_20))\n",
    "print('total 21',len(c_re_19_on_21) + len(g_re_19_on_21) + len(w_re_19_on_21) + len(i_re_19_on_21))\n",
    "print('total 22',len(c_re_19_on_22) + len(g_re_19_on_22) + len(w_re_19_on_22) + len(i_re_19_on_22))\n",
    "unique_19_21 = c_re_19_on_21.union(g_re_19_on_21).union(i_re_19_on_21).union(w_re_19_on_21)\n",
    "unique_19_22 = c_re_19_on_22.union(g_re_19_on_22).union(i_re_19_on_22).union(w_re_19_on_22)\n",
    "print(len(unique_19_21))\n",
    "print(len(unique_19_22))\n",
    "print('total unique rediscoveries in 19v21 and 19v22',len(unique_19_22.union(unique_19_21)))\n",
    "\n",
    "print('\\n\\n\\n')\n",
    "print('% edge new edges that were rediscovered')\n",
    "print('greedy 20', round(len(g_re_19_on_20) / len(new_20_pairs),3))\n",
    "print('greedy 21', round(len(g_re_19_on_21) / len(new_21_pairs),3))\n",
    "print('greedy 22', round(len(g_re_19_on_22) / len(new_22_pairs),3))\n",
    "print('walktrap 20',round(len(w_re_19_on_20) / len(new_20_pairs),3))\n",
    "print('walktrap 21',round(len(w_re_19_on_21) / len(new_21_pairs),3))\n",
    "print('walktrap 22',round(len(w_re_19_on_22) / len(new_22_pairs),3))\n",
    "print('infomap 20',round(len(i_re_19_on_20) / len(new_20_pairs),3))\n",
    "print('infomap 21',round(len(i_re_19_on_21) / len(new_21_pairs),3))\n",
    "print('infomap 22',round(len(i_re_19_on_22) / len(new_22_pairs),3))\n",
    "print('cesna 20',round(len(c_re_19_on_20) / len(new_20_pairs),3))\n",
    "print('cesna 21',round(len(c_re_19_on_21) / len(new_21_pairs),3))\n",
    "print('cesna 22',round(len(c_re_19_on_22) / len(new_22_pairs),3))\n",
    "\n",
    "print('\\n\\n\\n')\n",
    "print('Average number of rediscoveries per cluster')\n",
    "print('greedy 20', round(len(g_re_19_on_20) / len(g_subcoms_19),3))\n",
    "print('greedy 21', round(len(g_re_19_on_21) / len(g_subcoms_19),3))\n",
    "print('greedy 22', round(len(g_re_19_on_22) / len(g_subcoms_19),3))\n",
    "print('walktrap 20',round(len(w_re_19_on_20) / len(g_subcoms_19),3))\n",
    "print('walktrap 21',round(len(w_re_19_on_21) / len(g_subcoms_19),3))\n",
    "print('walktrap 22',round(len(w_re_19_on_22) / len(g_subcoms_19),3))\n",
    "print('infomap 20',round(len(i_re_19_on_20) / len(g_subcoms_19),3))\n",
    "print('infomap 21',round(len(i_re_19_on_21) / len(g_subcoms_19),3))\n",
    "print('infomap 22',round(len(i_re_19_on_22) / len(g_subcoms_19),3))\n",
    "print('cesna 20',round(len(c_re_19_on_20) / len(g_subcoms_19),3))\n",
    "print('cesna 21',round(len(c_re_19_on_21) / len(g_subcoms_19),3))\n",
    "print('cesna 22',round(len(c_re_19_on_22) / len(g_subcoms_19),3))"
   ]
  },
  {
   "attachments": {},
   "cell_type": "markdown",
   "id": "047caeb6",
   "metadata": {},
   "source": [
    "## Classification Genetic Algorithm"
   ]
  },
  {
   "cell_type": "code",
   "execution_count": 7,
   "id": "7fb4b1fd",
   "metadata": {},
   "outputs": [
    {
     "name": "stdout",
     "output_type": "stream",
     "text": [
      "     gen  nevals   fitness  fitness_std  fitness_max  fitness_min  threshold\n",
      "0      0      40  0.645337     0.018163     0.689212     0.615530        0.1\n",
      "1      1      80  0.663855     0.014699     0.692178     0.627503        0.1\n",
      "2      2      80  0.677471     0.009560     0.693959     0.658170        0.1\n",
      "3      3      80  0.687738     0.009020     0.704773     0.671678        0.1\n",
      "4      4      80  0.695962     0.008494     0.705315     0.671678        0.1\n",
      "..   ...     ...       ...          ...          ...          ...        ...\n",
      "399   96      80  0.759891     0.006729     0.762253     0.731753        1.0\n",
      "400   97      80  0.761464     0.003489     0.762253     0.743879        1.0\n",
      "401   98      80  0.759703     0.006493     0.762253     0.735248        1.0\n",
      "402   99      80  0.760669     0.005237     0.762253     0.739398        1.0\n",
      "403  100      80  0.761738     0.002259     0.762253     0.750926        1.0\n",
      "\n",
      "[404 rows x 7 columns]\n"
     ]
    },
    {
     "data": {
      "image/png": "[encoded data removed]",
      "text/plain": [
       "<Figure size 432x288 with 1 Axes>"
      ]
     },
     "metadata": {
      "needs_background": "light"
     },
     "output_type": "display_data"
    }
   ],
   "source": [
    "# just_regression_genetic_algo.tsv\n",
    "gaoregress = pd.read_csv('../train_19_20_genetic_algo_outputs.txt', sep='\\t',comment='#')\n",
    "print(gaoregress)\n",
    "\n",
    "for t in [1.00,0.35,0.10,0.05]:\n",
    "    sub = gaoregress[gaoregress['threshold'] == t]\n",
    "    plt.plot(sub['gen'], sub['fitness'], label=t)\n",
    "plt.xlabel('Generation')\n",
    "plt.ylabel('Fitness - F1')\n",
    "plt.title('p=40, g=100')\n",
    "# remove top and right spines\n",
    "ax = plt.gca()\n",
    "ax.spines['right'].set_visible(False)\n",
    "ax.spines['top'].set_visible(False)\n",
    "plt.legend(loc='lower right')\n",
    "plt.tight_layout()\n",
    "plt.savefig('../Figures/train_19_20_genetic_algo_outputs.png',dpi=300)\n",
    "plt.show()"
   ]
  }
 ],
 "metadata": {
  "kernelspec": {
   "display_name": "Python 3 (ipykernel)",
   "language": "python",
   "name": "python3"
  },
  "language_info": {
   "codemirror_mode": {
    "name": "ipython",
    "version": 3
   },
   "file_extension": ".py",
   "mimetype": "text/x-python",
   "name": "python",
   "nbconvert_exporter": "python",
   "pygments_lexer": "ipython3",
   "version": "3.10.4"
  }
 },
 "nbformat": 4,
 "nbformat_minor": 5
}
