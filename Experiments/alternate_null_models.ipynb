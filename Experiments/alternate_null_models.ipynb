{
 "cells": [
  {
   "cell_type": "code",
   "execution_count": 25,
   "id": "958871f4",
   "metadata": {},
   "outputs": [],
   "source": [
    "import networkx as nx\n",
    "import matplotlib.pyplot as plt\n",
    "import obonet\n",
    "import BOCC\n",
    "import pandas as pd\n",
    "import numpy as np\n",
    "import math\n",
    "from webweb import Web\n",
    "import os\n",
    "import seaborn as sns\n",
    "from BOCC import BOCC, load_clusters\n",
    "from PIL import Image\n",
    "from PIL import ImageDraw\n",
    "from PIL import ImageFont\n",
    "import typing\n",
    "import matplotlib.patches as mpatches\n",
    "from upsetplot import from_memberships\n",
    "from upsetplot import plot\n",
    "import random\n",
    "import pickle\n",
    "\n",
    "\n",
    "std_fontsize = 12"
   ]
  },
  {
   "cell_type": "code",
   "execution_count": 26,
   "id": "214b3809",
   "metadata": {},
   "outputs": [],
   "source": [
    "G19 = nx.read_edgelist('../Edgelists/String_HPO_2019.phenotypic_branch.edgelist.txt')\n",
    "G20 = nx.read_edgelist('../Edgelists/String_HPO_2020.phenotypic_branch.edgelist.txt')\n",
    "G21 = nx.read_edgelist('../Edgelists/String_HPO_2021.phenotypic_branch.edgelist.txt')\n",
    "G22 = nx.read_edgelist('../Edgelists/String_HPO_2022.phenotypic_branch.edgelist.txt')\n",
    "\n",
    "def remove_trivial_coms(coms):\n",
    "    keepers = []\n",
    "    for c in coms:\n",
    "        if len(c.members) > 2 and len(c.get_genes()) > 0 and len(c.get_genes()) != len(c.members):\n",
    "            keepers.append(c)\n",
    "    return keepers\n",
    "\n",
    "g_subcoms = load_clusters('../SubComs/2019/paris.greedy.2019.coms.txt')\n",
    "g_subcoms = remove_trivial_coms(g_subcoms)"
   ]
  },
  {
   "cell_type": "code",
   "execution_count": 27,
   "id": "ecc9951f",
   "metadata": {},
   "outputs": [],
   "source": [
    "def get_possible_pairs_from_com(coms,G):\n",
    "    # this function returns a list of all possible pairings of genes and phenotypes in all clusters - regardless of if they exist or not\n",
    "    pairs = []\n",
    "    for com in coms:\n",
    "        pairs.append(set())\n",
    "        genes = [x for x in com.members if 'HP:' not in x]\n",
    "        hpos = [x for x in com.members if 'HP:' in x]\n",
    "#         print('HPOs',len(hpos))\n",
    "#         print('Genes',len(genes))\n",
    "        for g in genes:\n",
    "            for h in hpos:\n",
    "                p=[g,h]\n",
    "                # check if p in in G\n",
    "                if G.has_edge(p[0],p[1]):\n",
    "                    continue\n",
    "                p.sort()\n",
    "                pairs[-1].add(str(p))\n",
    "    return pairs\n",
    "\n",
    "def get_possible_pairs_from_com_non_bocc(com,G):\n",
    "    # this function returns a list of all possible pairings of genes and phenotypes in all clusters - regardless of if they exist or not\n",
    "    pairs = set()\n",
    "    genes = [x for x in com if 'HP:' not in x]\n",
    "    hpos = [x for x in com if 'HP:' in x]\n",
    "#         print('HPOs',len(hpos))\n",
    "#         print('Genes',len(genes))\n",
    "    for g in genes:\n",
    "        for h in hpos:\n",
    "            p=[g,h]\n",
    "            # check if p in in G\n",
    "            if G.has_edge(p[0],p[1]):\n",
    "                continue\n",
    "            p.sort()\n",
    "            pairs.add(str(p))\n",
    "    return pairs\n",
    "\n",
    "def load_new_edges(el,G):\n",
    "    pairs = set()\n",
    "    for line in open(el,'r'):\n",
    "        row = line.strip().split('\\t')\n",
    "        row.sort()\n",
    "        if G.has_edge(row[0],row[1]):\n",
    "            continue\n",
    "        pairs.add(str(row))\n",
    "    return pairs\n",
    "\n",
    "# load new edges but shuffle them\n",
    "def load_new_edges_shuffled(el, seed=None):\n",
    "    pairs = set()\n",
    "    genes = []\n",
    "    hpos = []\n",
    "    rows = 0\n",
    "    for line in open(el,'r'):\n",
    "        row = line.strip().split('\\t')\n",
    "        # add the HPO term to the list of HPO terms\n",
    "        if 'HP:' in row[0]:\n",
    "            hpos.append(row[0])\n",
    "            genes.append(row[1])\n",
    "        else:\n",
    "            genes.append(row[0])\n",
    "            hpos.append(row[1])\n",
    "        rows += 1\n",
    "    # shuffle the genes and hpos\n",
    "    np.random.seed(seed)\n",
    "    np.random.shuffle(genes)\n",
    "    np.random.shuffle(hpos)\n",
    "    # create the pairs\n",
    "    for i in range(len(genes)):\n",
    "        p = [genes[i],hpos[i]]\n",
    "        p.sort()\n",
    "        pairs.add(str(p))\n",
    "    return pairs\n",
    "    \n",
    "\n",
    "def rediscover(pairs, el_pairs):\n",
    "    # find the intersection\n",
    "    results = []\n",
    "    for com_pairs in pairs:\n",
    "        results.append(len(com_pairs.intersection(el_pairs)))\n",
    "    return results"
   ]
  },
  {
   "cell_type": "code",
   "execution_count": 28,
   "id": "4c2768e6",
   "metadata": {},
   "outputs": [
    {
     "name": "stdout",
     "output_type": "stream",
     "text": [
      "paris.greedy.2019: 171\n",
      "paris.greedy.2019: 0\n",
      "paris.greedy.2019: 100\n",
      "Greedy (171, 2)\n"
     ]
    }
   ],
   "source": [
    "def edge_shuffle_pvalue(current_subcoms, current_G, future_el, name, n=1000):\n",
    "    # get the possible pairs\n",
    "    com_pairs = get_possible_pairs_from_com(current_subcoms,current_G)\n",
    "    print(name,len(com_pairs))\n",
    "\n",
    "    # load the new edges\n",
    "    el_pairs = load_new_edges(el=future_el, G=current_G)\n",
    "    # print('2020',len(el_pairs))\n",
    "\n",
    "    # score the cluster's rediscoveries\n",
    "    rediscoveries = rediscover(com_pairs, el_pairs)\n",
    "    # print('Greedy',len(rediscoveries))\n",
    "\n",
    "    # do 10 shuffled rediscoveries\n",
    "    shuffled_rediscoveries = []\n",
    "    for i in range(1000):\n",
    "        s = load_new_edges_shuffled(el=future_el,seed=i)\n",
    "        shuffled_rediscoveries.append(rediscover(com_pairs, s))\n",
    "\n",
    "    # compare the rediscoveries to the shuffled rediscoveries\n",
    "    p_values = []\n",
    "    com_names = []\n",
    "    for i in range(len(rediscoveries)):\n",
    "        if i % 100 == 0:\n",
    "            print(name,i)\n",
    "        com_names.append(name+current_subcoms[i].name)\n",
    "        this_coms_shuffled_rediscoveries = [x[i] for x in shuffled_rediscoveries]\n",
    "        # empirical p-value for number of times rediscovery is greater than or equal to the shuffled rediscovery\n",
    "        p = 1 - (sum([1 for x in this_coms_shuffled_rediscoveries if rediscoveries[i] >= x])/len(this_coms_shuffled_rediscoveries))\n",
    "        p_values.append(p)\n",
    "    return pd.DataFrame({'cluster_id':com_names, 'shuffled_pvalue':p_values})\n",
    "greedy19df = edge_shuffle_pvalue(g_subcoms, G19, '../g2p_Edgelists/String_HPO_2020.phenotypic_branch.g2p_edgelist.txt', 'paris.greedy.2019:')\n",
    "print('Greedy',greedy19df.shape)\n",
    "\n",
    "# filter the subcoms to remove trivial ones"
   ]
  },
  {
   "cell_type": "code",
   "execution_count": 29,
   "id": "bb938f22",
   "metadata": {},
   "outputs": [
    {
     "data": {
      "image/png": "[encoded data removed]",
      "text/plain": [
       "<Figure size 432x288 with 1 Axes>"
      ]
     },
     "metadata": {
      "needs_background": "light"
     },
     "output_type": "display_data"
    }
   ],
   "source": [
    "# plot histograms of the p-values\n",
    "plt.hist(greedy19df['shuffled_pvalue'],bins=100)\n",
    "plt.show()"
   ]
  },
  {
   "cell_type": "code",
   "execution_count": 39,
   "id": "aa196169",
   "metadata": {},
   "outputs": [
    {
     "name": "stdout",
     "output_type": "stream",
     "text": [
      "Index(['cluster_id', 'cluster_size', 'gene_ratio', 'HPO_ratio',\n",
      "       'num_sig_go_enrichment_terms', 'sig_go_enrichment_p_vals',\n",
      "       'sig_go_enrichment_fdr_corrected_p_vals', 'sig_go_enrichment_terms',\n",
      "       'go_sig_threshold', 'max_norm_cell_type_specificity',\n",
      "       'max_norm_cell_type_comma_sep_string', 'num_of_diseases',\n",
      "       'max_norm_disease_specificity', 'max_norm_disease_comma_sep_string',\n",
      "       'mg2_pairs_count', 'mg2_not_pairs_count',\n",
      "       'mg2_portion_families_recovered', 'avg_embeddedness',\n",
      "       'avg_internal_degree', 'conductance', 'cut_ratio', 'normalized_cut',\n",
      "       'expansion', 'triangle_participation_ratio', 'surprise', 'significance',\n",
      "       'newman_girvan_modularity', 'internal_edge_density', 'edges_inside',\n",
      "       'hub_dominance', 'max_plof', 'mean_plof', 'median_plof', 'std_plof',\n",
      "       'sum_plof', 'snowballing_pvalue', 'num_new_edges_on_any_node'],\n",
      "      dtype='object')\n",
      "(171, 37)\n"
     ]
    }
   ],
   "source": [
    "# read in '../AnyNewEdgeCountSnowballedCleanedSplit100BOCCResultsCombinedFixed/2021/paris.greedy.2021.bocc_res.tsv'\n",
    "g19snowballing = pd.read_csv('../AnyNewEdgeCountSnowballedCleanedSplit100BOCCResultsCombinedFixed/2019/paris.greedy.2019.bocc_res.tsv',sep='\\t')\n",
    "\n",
    "print(g19snowballing.columns)\n",
    "print(g19snowballing.shape)\n"
   ]
  },
  {
   "attachments": {},
   "cell_type": "markdown",
   "id": "b9c2bb61",
   "metadata": {},
   "source": [
    "# Random Clusters\n"
   ]
  },
  {
   "cell_type": "code",
   "execution_count": 31,
   "id": "7e6818ac",
   "metadata": {},
   "outputs": [
    {
     "name": "stdout",
     "output_type": "stream",
     "text": [
      "2020 130314\n",
      "Loading cluster rediscoveries\n"
     ]
    }
   ],
   "source": [
    "# load the new edges\n",
    "el_pairs = load_new_edges(el='../g2p_Edgelists/String_HPO_2020.phenotypic_branch.g2p_edgelist.txt', G=G19)\n",
    "print('2020',len(el_pairs))\n",
    "# for each cluster, get the number of members\n",
    "random.seed(0)\n",
    "# check if cluster_rediscoveries.pickle exists\n",
    "if os.path.exists('cluster_rediscoveries.pickle'):\n",
    "    print('Loading cluster rediscoveries')\n",
    "    # load the pickle file\n",
    "    with open('cluster_rediscoveries.pickle','rb') as f:\n",
    "        cluster_rediscoveries = pickle.load(f)\n",
    "else:\n",
    "    print('Calculating cluster rediscoveries')\n",
    "    cluster_rediscoveries = []\n",
    "    for j in range(1000):\n",
    "        if j % 100 == 0:\n",
    "            print(j)\n",
    "        cluster_rediscoveries.append([])\n",
    "        for i in range(len(g_subcoms)):\n",
    "            # print('Cluster',i)\n",
    "            first_resample = True\n",
    "            # print(i)\n",
    "            size = len(g_subcoms[i].members)\n",
    "            if size < 3:\n",
    "                cluster_rediscoveries[-1].append(rediscoveries)\n",
    "                continue\n",
    "            # from G19 pick size number of nodes at random, if there nodes do not have a phenotype, then re pick\n",
    "            heterozygous = False\n",
    "            while not heterozygous:\n",
    "                # the line above but make sure it samples without replacement\n",
    "                nodes = random.choices(list(G19.nodes),k=size)\n",
    "                has_hpo = any([ 'HP:' in x for x in nodes])\n",
    "                has_gene = any([ 'HP:' not in x for x in nodes])\n",
    "                heterozygous = has_hpo and has_gene\n",
    "            random_pairs = get_possible_pairs_from_com_non_bocc(nodes, G19)\n",
    "            rediscoveries = len(random_pairs.intersection(el_pairs))\n",
    "            cluster_rediscoveries[j].append(rediscoveries)\n",
    "\n",
    "    for i in range(len(cluster_rediscoveries)):\n",
    "        print(i, len(cluster_rediscoveries[i]))\n",
    "    with open('cluster_rediscoveries.pickle','wb') as f:\n",
    "        pickle.dump(cluster_rediscoveries,f)"
   ]
  },
  {
   "cell_type": "code",
   "execution_count": 32,
   "id": "914e35df",
   "metadata": {},
   "outputs": [
    {
     "name": "stdout",
     "output_type": "stream",
     "text": [
      "[0, 0, 5, 0, 1, 0, 9, 0, 2, 0, 0, 0, 0, 5, 6, 2, 7, 5, 2, 0, 11, 8, 0, 0, 0, 0, 5, 1, 14, 1, 9, 0, 3, 0, 14, 1, 3, 0, 1, 0, 2, 4, 0, 1, 0, 0, 0, 2, 0, 0, 0, 0, 0, 0, 0, 9, 0, 0, 0, 0, 0, 5, 0, 0, 0, 0, 1, 0, 0, 0, 0, 0, 0, 13, 1, 5, 0, 0, 0, 0, 0, 0, 3, 0, 2, 0, 0, 1, 0, 0, 0, 0, 0, 0, 0, 0, 1, 0, 0, 8, 0, 0, 0, 0, 4, 1, 0, 1, 0, 0, 0, 0, 0, 1, 0, 0, 0, 0, 1, 0, 0, 0, 0, 4, 0, 0, 0, 0, 0, 0, 0, 0, 0, 0, 8, 4, 0, 0, 1, 0, 5, 0, 0, 0, 0, 0, 0, 2, 0, 0, 11, 0, 0, 17, 0, 0, 0, 0, 6, 0, 2, 0, 0, 0, 0, 0, 0, 0, 0, 0, 0]\n",
      "0\n",
      "100\n",
      "200\n",
      "300\n",
      "400\n",
      "500\n",
      "600\n",
      "700\n",
      "800\n",
      "900\n"
     ]
    },
    {
     "data": {
      "image/png": "[encoded data removed]",
      "text/plain": [
       "<Figure size 720x720 with 1 Axes>"
      ]
     },
     "metadata": {
      "needs_background": "light"
     },
     "output_type": "display_data"
    }
   ],
   "source": [
    "random.seed(0)\n",
    "def random_clusters(G,current_coms,future_el,name):\n",
    "    com_pairs = get_possible_pairs_from_com(current_coms, G)\n",
    "    real_rediscoveries = rediscover(com_pairs, el_pairs)\n",
    "    print(real_rediscoveries)\n",
    "    \n",
    "    future_pairs = load_new_edges(el=future_el, G=G)\n",
    "    cluster_rediscoveries = []\n",
    "    # for the number of iterations\n",
    "    for j in range(1000):\n",
    "        if j % 100 == 0:\n",
    "            print(j)\n",
    "        cluster_rediscoveries.append([])\n",
    "        # for each cluster\n",
    "        for i in range(len(current_coms)):\n",
    "            # print('Cluster',i)\n",
    "            first_resample = True\n",
    "            # print(i)\n",
    "            size = len(current_coms[i].members)\n",
    "            if size < 3:\n",
    "                cluster_rediscoveries[-1].append(-1)\n",
    "                continue\n",
    "            # from G19 pick size number of nodes at random, if there nodes do not have a phenotype, then re pick\n",
    "            heterozygous = False\n",
    "            while not heterozygous:\n",
    "                # the line above but make sure it samples without replacement\n",
    "                nodes = random.choices(list(G.nodes),k=size)\n",
    "                has_hpo = any([ 'HP:' in x for x in nodes])\n",
    "                has_gene = any([ 'HP:' not in x for x in nodes])\n",
    "                heterozygous = has_hpo and has_gene\n",
    "            random_pairs = get_possible_pairs_from_com_non_bocc(nodes, G19)\n",
    "            tmp_rediscoveries = len(random_pairs.intersection(future_pairs))\n",
    "            cluster_rediscoveries[j].append(tmp_rediscoveries)\n",
    "\n",
    "    rediscovery_p_values = []\n",
    "    # for each cluster\n",
    "    for i in range(len(real_rediscoveries)):\n",
    "        this_coms_cluster_rediscoveries = [x[i] for x in cluster_rediscoveries]\n",
    "        # empirical p-value for number of times rediscovery is greater than or equal to the shuffled rediscovery\n",
    "        p = 1 - (sum([1 for x in this_coms_cluster_rediscoveries if real_rediscoveries[i] >= x])/len(this_coms_cluster_rediscoveries))\n",
    "        rediscovery_p_values.append(p)\n",
    "    \n",
    "    sub_com_names = [name + str(x.name) for x in current_coms]\n",
    "    p_values_filtered_random_null = []\n",
    "    sub_com_names_filtered_random_null = []\n",
    "    for i in range(len(rediscovery_p_values)):\n",
    "        p_values_filtered_random_null.append(rediscovery_p_values[i])\n",
    "        sub_com_names_filtered_random_null.append(sub_com_names[i])\n",
    "    # make a dataframe of the rediscovery p-values and cluster scores and cluster names\n",
    "    random_null_df = pd.DataFrame({'random_com_p-value':p_values_filtered_random_null,\n",
    "                                'cluster_name':sub_com_names_filtered_random_null})\n",
    "    return random_null_df\n",
    "\n",
    "greedy_random_19_df = random_clusters(G19,g_subcoms,'../g2p_Edgelists/String_HPO_2020.phenotypic_branch.g2p_edgelist.txt','paris.greedy.2019:')\n",
    "\n",
    "# plot the p-values as a histogram\n",
    "fig, ax = plt.subplots(1,1,figsize=(10,10))\n",
    "ax.hist(greedy_random_19_df['random_com_p-value'],bins=100)\n",
    "ax.set_title('Greedy Random 2019')\n",
    "ax.set_xlabel('p-value')\n",
    "ax.set_ylabel('count')\n",
    "plt.show()"
   ]
  },
  {
   "cell_type": "code",
   "execution_count": 43,
   "id": "2a3583fa",
   "metadata": {},
   "outputs": [
    {
     "name": "stdout",
     "output_type": "stream",
     "text": [
      "     random_com_p-value            cluster_name\n",
      "0                 0.018   paris.greedy.2019:164\n",
      "1                 0.001   paris.greedy.2019:165\n",
      "2                 0.008   paris.greedy.2019:219\n",
      "3                 0.358   paris.greedy.2019:220\n",
      "4                 0.078   paris.greedy.2019:221\n",
      "..                  ...                     ...\n",
      "166               0.005  paris.greedy.2019:1134\n",
      "167               0.023  paris.greedy.2019:1138\n",
      "168               0.007  paris.greedy.2019:1139\n",
      "169               0.020  paris.greedy.2019:1207\n",
      "170               0.001  paris.greedy.2019:1431\n",
      "\n",
      "[171 rows x 2 columns]\n",
      "snowballing p = 1: 0.695906432748538\n",
      "snowballing p < 0.05: 0.05847953216374269\n",
      "edge shuffle p < 0.05: 0.47953216374269003\n",
      "random clusters p < 0.05: 0.391812865497076\n"
     ]
    },
    {
     "data": {
      "image/png": "[encoded data removed]",
      "text/plain": [
       "<Figure size 1080x360 with 3 Axes>"
      ]
     },
     "metadata": {
      "needs_background": "light"
     },
     "output_type": "display_data"
    }
   ],
   "source": [
    "# plot 3 historgrams of snowballing p-values, edge shuffle and random cluster p-values\n",
    "\n",
    "# print(random_null_df)\n",
    "# print(greedy19df)\n",
    "print(greedy_random_19_df)\n",
    "\n",
    "snowballing_col = 'p-value'\n",
    "edge_shuffle_col = 'shuffled_pvalue'\n",
    "rand_clsuter_col = 'cluster_score'\n",
    "\n",
    "fig, ax = plt.subplots(1,3)\n",
    "fig.set_size_inches(15,5)\n",
    "\n",
    "ax[0].hist(g19snowballing['snowballing_pvalue'],bins=50,range=[0,1])\n",
    "ax[1].hist(greedy19df['shuffled_pvalue'],bins=50,range=[0,1])\n",
    "ax[2].hist(greedy_random_19_df['random_com_p-value'],bins=50,range=[0,1])\n",
    "ax[0].set_xlabel('p-value',fontsize=std_fontsize)\n",
    "ax[1].set_xlabel('p-value',fontsize=std_fontsize)\n",
    "ax[2].set_xlabel('p-value',fontsize=std_fontsize)\n",
    "ax[0].set_ylabel('Count',fontsize=std_fontsize)\n",
    "ax[0].set_title('Snowballing n={}'.format(g19snowballing.shape[0]),fontsize=std_fontsize)\n",
    "ax[1].set_title('Edge Shuffle n={}'.format(greedy19df.shape[0]),fontsize=std_fontsize)\n",
    "ax[2].set_title('Random Clusters n={}'.format(greedy_random_19_df.shape[0]),fontsize=std_fontsize)\n",
    "# ax[0].set_yscale('log')\n",
    "ax[0].set_xlim([0,1])\n",
    "ax[1].set_xlim([0,1])\n",
    "ax[2].set_xlim([0,1])\n",
    "\n",
    "plt.tight_layout()\n",
    "plt.savefig('../PublicationFigures/null_model_hists.png',dpi=300)\n",
    "\n",
    "# what % of cluster_scores.values() is p = 1\n",
    "print('snowballing p = 1: ' + str(sum([1 for x in g19snowballing['snowballing_pvalue'] if x == 1])/len(g19snowballing['snowballing_pvalue'])))\n",
    "print('snowballing p < 0.05: ' + str(sum([1 for x in g19snowballing['snowballing_pvalue'] if x < 0.05])/len(g19snowballing['snowballing_pvalue'])))\n",
    "\n",
    "# what % of greedy19df['shuffled_pvalue'] is p = 0\n",
    "print('edge shuffle p < 0.05: ' + str(sum([1 for x in greedy19df['shuffled_pvalue'] if x < 0.05])/len(greedy19df['shuffled_pvalue'])))\n",
    "# what % of greedy_random_19_df['random_com_p-value'] is p = 0\n",
    "print('random clusters p < 0.05: ' + str(sum([1 for x in greedy_random_19_df['random_com_p-value'] if x < 0.05])/len(greedy_random_19_df['random_com_p-value'])))"
   ]
  },
  {
   "cell_type": "code",
   "execution_count": 34,
   "id": "107946ce",
   "metadata": {},
   "outputs": [
    {
     "data": {
      "text/plain": [
       "(array([ 33.,  17.,  11.,   8.,   3.,   2.,   2.,   0.,   0., 303.]),\n",
       " array([0. , 0.1, 0.2, 0.3, 0.4, 0.5, 0.6, 0.7, 0.8, 0.9, 1. ]),\n",
       " <BarContainer object of 10 artists>)"
      ]
     },
     "execution_count": 34,
     "metadata": {},
     "output_type": "execute_result"
    },
    {
     "data": {
      "image/png": "[encoded data removed]",
      "text/plain": [
       "<Figure size 432x288 with 1 Axes>"
      ]
     },
     "metadata": {
      "needs_background": "light"
     },
     "output_type": "display_data"
    }
   ],
   "source": [
    "plt.hist(cluster_scores.values())"
   ]
  }
 ],
 "metadata": {
  "kernelspec": {
   "display_name": "Python 3 (ipykernel)",
   "language": "python",
   "name": "python3"
  },
  "language_info": {
   "codemirror_mode": {
    "name": "ipython",
    "version": 3
   },
   "file_extension": ".py",
   "mimetype": "text/x-python",
   "name": "python",
   "nbconvert_exporter": "python",
   "pygments_lexer": "ipython3",
   "version": "3.10.4"
  }
 },
 "nbformat": 4,
 "nbformat_minor": 5
}
