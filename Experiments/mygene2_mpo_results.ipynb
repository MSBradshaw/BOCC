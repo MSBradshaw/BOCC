{
 "cells": [
  {
   "cell_type": "code",
   "execution_count": 1,
   "id": "9a9deb7f",
   "metadata": {},
   "outputs": [
    {
     "name": "stderr",
     "output_type": "stream",
     "text": [
      "/Users/michael/miniconda3/envs/bocc/lib/python3.10/site-packages/requests/__init__.py:102: RequestsDependencyWarning: urllib3 (1.26.7) or chardet (5.1.0)/charset_normalizer (2.0.9) doesn't match a supported version!\n",
      "  warnings.warn(\"urllib3 ({}) or chardet ({})/charset_normalizer ({}) doesn't match a supported \"\n"
     ]
    }
   ],
   "source": [
    "import pandas as pd\n",
    "from BOCC import BOCC, load_clusters\n",
    "import matplotlib.pyplot as plt\n",
    "import networkx as nx\n",
    "import os\n",
    "import obonet\n",
    "import pandas as pd\n",
    "import typing\n",
    "import numpy as np"
   ]
  },
  {
   "cell_type": "code",
   "execution_count": 2,
   "id": "9117d9df",
   "metadata": {},
   "outputs": [
    {
     "name": "stdout",
     "output_type": "stream",
     "text": [
      "Seizure\n"
     ]
    }
   ],
   "source": [
    "url = 'https://raw.githubusercontent.com/obophenotype/human-phenotype-ontology/master/hp.obo'\n",
    "graph = obonet.read_obo(url)\n",
    "print(graph.nodes(data=True)['HP:0001250']['name'])"
   ]
  },
  {
   "cell_type": "code",
   "execution_count": 3,
   "id": "0c3da03b",
   "metadata": {},
   "outputs": [
    {
     "name": "stdout",
     "output_type": "stream",
     "text": [
      "Index(['clusterID', 'estimated_snowballing_pvalue',\n",
      "       'max_norm_cell_type_specificity', 'max_norm_disease_specificity',\n",
      "       'max_plof', 'mean_plof', 'median_plof', 'num_cell_type_string',\n",
      "       'num_disease_string', 'num_of_diseases', 'num_sig_go_enrichment_terms',\n",
      "       'std_plof', 'sum_plof', 'avg_embeddedness', 'avg_internal_degree',\n",
      "       'cluster_size', 'conductance', 'cut_ratio', 'edges_inside', 'expansion',\n",
      "       'gene_ratio', 'hub_dominance', 'internal_edge_density',\n",
      "       'newman_girvan_modularity', 'normalized_cut', 'significance',\n",
      "       'surprise', 'triangle_participation_ratio'],\n",
      "      dtype='object')\n",
      "(3656, 28)\n"
     ]
    }
   ],
   "source": [
    "G21 = nx.read_edgelist('../Edgelists/String_HPO_2021.phenotypic_branch.edgelist.txt')\n",
    "G22 = nx.read_edgelist('../Edgelists/String_HPO_2022.phenotypic_branch.edgelist.txt')\n",
    "\n",
    "# Load the information about predicted 2021 clusters\n",
    "predicted_df = pd.read_csv('../XGBoost2021ClusterRankings.csv')\n",
    "print(predicted_df.columns)\n",
    "print(predicted_df.shape)\n",
    "\n",
    "# Load all the clusters\n",
    "coms_dict = {}\n",
    "for dir in os.listdir('../SubComs'):\n",
    "    if dir in ['2021','2022']:\n",
    "        for f in os.listdir('../SubComs/{}'.format(dir)):\n",
    "            if 'paris' in f:\n",
    "                coms_dict[f.replace('.coms.txt','')] = load_clusters('../SubComs/{}/{}'.format(dir,f))"
   ]
  },
  {
   "cell_type": "markdown",
   "id": "740b0fd9",
   "metadata": {},
   "source": [
    "create a dictionary of com_id to com_predicted score"
   ]
  },
  {
   "cell_type": "code",
   "execution_count": 4,
   "id": "6ba9a77a",
   "metadata": {},
   "outputs": [],
   "source": [
    "# create a percentile - the portion of clusters this a cluster is predicted to be MORE \"significant\" than, e.i. lower p-value\n",
    "predicted_df['percentile'] = [\n",
    "    sum(predicted_df['estimated_snowballing_pvalue'] <= x)/predicted_df.shape[0] \n",
    "    for x in predicted_df['estimated_snowballing_pvalue']]\n",
    "\n",
    "com_score_map = {r[['clusterID']].values[0]:r[['estimated_snowballing_pvalue']].values[0] for i,r in predicted_df.iterrows()}\n",
    "com_percentile_map = {r[['clusterID']].values[0]:round(r[['percentile']].values[0], 2) for i,r in predicted_df.iterrows()}\n",
    "# print(com_score_map)"
   ]
  },
  {
   "cell_type": "markdown",
   "id": "888fb87e",
   "metadata": {},
   "source": [
    "# MyGene 2"
   ]
  },
  {
   "cell_type": "code",
   "execution_count": 5,
   "id": "4eb6fdb9",
   "metadata": {},
   "outputs": [
    {
     "name": "stdout",
     "output_type": "stream",
     "text": [
      "Index(['Unnamed: 0', 'gene', 'variant_id', 'family_id', 'family_url',\n",
      "       'inheritance', 'phenotype_name', 'phenotype_hpo_id',\n",
      "       'confidence_in_pathogenicity'],\n",
      "      dtype='object')\n",
      "(21455, 9)\n",
      "912\n"
     ]
    }
   ],
   "source": [
    "# Load the MyGene2 Familes\n",
    "mg2_df = pd.read_csv('../Resources/my_gene_2_variantes_by_family_tables.csv')\n",
    "print(mg2_df.columns)\n",
    "print(mg2_df.shape)\n",
    "\n",
    "# create a dict with patient keys and lists of all HPOs and genes within them\n",
    "# id: [gene1,hpo1,gene2,hpo2...]\n",
    "patient_map = {}\n",
    "# add all the genes\n",
    "for i,r in mg2_df.groupby('family_id')['gene'].agg(['unique'])['unique'].reset_index().iterrows():\n",
    "    patient_map[r['family_id']] = list(r['unique'])\n",
    "# add all the HPOs\n",
    "for i,r in mg2_df.groupby('family_id')['phenotype_hpo_id'].agg(['unique'])['unique'].reset_index().iterrows():\n",
    "    if r['family_id'] in patient_map:\n",
    "            patient_map[r['family_id']] = patient_map[r['family_id']] + list(r['unique'])\n",
    "print(len(patient_map))\n",
    "assert(len(patient_map) == len(set(mg2_df['family_id'])))\n"
   ]
  },
  {
   "cell_type": "code",
   "execution_count": 6,
   "id": "3c454cba",
   "metadata": {},
   "outputs": [
    {
     "name": "stdout",
     "output_type": "stream",
     "text": [
      "912\n",
      "912\n"
     ]
    }
   ],
   "source": [
    "filtered_patient_map = {}\n",
    "for key in patient_map.keys():\n",
    "    if sum(['HP:' not in x for x in patient_map[key]]) > 0:\n",
    "        filtered_patient_map[key] = patient_map[key]\n",
    "print(len(patient_map))\n",
    "print(len(filtered_patient_map))"
   ]
  },
  {
   "cell_type": "markdown",
   "id": "3177e5a3",
   "metadata": {},
   "source": [
    "create all possible pairs for each patient"
   ]
  },
  {
   "cell_type": "code",
   "execution_count": 7,
   "id": "8bccd904",
   "metadata": {},
   "outputs": [],
   "source": [
    "all_patient_pairs = {}\n",
    "for key in filtered_patient_map.keys():\n",
    "    genes = [x for x in patient_map[key] if 'HP:' not in x]\n",
    "    hpos = [x for x in patient_map[key] if 'HP:' in x]\n",
    "    all_patient_pairs[key] = [[g,h] for g in genes for h in hpos]"
   ]
  },
  {
   "cell_type": "markdown",
   "id": "f3592aab",
   "metadata": {},
   "source": [
    "How many of these pateints do not have any edges already in the 2019 graph?"
   ]
  },
  {
   "cell_type": "code",
   "execution_count": 8,
   "id": "3ea4ad76",
   "metadata": {},
   "outputs": [
    {
     "name": "stdout",
     "output_type": "stream",
     "text": [
      "Number of \"unsolved\" MyGene2 patients 115\n"
     ]
    }
   ],
   "source": [
    "solved_patients = []\n",
    "for key in all_patient_pairs.keys():\n",
    "    for pair in all_patient_pairs[key]:\n",
    "        if G21.has_edge(pair[0],pair[1]) or G21.has_edge(pair[1],pair[0]):\n",
    "            solved_patients.append(key)\n",
    "            break\n",
    "unsolved_patients = [x for x in all_patient_pairs.keys() if x not in solved_patients]\n",
    "print('Number of \"unsolved\" MyGene2 patients',len(unsolved_patients))\n",
    "\n",
    "unsolved_patients_map = {id:filtered_patient_map[id] for id in unsolved_patients}\n",
    "unsolved_patients_pairs = {id:all_patient_pairs[id] for id in unsolved_patients}"
   ]
  },
  {
   "cell_type": "markdown",
   "id": "3c8effd8",
   "metadata": {},
   "source": [
    "## How many of these pateints have one of their edges discovered in a cluster?"
   ]
  },
  {
   "cell_type": "code",
   "execution_count": 9,
   "id": "0bf3d088",
   "metadata": {},
   "outputs": [
    {
     "name": "stdout",
     "output_type": "stream",
     "text": [
      "1292 & paris.walktrap.2021:1321 & TNNT3 & HP:0002804 & Arthrogryposis multiplex congenita & 0.27 \\\\\n",
      "1292 & paris.greedy.2021:968 & TNNT3 & HP:0002804 & Arthrogryposis multiplex congenita & 0.27 \\\\\n",
      "1635 & paris.cesna.2021:22018 & SPTBN5 & HP:0001250 & Seizure & 0.37 \\\\\n",
      "1922 & paris.cesna.2021:15553 & FAT2 & HP:0001310 & Dysmetria & 0.33 \\\\\n",
      "1930 & paris.walktrap.2021:84 & NBEA & HP:0001824 & Weight loss & 0.91 \\\\\n",
      "1932 & paris.cesna.2021:9175 & HUWE1 & HP:0000739 & Anxiety & 0.15 \\\\\n",
      "1943 & paris.cesna.2021:3199 & SHANK2 & HP:0011968 & Feeding difficulties & 0.19 \\\\\n",
      "1948 & paris.cesna.2021:9175 & CHD2 & HP:0001250 & Seizure & 0.15 \\\\\n",
      "1950 & paris.cesna.2021:14105 & SATB2 & HP:0001999 & Abnormal facial shape & 0.08 \\\\\n",
      "1950 & paris.cesna.2021:5816 & SATB2 & HP:0000202 & Oral cleft & 0.34 \\\\\n",
      "2197 & paris.cesna.2021:6379 & C17orf62 & HP:0006532 & Recurrent pneumonia & 0.1 \\\\\n",
      "2197 & paris.cesna.2021:6379 & C17orf62 & HP:0001744 & Splenomegaly & 0.1 \\\\\n",
      "2234 & paris.cesna.2021:24074 & DROSHA & HP:0000252 & Microcephaly & 0.23 \\\\\n",
      "2527 & paris.walktrap.2021:745 & TRAPPC5 & HP:0000011 & Neurogenic bladder & 0.6 \\\\\n",
      "2527 & paris.greedy.2021:420 & TRAPPC5 & HP:0000011 & Neurogenic bladder & 0.6 \\\\\n",
      "2584 & paris.cesna.2021:24123 & PYROXD1 & HP:0003715 & Myofibrillar myopathy & 0.13 \\\\\n",
      "2584 & paris.cesna.2021:24123 & PYROXD1 & HP:0003198 & Myopathy & 0.13 \\\\\n",
      "27 & paris.cesna.2021:1940 & SCN2A & HP:0001250 & Seizure & 0.56 \\\\\n",
      "27 & paris.cesna.2021:15778 & SCN2A & HP:0001250 & Seizure & 0.05 \\\\\n",
      "27 & paris.cesna.2021:21373 & SCN2A & HP:0001250 & Seizure & 0.04 \\\\\n",
      "27 & paris.cesna.2021:24273 & SCN2A & HP:0001250 & Seizure & 0.13 \\\\\n",
      "Number of patients solved by one of these communities 13\n"
     ]
    }
   ],
   "source": [
    "# {101:['paris.censa.2021:1:SEMA4A,HP:0000128']} patient_id:list of ids of com this patient was solved by:gene,HPO\n",
    "newly_solved_patients = {}\n",
    "mg2_edges = []\n",
    "for pid in unsolved_patients_pairs:\n",
    "    # is this pid's pairs in any of the coms?\n",
    "    for pair in unsolved_patients_pairs[pid]:\n",
    "        # for each community sets keys are in formatted like 'paris.cesna.2021'\n",
    "        for k in coms_dict.keys():\n",
    "            if '2021' not in k:\n",
    "                continue\n",
    "            for com in coms_dict[k]:\n",
    "                if pair[0] in com.members and pair[1] in com.members:\n",
    "                    cluster_uid = '{cluster_set}:{cluster_id}'.format(cluster_set=k, cluster_id=str(com.name))\n",
    "                    res_string = '{pid} & {cluster_set}:{cluster_id} & {node1} & {node2} & {hpo_name} & {rank} \\\\\\\\'.format(cluster_set=k,\n",
    "                                                                                                          cluster_id=str(com.name),\n",
    "                                                                                                          node1=pair[0],\n",
    "                                                                                                          node2=pair[1],\n",
    "                                                                                                          hpo_name=graph.nodes(data=True)[pair[1]]['name'],\n",
    "                                                                                                                  rank=com_percentile_map[cluster_uid],\n",
    "                                                                                                                  pid=pid)\n",
    "                    print(res_string)\n",
    "                    mg2_edges.append([cluster_uid, pair[0],pair[1]])\n",
    "                    if pid in newly_solved_patients:\n",
    "                        newly_solved_patients[pid].append(res_string)\n",
    "                    else:\n",
    "                        newly_solved_patients[pid] = [res_string]\n",
    "                    \n",
    "\n",
    "print('Number of patients solved by one of these communities', len(newly_solved_patients)) \n"
   ]
  },
  {
   "cell_type": "markdown",
   "id": "cc033cfc",
   "metadata": {},
   "source": [
    "## 2022 MyGene2 Results"
   ]
  },
  {
   "cell_type": "code",
   "execution_count": 10,
   "id": "ddd9cdf2",
   "metadata": {},
   "outputs": [
    {
     "name": "stdout",
     "output_type": "stream",
     "text": [
      "Number of \"unsolved\" MyGene2 patients 112\n"
     ]
    }
   ],
   "source": [
    "solved_patients_22 = []\n",
    "for key in all_patient_pairs.keys():\n",
    "    for pair in all_patient_pairs[key]:\n",
    "        if G22.has_edge(pair[0],pair[1]) or G22.has_edge(pair[1],pair[0]):\n",
    "            solved_patients_22.append(key)\n",
    "            break\n",
    "unsolved_patients_22 = [x for x in all_patient_pairs.keys() if x not in solved_patients_22]\n",
    "print('Number of \"unsolved\" MyGene2 patients',len(unsolved_patients_22))\n",
    "\n",
    "unsolved_patients_map_22 = {id:filtered_patient_map[id] for id in unsolved_patients_22}\n",
    "unsolved_patients_pairs_22 = {id:all_patient_pairs[id] for id in unsolved_patients_22}\n"
   ]
  },
  {
   "cell_type": "code",
   "execution_count": 11,
   "id": "16039c23",
   "metadata": {},
   "outputs": [
    {
     "name": "stdout",
     "output_type": "stream",
     "text": [
      "1292 & paris.walktrap.2022:1369 & TNNT3 & HP:0002804 & Arthrogryposis multiplex congenita  \\\\\n",
      "151 & paris.infomap.2022:973 & PCOLCE2 & HP:0000545 & Myopia  \\\\\n",
      "1930 & paris.cesna.2022:5864 & NBEA & HP:0001250 & Seizure  \\\\\n",
      "2197 & paris.cesna.2022:17456 & C17orf62 & HP:0001945 & Fever  \\\\\n",
      "2197 & paris.cesna.2022:17456 & C17orf62 & HP:0006532 & Recurrent pneumonia  \\\\\n",
      "2197 & paris.cesna.2022:17456 & C17orf62 & HP:0001744 & Splenomegaly  \\\\\n",
      "2197 & paris.cesna.2022:17456 & C17orf62 & HP:0002716 & Lymphadenopathy  \\\\\n",
      "2234 & paris.cesna.2022:15933 & DROSHA & HP:0000252 & Microcephaly  \\\\\n",
      "2525 & paris.cesna.2022:5117 & FMN1 & HP:0004322 & Short stature  \\\\\n",
      "2584 & paris.cesna.2022:4308 & PYROXD1 & HP:0003198 & Myopathy  \\\\\n",
      "2649 & paris.walktrap.2022:1626 & BCL6B & HP:0001596 & Alopecia  \\\\\n",
      "27 & paris.cesna.2022:3984 & SCN2A & HP:0001250 & Seizure  \\\\\n",
      "2748 & paris.cesna.2022:18491 & DROSHA & HP:0002015 & Dysphagia  \\\\\n",
      "347 & paris.cesna.2022:11079 & GUCY1A3 & HP:0000822 & Hypertension  \\\\\n",
      "8 & paris.cesna.2022:2747 & ACTC1 & HP:0000369 & Low-set ears  \\\\\n",
      "8 & paris.cesna.2022:13667 & ACTC1 & HP:0004322 & Short stature  \\\\\n",
      "8 & paris.cesna.2022:2747 & ACTC1 & HP:0001629 & Ventricular septal defect  \\\\\n",
      "877 & paris.cesna.2022:11542 & B9D2 & HP:0001251 & Ataxia  \\\\\n",
      "878 & paris.cesna.2022:11542 & B9D2 & HP:0001251 & Ataxia  \\\\\n",
      "Number of patients solved by one of these communities 14\n"
     ]
    }
   ],
   "source": [
    "predicted_df_22 = pd.read_csv('../xgb_cluster_rankings_2022.tsv',sep='\\t')\n",
    "predicted_df_22['percentile'] = [\n",
    "    sum(predicted_df_22['estimated_snowballing_pvalue'] <= x)/predicted_df_22.shape[0] \n",
    "    for x in predicted_df_22['estimated_snowballing_pvalue']]\n",
    "\n",
    "com_score_map_22 = {r[['clusterID']].values[0]:r[['estimated_snowballing_pvalue']].values[0] for i,r in predicted_df_22.iterrows()}\n",
    "com_percentile_map_22 = {r[['clusterID']].values[0]:round(r[['percentile']].values[0], 2) for i,r in predicted_df_22.iterrows()}\n",
    "\n",
    "\n",
    "\n",
    "# {101:['paris.censa.2021:1:SEMA4A,HP:0000128']} patient_id:list of ids of com this patient was solved by:gene,HPO\n",
    "newly_solved_patients_22 = {}\n",
    "mg2_edges = []\n",
    "for pid in unsolved_patients_pairs_22:\n",
    "    # is this pid's pairs in any of the coms?\n",
    "    for pair in unsolved_patients_pairs_22[pid]:\n",
    "        # for each community sets keys are in formatted like 'paris.cesna.2021'\n",
    "        for k in coms_dict.keys():\n",
    "            if '2022' not in k:\n",
    "                continue\n",
    "            for com in coms_dict[k]:\n",
    "                if pair[0] in com.members and pair[1] in com.members:\n",
    "                    cluster_uid = '{cluster_set}:{cluster_id}'.format(cluster_set=k, cluster_id=str(com.name))\n",
    "                    res_string = '{pid} & {cluster_set}:{cluster_id} & {node1} & {node2} & {hpo_name} {rank} \\\\\\\\'.format(cluster_set=k,\n",
    "                                                                                                          cluster_id=str(com.name),\n",
    "                                                                                                          node1=pair[0],\n",
    "                                                                                                          node2=pair[1],\n",
    "                                                                                                          hpo_name=graph.nodes(data=True)[pair[1]]['name'],\n",
    "                                                                                                                  rank='',\n",
    "#                                                                                                                   rank='TBD',\n",
    "                                                                                                                  pid=pid)\n",
    "                    print(res_string)\n",
    "                    mg2_edges.append([cluster_uid, pair[0],pair[1]])\n",
    "                    if pid in newly_solved_patients_22:\n",
    "                        newly_solved_patients_22[pid].append(res_string)\n",
    "                    else:\n",
    "                        newly_solved_patients_22[pid] = [res_string]\n",
    "                    \n",
    "\n",
    "print('Number of patients solved by one of these communities', len(set(newly_solved_patients_22))) "
   ]
  },
  {
   "cell_type": "code",
   "execution_count": 12,
   "id": "499eab7a",
   "metadata": {},
   "outputs": [
    {
     "name": "stdout",
     "output_type": "stream",
     "text": [
      "Number of \"unsolved\" MyGene2 patients 2021 115\n",
      "Number of \"unsolved\" MyGene2 patients 2022 112\n",
      "['124', '2232', '2240', '2242', '2830', '2832']\n",
      "['21', '22', '2611']\n",
      "[['SSPO', 'HP:0001251'], ['SSPO', 'HP:0001250'], ['SSPO', 'HP:0001289'], ['SSPO', 'HP:0001733'], ['SSPO', 'HP:0100279'], ['SSPO', 'HP:0002014'], ['SSPO', 'HP:0010543'], ['SSPO', 'HP:0002066'], ['SSPO', 'HP:0002186'], ['SSPO', 'HP:0000496'], ['SSPO', 'HP:0002574'], ['SSPO', 'HP:0001824'], ['SSPO', 'HP:0001336'], ['SSPO', 'HP:0001337'], ['NBEA', 'HP:0001251'], ['NBEA', 'HP:0001250'], ['NBEA', 'HP:0001289'], ['NBEA', 'HP:0001733'], ['NBEA', 'HP:0100279'], ['NBEA', 'HP:0002014'], ['NBEA', 'HP:0010543'], ['NBEA', 'HP:0002066'], ['NBEA', 'HP:0002186'], ['NBEA', 'HP:0000496'], ['NBEA', 'HP:0002574'], ['NBEA', 'HP:0001824'], ['NBEA', 'HP:0001336'], ['NBEA', 'HP:0001337']]\n",
      "124\n",
      "124 ['TCF7L2', 'HP:0001252']\n",
      "124 ['TCF7L2', 'HP:0001250']\n",
      "2232\n",
      "2232 ['CHD5', 'HP:0001250']\n",
      "2240\n",
      "2240 ['TNPO2', 'HP:0000252']\n",
      "2240 ['TNPO2', 'HP:0001252']\n",
      "2240 ['TNPO2', 'HP:0001250']\n",
      "2242\n",
      "2242 ['DOHH', 'HP:0000639']\n",
      "2242 ['DOHH', 'HP:0100704']\n",
      "2242 ['DOHH', 'HP:0001263']\n",
      "2830\n",
      "2830 ['ZMYM2', 'HP:0001250']\n",
      "2832\n",
      "2832 ['DOHH', 'HP:0000252']\n",
      "2832 ['DOHH', 'HP:0001263']\n",
      "2832 ['DOHH', 'HP:0002283']\n",
      "2832 ['DOHH', 'HP:0001249']\n",
      "2832 ['DOHH', 'HP:0000639']\n"
     ]
    }
   ],
   "source": [
    "# number of unsolved cases in 2021 and 2022\n",
    "print('Number of \"unsolved\" MyGene2 patients 2021',len(unsolved_patients))\n",
    "print('Number of \"unsolved\" MyGene2 patients 2022',len(unsolved_patients_22))\n",
    "no_longer_undiagnosed = [x for x in unsolved_patients if x not in unsolved_patients_22]\n",
    "new_undiagnosed = [x for x in unsolved_patients_22 if x not in unsolved_patients]\n",
    "print(no_longer_undiagnosed)\n",
    "print(new_undiagnosed)\n",
    "# print(unsolved_patients)\n",
    "# print(unsolved_patients_22)\n",
    "print(all_patient_pairs['1930'])\n",
    "for d in no_longer_undiagnosed:\n",
    "    print(d)\n",
    "    for p in all_patient_pairs[d]:\n",
    "        if G22.has_edge(p[0],p[1]):\n",
    "            print(d, p)\n"
   ]
  },
  {
   "cell_type": "markdown",
   "id": "5f2546f4",
   "metadata": {},
   "source": [
    "# Mammalian Phenotype Ontology"
   ]
  },
  {
   "cell_type": "code",
   "execution_count": 13,
   "id": "c0d22b63",
   "metadata": {},
   "outputs": [
    {
     "name": "stdout",
     "output_type": "stream",
     "text": [
      "           HPO    Gene                                  Name\n",
      "0   HP:0000086  FANCD2                        Ectopic kidney\n",
      "1   HP:0000093    G6PC                           Proteinuria\n",
      "2   HP:0000097    G6PC    Focal segmental glomerulosclerosis\n",
      "3   HP:0000105    G6PC                       Enlarged kidney\n",
      "4   HP:0000238    MSH2                         Hydrocephalus\n",
      "..         ...     ...                                   ...\n",
      "80  HP:0011463     XPC                       Childhood onset\n",
      "81  HP:0012213    G6PC  Decreased glomerular filtration rate\n",
      "82  HP:0020073    MSH2                  Hypopigmented macule\n",
      "83  HP:0030052    MSH2                    Inguinal freckling\n",
      "84  HP:0100697    MSH2                     Neurofibrosarcoma\n",
      "\n",
      "[85 rows x 3 columns]\n"
     ]
    }
   ],
   "source": [
    "# Load the infered edges\n",
    "hpo_from_mpo = pd.read_csv('../Resources/hpo_to_gene_derived_by_mpo.edgelist.2021.unique.txt',sep='\\t',header=None)\n",
    "hpo_from_mpo.columns = ['HPO','Gene','Name']\n",
    "print(hpo_from_mpo)"
   ]
  },
  {
   "cell_type": "code",
   "execution_count": 14,
   "id": "90d7952b",
   "metadata": {},
   "outputs": [
    {
     "name": "stdout",
     "output_type": "stream",
     "text": [
      "paris.infomap.2021:1828 & FANCD2 & HP:0000086 & Ectopic kidney &  \\\\\n",
      "paris.cesna.2021:22354 & FANCD2 & HP:0000086 & Ectopic kidney &  \\\\\n",
      "paris.walktrap.2021:1309 & ITGB3 & HP:0000979 & Purpura &  \\\\\n",
      "paris.greedy.2021:956 & ITGB3 & HP:0000979 & Purpura &  \\\\\n",
      "paris.cesna.2021:14597 & TDGF1 & HP:0001263 & Global developmental delay &  \\\\\n",
      "paris.walktrap.2021:1309 & ITGB3 & HP:0001892 & Abnormal bleeding &  \\\\\n",
      "paris.greedy.2021:956 & ITGB3 & HP:0001892 & Abnormal bleeding &  \\\\\n",
      "paris.infomap.2021:1697 & ITGB3 & HP:0004813 & Post-transfusion thrombocytopenia &  \\\\\n"
     ]
    }
   ],
   "source": [
    "newly_solved_patients = {}\n",
    "mpo_pairs = [ [hpo_from_mpo.iloc[i,:]['Gene'],hpo_from_mpo.iloc[i,:]['HPO'] ]for i in range(hpo_from_mpo.shape[0])]\n",
    "mpo_discovering_coms = []\n",
    "for pair in mpo_pairs:\n",
    "    # for each community sets keys are in formatted like 'paris.cesna.2021'\n",
    "    for k in coms_dict.keys():\n",
    "        if '2021' not in k:\n",
    "            continue\n",
    "        for com in coms_dict[k]:\n",
    "            if pair[0] in com.members and pair[1] in com.members:\n",
    "                cluster_uid = '{cluster_set}:{cluster_id}'.format(cluster_set=k, cluster_id=str(com.name))\n",
    "                mpo_discovering_coms.append(cluster_uid)\n",
    "                res_string = '{cluster_set}:{cluster_id} & {node1} & {node2} & {hpo_name} & {rank} \\\\\\\\'.format(cluster_set=k, \n",
    "                                                                                                                cluster_id=str(com.name), \n",
    "                                                                                                                node1=pair[0], \n",
    "                                                                                                                node2=pair[1], \n",
    "                                                                                                                hpo_name=graph.nodes(data=True)[pair[1]]['name'],\n",
    "                                                                                                                rank='')\n",
    "                print(res_string)"
   ]
  },
  {
   "cell_type": "code",
   "execution_count": 15,
   "id": "e4494483",
   "metadata": {},
   "outputs": [
    {
     "name": "stderr",
     "output_type": "stream",
     "text": [
      "/var/folders/ty/694s8g7n1cz_l5s3prx55jzr0000gn/T/ipykernel_2435/2035549221.py:6: RuntimeWarning: invalid value encountered in double_scalars\n",
      "  return float(np.log2(o / np.median(np.array(e))))\n",
      "/var/folders/ty/694s8g7n1cz_l5s3prx55jzr0000gn/T/ipykernel_2435/2035549221.py:6: RuntimeWarning: divide by zero encountered in double_scalars\n",
      "  return float(np.log2(o / np.median(np.array(e))))\n"
     ]
    },
    {
     "name": "stdout",
     "output_type": "stream",
     "text": [
      "Index(['algorithm', 'cluster_id', 'log2ratio', 'p-value'], dtype='object')\n",
      "(32767, 4)\n"
     ]
    }
   ],
   "source": [
    "def log_2_ratio(o: int, e: typing.List[int]) -> float:\n",
    "    \"\"\"\n",
    "    param o: observed number of rediscoveries\n",
    "    param e: list of expected number of rediscoveries based on the null model\n",
    "    \"\"\"\n",
    "    return float(np.log2(o / np.median(np.array(e))))\n",
    "\n",
    "def empircal_p(o: int, e: typing.List[int]) -> float:\n",
    "    \"\"\"\n",
    "    param o: observed number of rediscoveries\n",
    "    param e: list of expected number of rediscoveries based on the null model\n",
    "    \"\"\"\n",
    "    return float(1 - (sum([ o > x for x in e]) / len(e)))\n",
    "\n",
    "mouse_snow_dfs = []\n",
    "mouse_files = ['snowball.paris.greedy.String_HPO_2021.mouse.phenotypic_branch.tsv',\n",
    "              'snowball.paris.walktrap.String_HPO_2021.mouse.phenotypic_branch.tsv',\n",
    "              'snowball.paris.infomap.String_HPO_2021.mouse.phenotypic_branch.tsv',\n",
    "              'snowball.paris.cesna.String_HPO_2021.mouse.phenotypic_branch.tsv']\n",
    "\n",
    "for i,file in enumerate(mouse_files):\n",
    "    tmp_df = pd.read_csv('../MouseSnowballResults/'+file,sep='\\t')\n",
    "    mouse_snow_dfs.append(tmp_df)\n",
    "\n",
    "\n",
    "mouse_l2r_p = {'algorithm':[],'cluster_id':[],'log2ratio':[],'p-value':[]}\n",
    "algos = ['paris-greedy','paris-walktrap','paris-infomap','paris-cesna']\n",
    "# print stats for all DFs\n",
    "# calc log2ratio and p value for each cluster in each algo category. Save it all in one dataframe\n",
    "for df,algo in zip(mouse_snow_dfs, algos):\n",
    "    for cid in df['com_id'].unique():\n",
    "        sub = df[df['com_id'] == cid]\n",
    "        observed = list(sub['com_score'])[0]\n",
    "        expected = list(sub['replicate_score'])\n",
    "        l2r = log_2_ratio(observed,expected)\n",
    "        p = empircal_p(observed,expected)\n",
    "        mouse_l2r_p['algorithm'].append(algo)\n",
    "        mouse_l2r_p['cluster_id'].append(cid)\n",
    "        mouse_l2r_p['log2ratio'].append(l2r)\n",
    "        mouse_l2r_p['p-value'].append(p)\n",
    "mouse_l2r_p_df = pd.DataFrame(mouse_l2r_p)\n",
    "\n",
    "print(mouse_l2r_p_df.columns)\n",
    "print(mouse_l2r_p_df.shape)"
   ]
  },
  {
   "cell_type": "code",
   "execution_count": 16,
   "id": "d977b414",
   "metadata": {},
   "outputs": [
    {
     "name": "stdout",
     "output_type": "stream",
     "text": [
      "['paris.infomap.2021:1828', 'paris.cesna.2021:22354', 'paris.walktrap.2021:1309', 'paris.greedy.2021:956', 'paris.cesna.2021:14597', 'paris.walktrap.2021:1309', 'paris.greedy.2021:956', 'paris.infomap.2021:1697']\n",
      "0           paris.greedy.2021:0\n",
      "1           paris.greedy.2021:1\n",
      "2           paris.greedy.2021:2\n",
      "3           paris.greedy.2021:3\n",
      "4           paris.greedy.2021:4\n",
      "                  ...          \n",
      "32762    paris.cesna.2021:26520\n",
      "32763    paris.cesna.2021:26521\n",
      "32764    paris.cesna.2021:26522\n",
      "32765    paris.cesna.2021:26523\n",
      "32766    paris.cesna.2021:26524\n",
      "Name: uid, Length: 32767, dtype: object\n",
      "          algorithm  cluster_id  log2ratio  p-value                      uid\n",
      "5347  paris.infomap        1828        inf      0.0  paris.infomap.2021:1828\n",
      "         algorithm  cluster_id  log2ratio  p-value                     uid\n",
      "28596  paris.cesna       22354        inf      0.0  paris.cesna.2021:22354\n",
      "           algorithm  cluster_id  log2ratio  p-value                       uid\n",
      "2527  paris.walktrap        1309        inf      0.0  paris.walktrap.2021:1309\n",
      "        algorithm  cluster_id  log2ratio  p-value                    uid\n",
      "956  paris.greedy         956        inf      0.0  paris.greedy.2021:956\n",
      "         algorithm  cluster_id  log2ratio  p-value                     uid\n",
      "20839  paris.cesna       14597        inf      0.0  paris.cesna.2021:14597\n",
      "           algorithm  cluster_id  log2ratio  p-value                       uid\n",
      "2527  paris.walktrap        1309        inf      0.0  paris.walktrap.2021:1309\n",
      "        algorithm  cluster_id  log2ratio  p-value                    uid\n",
      "956  paris.greedy         956        inf      0.0  paris.greedy.2021:956\n",
      "          algorithm  cluster_id  log2ratio  p-value                      uid\n",
      "5216  paris.infomap        1697        inf      0.0  paris.infomap.2021:1697\n"
     ]
    }
   ],
   "source": [
    "# print(mouse_l2r_p_df)\n",
    "mouse_l2r_p_df['algorithm'] = [x.replace('-','.') for x in mouse_l2r_p_df['algorithm']]\n",
    "mouse_l2r_p_df['uid'] = mouse_l2r_p_df['algorithm'] + '.2021:' + mouse_l2r_p_df['cluster_id'].astype(str)\n",
    "print(mpo_discovering_coms)\n",
    "print(mouse_l2r_p_df['uid'])\n",
    "for uid in mpo_discovering_coms:\n",
    "    print(mouse_l2r_p_df[mouse_l2r_p_df['uid'] == uid])"
   ]
  },
  {
   "cell_type": "markdown",
   "id": "39efa1b7",
   "metadata": {},
   "source": [
    "# MyGene2 Result Shortest Paths\n",
    "How are the new pairs connected to each other in their clusters? Do they pass through genes? Through HPOs? If HPOs it could mean it is just a HPO specificity problem."
   ]
  },
  {
   "cell_type": "code",
   "execution_count": 17,
   "id": "7094ff0e",
   "metadata": {},
   "outputs": [
    {
     "name": "stdout",
     "output_type": "stream",
     "text": [
      "paris.walktrap.2022:1369 ['TNNI2']\n",
      "paris.walktrap.2022:1369 ['MYH3']\n",
      "paris.walktrap.2022:1369 ['PIEZO2']\n",
      "paris.walktrap.2022:1369 ['TPM2']\n",
      "paris.walktrap.2022:1369 ['CHRNG']\n",
      "paris.walktrap.2022:1369 ['ECEL1']\n",
      "paris.infomap.2022:973 ['COL4A1']\n",
      "paris.infomap.2022:973 ['PLOD3']\n",
      "paris.infomap.2022:973 ['ADAMTS2']\n",
      "paris.infomap.2022:973 ['COL9A3']\n",
      "paris.infomap.2022:973 ['COL11A1']\n",
      "paris.infomap.2022:973 ['COL4A4']\n",
      "paris.infomap.2022:973 ['COL4A5']\n",
      "paris.infomap.2022:973 ['COL9A2']\n",
      "paris.infomap.2022:973 ['COL9A1']\n",
      "paris.cesna.2022:5864 ['PTEN']\n",
      "paris.cesna.2022:5864 ['STXBP1']\n",
      "paris.cesna.2022:5864 ['DLL1']\n",
      "paris.cesna.2022:17456 ['NCF4']\n",
      "paris.cesna.2022:17456 ['NCF1']\n",
      "paris.cesna.2022:17456 ['CYBB']\n",
      "paris.cesna.2022:17456 ['CYBA']\n",
      "paris.cesna.2022:17456 ['NCF2']\n",
      "paris.cesna.2022:17456 ['NCF1']\n",
      "paris.cesna.2022:17456 ['CYBB']\n",
      "paris.cesna.2022:17456 ['CYBA']\n",
      "paris.cesna.2022:17456 ['NCF2']\n",
      "paris.cesna.2022:17456 ['NCF4']\n",
      "paris.cesna.2022:17456 ['NCF1']\n",
      "paris.cesna.2022:17456 ['CYBB']\n",
      "paris.cesna.2022:17456 ['CYBA']\n",
      "paris.cesna.2022:17456 ['NCF2']\n",
      "paris.cesna.2022:17456 ['NCF1']\n",
      "paris.cesna.2022:17456 ['CYBB']\n",
      "paris.cesna.2022:17456 ['CYBA']\n",
      "paris.cesna.2022:17456 ['NCF2']\n",
      "paris.cesna.2022:15933 ['ACE']\n",
      "paris.cesna.2022:15933 ['REN']\n",
      "paris.cesna.2022:15933 ['AGTR1']\n",
      "paris.cesna.2022:5117 ['GLI1']\n",
      "paris.cesna.2022:5117 ['HNRNPU']\n",
      "paris.cesna.2022:5117 ['SHH']\n",
      "paris.cesna.2022:5117 ['GAS1']\n",
      "paris.cesna.2022:5117 ['FGF8']\n",
      "paris.cesna.2022:5117 ['LMBR1']\n",
      "paris.cesna.2022:5117 ['GLI3']\n",
      "paris.cesna.2022:5117 ['GLI2']\n",
      "paris.cesna.2022:5117 ['BMPR1B']\n",
      "paris.cesna.2022:5117 ['FGFR2']\n",
      "paris.cesna.2022:4308 ['ACTA1']\n",
      "paris.cesna.2022:4308 ['BAG3']\n",
      "paris.cesna.2022:4308 ['TTN']\n",
      "paris.walktrap.2022:1626 ['RBPJ']\n",
      "paris.walktrap.2022:1626 ['DLL4']\n",
      "paris.walktrap.2022:1626 ['SOX18']\n",
      "paris.cesna.2022:3984 ['NF1']\n",
      "paris.cesna.2022:3984 ['TRRAP']\n",
      "paris.cesna.2022:3984 ['SMC1A']\n",
      "paris.cesna.2022:3984 ['STXBP1']\n",
      "paris.cesna.2022:3984 ['SYNGAP1']\n",
      "paris.cesna.2022:3984 ['IQSEC2']\n",
      "paris.cesna.2022:3984 ['KANSL1']\n",
      "paris.cesna.2022:3984 ['SETBP1']\n",
      "paris.cesna.2022:3984 ['NAA15']\n",
      "paris.cesna.2022:3984 ['SCN1A']\n",
      "paris.cesna.2022:3984 ['FOXG1']\n",
      "paris.cesna.2022:3984 ['CTNNB1']\n",
      "paris.cesna.2022:3984 ['ARID1B']\n",
      "paris.cesna.2022:3984 ['ATRX']\n",
      "paris.cesna.2022:3984 ['MBD5']\n",
      "paris.cesna.2022:3984 ['GRIN2B']\n",
      "paris.cesna.2022:3984 ['CHD8']\n",
      "paris.cesna.2022:3984 ['EHMT1']\n",
      "paris.cesna.2022:3984 ['DYRK1A']\n",
      "paris.cesna.2022:3984 ['ADNP']\n",
      "paris.cesna.2022:3984 ['PPP2R5D']\n",
      "paris.cesna.2022:3984 ['TRIP12']\n",
      "paris.cesna.2022:3984 ['TANC2']\n",
      "paris.cesna.2022:3984 ['MECP2']\n",
      "paris.cesna.2022:3984 ['TBR1']\n",
      "paris.cesna.2022:3984 ['CHD7']\n",
      "paris.cesna.2022:3984 ['ASH1L']\n",
      "paris.cesna.2022:18491 ['ACTB']\n",
      "paris.cesna.2022:18491 ['MAPT']\n",
      "paris.cesna.2022:18491 ['LRRK2']\n",
      "paris.cesna.2022:18491 ['APP']\n",
      "paris.cesna.2022:18491 ['HTT']\n",
      "paris.cesna.2022:18491 ['SNCA']\n",
      "paris.cesna.2022:18491 ['AR']\n",
      "paris.cesna.2022:18491 ['TBP']\n",
      "paris.cesna.2022:18491 ['STUB1']\n",
      "paris.cesna.2022:18491 ['PABPN1']\n",
      "paris.cesna.2022:18491 ['MECP2']\n",
      "paris.cesna.2022:18491 ['FUS']\n",
      "paris.cesna.2022:18491 ['DMPK']\n",
      "paris.cesna.2022:11079 ['APOB']\n",
      "paris.cesna.2022:11079 ['ABCG5']\n",
      "paris.cesna.2022:11079 ['ABCG8']\n",
      "paris.cesna.2022:11079 ['PCSK9']\n",
      "paris.cesna.2022:11079 ['LDLR']\n",
      "paris.cesna.2022:2747 ['KDM6A']\n",
      "paris.cesna.2022:2747 ['NOTCH2']\n",
      "paris.cesna.2022:2747 ['SMAD4']\n",
      "paris.cesna.2022:2747 ['SOS1']\n",
      "paris.cesna.2022:2747 ['PTEN']\n",
      "paris.cesna.2022:2747 ['HRAS']\n",
      "paris.cesna.2022:2747 ['GATA4']\n",
      "paris.cesna.2022:13667 ['KDM6A']\n",
      "paris.cesna.2022:13667 ['SMARCB1']\n",
      "paris.cesna.2022:13667 ['BUB1B']\n",
      "paris.cesna.2022:13667 ['ATRX']\n",
      "paris.cesna.2022:13667 ['OBSL1']\n",
      "paris.cesna.2022:13667 ['GATA4']\n",
      "paris.cesna.2022:13667 ['GATA1']\n",
      "paris.cesna.2022:2747 ['KDM6A']\n",
      "paris.cesna.2022:2747 ['NOTCH2']\n",
      "paris.cesna.2022:2747 ['CHD7']\n",
      "paris.cesna.2022:2747 ['SMAD4']\n",
      "paris.cesna.2022:2747 ['GLI3']\n",
      "paris.cesna.2022:2747 ['SOS1']\n",
      "paris.cesna.2022:2747 ['SMARCA4']\n",
      "paris.cesna.2022:2747 ['HRAS']\n",
      "paris.cesna.2022:2747 ['GATA4']\n",
      "paris.cesna.2022:11542 ['PDE6D']\n",
      "paris.cesna.2022:11542 ['RPGRIP1L']\n",
      "paris.cesna.2022:11542 ['CEP41']\n",
      "paris.cesna.2022:11542 ['TMEM67']\n",
      "paris.cesna.2022:11542 ['NPHP1']\n",
      "paris.cesna.2022:11542 ['MKS1']\n",
      "paris.cesna.2022:11542 ['KIF7']\n",
      "paris.cesna.2022:11542 ['CBY1']\n",
      "paris.cesna.2022:11542 ['AHI1']\n",
      "paris.cesna.2022:11542 ['ZNF423']\n",
      "paris.cesna.2022:11542 ['TMEM138']\n",
      "paris.cesna.2022:11542 ['CC2D2A']\n",
      "paris.cesna.2022:11542 ['CEP104']\n",
      "paris.cesna.2022:11542 ['TMEM237']\n",
      "paris.cesna.2022:11542 ['B9D1']\n",
      "paris.cesna.2022:11542 ['ARL3']\n",
      "paris.cesna.2022:11542 ['CEP120']\n",
      "paris.cesna.2022:11542 ['TCTN3']\n",
      "paris.cesna.2022:11542 ['HYLS1']\n",
      "paris.cesna.2022:11542 ['TCTN2']\n",
      "paris.cesna.2022:11542 ['PDE6D']\n",
      "paris.cesna.2022:11542 ['RPGRIP1L']\n",
      "paris.cesna.2022:11542 ['CEP41']\n",
      "paris.cesna.2022:11542 ['TMEM67']\n",
      "paris.cesna.2022:11542 ['NPHP1']\n",
      "paris.cesna.2022:11542 ['MKS1']\n",
      "paris.cesna.2022:11542 ['KIF7']\n",
      "paris.cesna.2022:11542 ['CBY1']\n",
      "paris.cesna.2022:11542 ['AHI1']\n",
      "paris.cesna.2022:11542 ['ZNF423']\n",
      "paris.cesna.2022:11542 ['TMEM138']\n",
      "paris.cesna.2022:11542 ['CC2D2A']\n",
      "paris.cesna.2022:11542 ['CEP104']\n",
      "paris.cesna.2022:11542 ['TMEM237']\n",
      "paris.cesna.2022:11542 ['B9D1']\n",
      "paris.cesna.2022:11542 ['ARL3']\n",
      "paris.cesna.2022:11542 ['CEP120']\n",
      "paris.cesna.2022:11542 ['TCTN3']\n",
      "paris.cesna.2022:11542 ['HYLS1']\n",
      "paris.cesna.2022:11542 ['TCTN2']\n",
      "Num paths: [6, 9, 3, 5, 4, 5, 4, 3, 10, 3, 3, 27, 13, 5, 7, 7, 9, 20, 20]\n",
      "Num HPOs in paths [0, 0, 0, 0, 0, 0, 0, 0, 0, 0, 0, 0, 0, 0, 0, 0, 0, 0, 0, 0, 0, 0, 0, 0, 0, 0, 0, 0, 0, 0, 0, 0, 0, 0, 0, 0, 0, 0, 0, 0, 0, 0, 0, 0, 0, 0, 0, 0, 0, 0, 0, 0, 0, 0, 0, 0, 0, 0, 0, 0, 0, 0, 0, 0, 0, 0, 0, 0, 0, 0, 0, 0, 0, 0, 0, 0, 0, 0, 0, 0, 0, 0, 0, 0, 0, 0, 0, 0, 0, 0, 0, 0, 0, 0, 0, 0, 0, 0, 0, 0, 0, 0, 0, 0, 0, 0, 0, 0, 0, 0, 0, 0, 0, 0, 0, 0, 0, 0, 0, 0, 0, 0, 0, 0, 0, 0, 0, 0, 0, 0, 0, 0, 0, 0, 0, 0, 0, 0, 0, 0, 0, 0, 0, 0, 0, 0, 0, 0, 0, 0, 0, 0, 0, 0, 0, 0, 0, 0, 0, 0, 0, 0, 0]\n",
      "0\n"
     ]
    }
   ],
   "source": [
    "# UID, HPO, GENE\n",
    "mg2_edges\n",
    "\n",
    "path_res = {'algo':[],'com':[],'pair':[],'num_genes':[]}\n",
    "num_paths = []\n",
    "num_hpos_in_path = []\n",
    "for case in mg2_edges:\n",
    "    key = case[0].split(':')[0]\n",
    "    com_id = case[0].split(':')[1]\n",
    "    # find the cluster from the list of clusters\n",
    "    com = [c for c in coms_dict[key] if str(c.name) == com_id ][0]\n",
    "    # get the shortest path(s)\n",
    "    g = G21.subgraph(com.members)\n",
    "    paths = list(nx.all_shortest_paths(g, case[1],case[2]))\n",
    "    num_paths.append(len(paths))\n",
    "    for path in paths:\n",
    "#         print(path)\n",
    "        num_hpos_in_path.append(sum(['HP:' in n for n in path[1:-1]]))\n",
    "        if num_hpos_in_path[-1] > 0:\n",
    "            print('THIS ONE',path)\n",
    "        print('{algo}:{com} {path}'.format(algo=key,com=com_id,path=str(path[1:-1])))\n",
    "\n",
    "# number of paths per pair\n",
    "print('Num paths:', num_paths)\n",
    "\n",
    "# how many have a shortest path with an HPO in it?\n",
    "print('Num HPOs in paths',num_hpos_in_path)\n",
    "print(sum(num_hpos_in_path))"
   ]
  }
 ],
 "metadata": {
  "kernelspec": {
   "display_name": "Python 3 (ipykernel)",
   "language": "python",
   "name": "python3"
  },
  "language_info": {
   "codemirror_mode": {
    "name": "ipython",
    "version": 3
   },
   "file_extension": ".py",
   "mimetype": "text/x-python",
   "name": "python",
   "nbconvert_exporter": "python",
   "pygments_lexer": "ipython3",
   "version": "3.10.4"
  }
 },
 "nbformat": 4,
 "nbformat_minor": 5
}
