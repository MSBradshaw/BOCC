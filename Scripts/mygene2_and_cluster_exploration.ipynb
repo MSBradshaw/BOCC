{
 "cells": [
  {
   "cell_type": "markdown",
   "metadata": {},
   "source": [
    "The purpose of this file is to identify a MyGene2 patient who has their case solved by BOCC"
   ]
  },
  {
   "cell_type": "code",
   "execution_count": 1,
   "metadata": {},
   "outputs": [],
   "source": [
    "import pandas as pd\n",
    "from BOCC import BOCC, load_clusters\n",
    "import matplotlib.pyplot as plt\n",
    "import networkx as nx\n",
    "import os"
   ]
  },
  {
   "cell_type": "markdown",
   "metadata": {
    "pycharm": {
     "name": "#%% md\n"
    }
   },
   "source": [
    "### Load MyGene2 data and predicted cluster values"
   ]
  },
  {
   "cell_type": "code",
   "execution_count": 2,
   "metadata": {
    "pycharm": {
     "name": "#%%\n"
    }
   },
   "outputs": [
    {
     "name": "stdout",
     "output_type": "stream",
     "text": [
      "Index(['Unnamed: 0', 'gene', 'variant_id', 'family_id', 'family_url',\n",
      "       'inheritance', 'phenotype_name', 'phenotype_hpo_id',\n",
      "       'confidence_in_pathogenicity'],\n",
      "      dtype='object')\n",
      "(21455, 9)\n",
      "Index(['cluster_origin', 'bocc_origin', 'cluster_method', 'subcluster_method',\n",
      "       'year', 'IDs', 'predicted_snowballing_pvalue', 'snowballing_pvalue',\n",
      "       'max_norm_cell_type_specificity', 'max_norm_disease_specificity',\n",
      "       'max_plof', 'mean_plof', 'median_plof', 'num_cell_type_string',\n",
      "       'num_disease_string', 'num_of_diseases', 'num_sig_go_enrichment_terms',\n",
      "       'std_plof', 'sum_plof', 'avg_embeddedness', 'avg_internal_degree',\n",
      "       'cluster_size', 'conductance', 'cut_ratio', 'edges_inside', 'expansion',\n",
      "       'gene_ratio', 'hub_dominance', 'internal_edge_density',\n",
      "       'newman_girvan_modularity', 'normalized_cut', 'significance',\n",
      "       'surprise', 'triangle_participation_ratio'],\n",
      "      dtype='object')\n",
      "(8017, 34)\n"
     ]
    }
   ],
   "source": [
    "mg2_df = pd.read_csv('../Resources/my_gene_2_variantes_by_family_tables.csv')\n",
    "print(mg2_df.columns)\n",
    "print(mg2_df.shape)\n",
    "\n",
    "predicted_df = pd.read_csv('../xgboost_results.csv')\n",
    "print(predicted_df.columns)\n",
    "print(predicted_df.shape)"
   ]
  },
  {
   "cell_type": "code",
   "execution_count": 3,
   "metadata": {},
   "outputs": [],
   "source": [
    "# Functions for usefull stuff\n",
    "def remove_borders(ax,top=True,right=True,bottom=True,left=True):\n",
    "    ax.spines['top'].set_visible(not top)\n",
    "    ax.spines['right'].set_visible(not right)\n",
    "    ax.spines['bottom'].set_visible(not bottom)\n",
    "    ax.spines['left'].set_visible(not left)"
   ]
  },
  {
   "cell_type": "markdown",
   "metadata": {},
   "source": [
    "### Load all of the clusters"
   ]
  },
  {
   "cell_type": "code",
   "execution_count": 4,
   "metadata": {},
   "outputs": [],
   "source": [
    "\"\"\"\n",
    "Dict format\n",
    "{\n",
    "'paris.censa.2020':['HP:0000001','SEMA4A'...],\n",
    "'paris.censa.2019':['HP:0000001','SEMA4A'...],\n",
    "...\n",
    "}\n",
    "\"\"\"\n",
    "coms_dict = {}\n",
    "for dir in os.listdir('../SubComs'):\n",
    "    if dir in ['2019', '2020', '2021']:\n",
    "        for f in os.listdir('../SubComs/{}'.format(dir)):\n",
    "            if 'paris' in f:\n",
    "                coms_dict[f.replace('.coms.txt','')] = load_clusters('../SubComs/{}/{}'.format(dir,f))"
   ]
  },
  {
   "cell_type": "markdown",
   "metadata": {},
   "source": [
    "### Load the Edgelist"
   ]
  },
  {
   "cell_type": "code",
   "execution_count": 5,
   "metadata": {},
   "outputs": [],
   "source": [
    "G19 = nx.read_edgelist('../Edgelists/String_HPO_2019.phenotypic_branch.edgelist.txt')\n",
    "G20 = nx.read_edgelist('../Edgelists/String_HPO_2020.phenotypic_branch.edgelist.txt')\n",
    "G21 = nx.read_edgelist('../Edgelists/String_HPO_2021.phenotypic_branch.edgelist.txt')"
   ]
  },
  {
   "cell_type": "markdown",
   "metadata": {},
   "source": [
    "### Filter MyGene2 patients to be just those that are unsolved\n",
    "#### Load them all into a dict"
   ]
  },
  {
   "cell_type": "code",
   "execution_count": 6,
   "metadata": {},
   "outputs": [
    {
     "name": "stdout",
     "output_type": "stream",
     "text": [
      "912\n"
     ]
    }
   ],
   "source": [
    "# create a dict with patient keys and lists of all HPOs and genes within them\n",
    "patient_map = {}\n",
    "# add all the genes\n",
    "for i,r in mg2_df.groupby('family_id')['gene'].agg(['unique'])['unique'].reset_index().iterrows():\n",
    "    patient_map[r['family_id']] = list(r['unique'])\n",
    "# add all the HPOs\n",
    "for i,r in mg2_df.groupby('family_id')['phenotype_hpo_id'].agg(['unique'])['unique'].reset_index().iterrows():\n",
    "    if r['family_id'] in patient_map:\n",
    "            patient_map[r['family_id']] = patient_map[r['family_id']] + list(r['unique'])\n",
    "print(len(patient_map))\n",
    "assert(len(patient_map) == len(set(mg2_df['family_id'])))"
   ]
  },
  {
   "cell_type": "markdown",
   "metadata": {},
   "source": [
    "#### Remove patients with only a sinlge gene"
   ]
  },
  {
   "cell_type": "code",
   "execution_count": 7,
   "metadata": {},
   "outputs": [
    {
     "name": "stdout",
     "output_type": "stream",
     "text": [
      "912\n",
      "912\n"
     ]
    }
   ],
   "source": [
    "filtered_patient_map = {}\n",
    "for key in patient_map.keys():\n",
    "    if sum(['HP:' not in x for x in patient_map[key]]) > 0: # change this to > 1 to actually filter\n",
    "        filtered_patient_map[key] = patient_map[key]\n",
    "print(len(patient_map))\n",
    "print(len(filtered_patient_map))"
   ]
  },
  {
   "cell_type": "markdown",
   "metadata": {},
   "source": [
    "#### create all possible pairs for each patient"
   ]
  },
  {
   "cell_type": "code",
   "execution_count": 8,
   "metadata": {},
   "outputs": [],
   "source": [
    "all_patient_pairs = {}\n",
    "for key in filtered_patient_map.keys():\n",
    "    genes = [x for x in patient_map[key] if 'HP:' not in x]\n",
    "    hpos = [x for x in patient_map[key] if 'HP:' in x]\n",
    "    all_patient_pairs[key] = [[g,h] for g in genes for h in hpos]"
   ]
  },
  {
   "cell_type": "markdown",
   "metadata": {},
   "source": [
    "##### How many of these pateints do not have any edges already in the 2019 graph?"
   ]
  },
  {
   "cell_type": "code",
   "execution_count": 9,
   "metadata": {},
   "outputs": [
    {
     "name": "stdout",
     "output_type": "stream",
     "text": [
      "Number of \"unsolved\" MyGene2 patients 115\n"
     ]
    }
   ],
   "source": [
    "solved_patients = []\n",
    "for key in all_patient_pairs.keys():\n",
    "    for pair in all_patient_pairs[key]:\n",
    "        if G21.has_edge(pair[0],pair[1]) or G21.has_edge(pair[1],pair[0]):\n",
    "            solved_patients.append(key)\n",
    "            break\n",
    "unsolved_patients = [x for x in all_patient_pairs.keys() if x not in solved_patients]\n",
    "print('Number of \"unsolved\" MyGene2 patients',len(unsolved_patients))"
   ]
  },
  {
   "cell_type": "markdown",
   "metadata": {},
   "source": [
    "#### Create map of patient id and their genes and HPOs"
   ]
  },
  {
   "cell_type": "code",
   "execution_count": 10,
   "metadata": {},
   "outputs": [],
   "source": [
    "# getting this information is just a matter of subsetting the filtered_patient_map\n",
    "unsolved_patients_map = {id:filtered_patient_map[id] for id in unsolved_patients}\n",
    "unsolved_patients_pairs = {id:all_patient_pairs[id] for id in unsolved_patients}"
   ]
  },
  {
   "cell_type": "markdown",
   "metadata": {},
   "source": [
    "### How many of these pateints have one of their edges discovered in a cluster?"
   ]
  },
  {
   "cell_type": "code",
   "execution_count": 11,
   "metadata": {},
   "outputs": [
    {
     "name": "stdout",
     "output_type": "stream",
     "text": [
      "1292\tTNNT3\tHP:0002804\tparis.walktrap.2021:1321 1292 ['TNNT3', 'HP:0002804']\n",
      "1292\tTNNT3\tHP:0002804\tparis.greedy.2021:968 1292 ['TNNT3', 'HP:0002804']\n",
      "1635\tSPTBN5\tHP:0001250\tparis.cesna.2021:22018 1635 ['SPTBN5', 'HP:0001250']\n",
      "1922\tFAT2\tHP:0001310\tparis.cesna.2021:15553 1922 ['FAT2', 'HP:0001310']\n",
      "1930\tNBEA\tHP:0001824\tparis.walktrap.2021:84 1930 ['NBEA', 'HP:0001824']\n",
      "1932\tHUWE1\tHP:0000739\tparis.cesna.2021:9175 1932 ['HUWE1', 'HP:0000739']\n",
      "1943\tSHANK2\tHP:0011968\tparis.cesna.2021:3199 1943 ['SHANK2', 'HP:0011968']\n",
      "1948\tCHD2\tHP:0001250\tparis.cesna.2021:9175 1948 ['CHD2', 'HP:0001250']\n",
      "1950\tSATB2\tHP:0001999\tparis.cesna.2021:14105 1950 ['SATB2', 'HP:0001999']\n",
      "1950\tSATB2\tHP:0000202\tparis.cesna.2021:5816 1950 ['SATB2', 'HP:0000202']\n",
      "2197\tC17orf62\tHP:0006532\tparis.cesna.2021:6379 2197 ['C17orf62', 'HP:0006532']\n",
      "2197\tC17orf62\tHP:0001744\tparis.cesna.2021:6379 2197 ['C17orf62', 'HP:0001744']\n",
      "2234\tDROSHA\tHP:0000252\tparis.cesna.2021:24074 2234 ['DROSHA', 'HP:0000252']\n",
      "2527\tTRAPPC5\tHP:0000011\tparis.walktrap.2021:745 2527 ['TRAPPC5', 'HP:0000011']\n",
      "2527\tTRAPPC5\tHP:0000011\tparis.greedy.2021:420 2527 ['TRAPPC5', 'HP:0000011']\n",
      "2584\tPYROXD1\tHP:0003715\tparis.cesna.2021:24123 2584 ['PYROXD1', 'HP:0003715']\n",
      "2584\tPYROXD1\tHP:0003198\tparis.cesna.2021:24123 2584 ['PYROXD1', 'HP:0003198']\n",
      "27\tSCN2A\tHP:0001250\tparis.cesna.2021:1940 27 ['SCN2A', 'HP:0001250']\n",
      "27\tSCN2A\tHP:0001250\tparis.cesna.2021:15778 27 ['SCN2A', 'HP:0001250']\n",
      "27\tSCN2A\tHP:0001250\tparis.cesna.2021:21373 27 ['SCN2A', 'HP:0001250']\n",
      "27\tSCN2A\tHP:0001250\tparis.cesna.2021:24273 27 ['SCN2A', 'HP:0001250']\n",
      "Number of patients solved by one of these communities 13\n"
     ]
    }
   ],
   "source": [
    "# {101:['paris.censa.2021:1:SEMA4A,HP:0000128']} patient_id:list of ids of com this patient was solved by:gene,HPO\n",
    "newly_solved_patients = {}\n",
    "for pid in unsolved_patients_pairs:\n",
    "    # is this pid's pairs in any of the coms?\n",
    "    for pair in unsolved_patients_pairs[pid]:\n",
    "        # for each community sets keys are in formatted like 'paris.cesna.2021'\n",
    "        for k in coms_dict.keys():\n",
    "            if '2021' not in k:\n",
    "                continue\n",
    "            for com in coms_dict[k]:\n",
    "                if pair[0] in com.members and pair[1] in com.members:\n",
    "                    res_string = '{pid}\\t{node1}\\t{node2}\\t{cluster_set}:{cluster_id}'.format(cluster_set=k,\n",
    "                                                                                     cluster_id=str(com.name),\n",
    "                                                                                     node1=pair[0],\n",
    "                                                                                     node2=pair[1],pid=pid)\n",
    "                    print(res_string, pid, pair)\n",
    "                    if pid in newly_solved_patients:\n",
    "                        newly_solved_patients[pid].append(res_string)\n",
    "                    else:\n",
    "                        newly_solved_patients[pid] = [res_string]\n",
    "                    \n",
    "\n",
    "print('Number of patients solved by one of these communities', len(newly_solved_patients)) "
   ]
  },
  {
   "cell_type": "markdown",
   "metadata": {},
   "source": [
    "#### How many of their unique pairs were matched by our clusters? It is possible that a pair was picked up by multiple communities."
   ]
  },
  {
   "cell_type": "code",
   "execution_count": 12,
   "metadata": {},
   "outputs": [
    {
     "name": "stdout",
     "output_type": "stream",
     "text": [
      "[2, 1, 1, 1, 1, 1, 1, 2, 1, 1, 2, 1, 4]\n"
     ]
    },
    {
     "data": {
      "image/png": "[encoded data removed]",
      "text/plain": [
       "<Figure size 432x288 with 1 Axes>"
      ]
     },
     "metadata": {
      "needs_background": "light"
     },
     "output_type": "display_data"
    }
   ],
   "source": [
    "pairs_per_patient = [len(set([ p.split(':')[-1] for p in newly_solved_patients[pid]])) for pid in newly_solved_patients.keys()]\n",
    "print(pairs_per_patient)\n",
    "fig, ax = plt.subplots()\n",
    "ax.hist(pairs_per_patient)\n",
    "ax.set_xlabel('Number of patients\\' pairs explained by a community')\n",
    "ax.set_ylabel('Number of patients')\n",
    "remove_borders(ax, bottom=False, left=False)\n",
    "plt.tight_layout()\n",
    "plt.savefig('../Figures/mg2_results_unsolved_patient_pairs_explained_hist.png',dpi=300)\n",
    "plt.show()"
   ]
  },
  {
   "cell_type": "markdown",
   "metadata": {},
   "source": [
    "#### How many of the pairs are discovered by multiple clusters?"
   ]
  },
  {
   "cell_type": "code",
   "execution_count": 13,
   "metadata": {},
   "outputs": [
    {
     "data": {
      "image/png": "[encoded data removed]",
      "text/plain": [
       "<Figure size 432x288 with 1 Axes>"
      ]
     },
     "metadata": {
      "needs_background": "light"
     },
     "output_type": "display_data"
    }
   ],
   "source": [
    "pair_counts = []\n",
    "for pid in newly_solved_patients.keys():\n",
    "    # how many times is each pair discovered?\n",
    "    pairs = [res.split(':')[-1] for res in newly_solved_patients[pid]]\n",
    "    tmp_pair_map = {res.split(':')[-1]:res for res in newly_solved_patients[pid]}\n",
    "    tmp_pair_counts = []\n",
    "    for p in set(pairs):\n",
    "#         print(tmp_pair_map[p],pairs.count(p))\n",
    "        tmp_pair_counts.append(pairs.count(p))\n",
    "    pair_counts = pair_counts + tmp_pair_counts\n",
    "\n",
    "fig, ax = plt.subplots()\n",
    "ax.hist(pair_counts,bins=12)\n",
    "ax.set_xlabel('# cluster pair was discovered in')\n",
    "ax.set_ylabel('# pairs')\n",
    "remove_borders(ax,bottom=False,left=False)\n",
    "plt.tight_layout()\n",
    "plt.savefig('../Figures/mg2_results_unsolved_patient_pairs_coms_membership_count.png',dpi=300)\n",
    "plt.show()"
   ]
  },
  {
   "cell_type": "code",
   "execution_count": 14,
   "metadata": {},
   "outputs": [
    {
     "name": "stdout",
     "output_type": "stream",
     "text": [
      "1292\n",
      "1635\n",
      "1922\n",
      "1930\n",
      "1932\n",
      "1943\n",
      "1948\n",
      "1950\n",
      "2197\n",
      "2234\n",
      "2527\n",
      "2584\n",
      "27\n"
     ]
    }
   ],
   "source": [
    "for pid in newly_solved_patients.keys():\n",
    "    print(pid)"
   ]
  },
  {
   "cell_type": "markdown",
   "metadata": {},
   "source": [
    "## 2020 Results"
   ]
  },
  {
   "cell_type": "code",
   "execution_count": 15,
   "metadata": {},
   "outputs": [
    {
     "name": "stdout",
     "output_type": "stream",
     "text": [
      "Index(['cluster_origin', 'bocc_origin', 'cluster_method', 'subcluster_method',\n",
      "       'year', 'IDs', 'predicted_snowballing_pvalue', 'snowballing_pvalue',\n",
      "       'max_norm_cell_type_specificity', 'max_norm_disease_specificity',\n",
      "       'max_plof', 'mean_plof', 'median_plof', 'num_cell_type_string',\n",
      "       'num_disease_string', 'num_of_diseases', 'num_sig_go_enrichment_terms',\n",
      "       'std_plof', 'sum_plof', 'avg_embeddedness', 'avg_internal_degree',\n",
      "       'cluster_size', 'conductance', 'cut_ratio', 'edges_inside', 'expansion',\n",
      "       'gene_ratio', 'hub_dominance', 'internal_edge_density',\n",
      "       'newman_girvan_modularity', 'normalized_cut', 'significance',\n",
      "       'surprise', 'triangle_participation_ratio'],\n",
      "      dtype='object')\n",
      "(8017, 34)\n",
      "                                         cluster_origin  \\\n",
      "1520  Data/SubClusters/2020/louvain.cesna.2020.coms.txt   \n",
      "31    Data/SubClusters/2020/louvain.cesna.2020.coms.txt   \n",
      "3025    Data/SubClusters/2020/paris.cesna.2020.coms.txt   \n",
      "4364    Data/SubClusters/2020/paris.cesna.2020.coms.txt   \n",
      "3959    Data/SubClusters/2020/paris.cesna.2020.coms.txt   \n",
      "...                                                 ...   \n",
      "5290   Data/SubClusters/2020/paris.greedy.2020.coms.txt   \n",
      "3773    Data/SubClusters/2020/paris.cesna.2020.coms.txt   \n",
      "5656  Data/SubClusters/2020/paris.infomap.2020.coms.txt   \n",
      "2897    Data/SubClusters/2020/paris.cesna.2020.coms.txt   \n",
      "508   Data/SubClusters/2020/louvain.cesna.2020.coms.txt   \n",
      "\n",
      "                                         bocc_origin cluster_method  \\\n",
      "1520  Data/BOCC/2020/louvain.cesna.2020.bocc_res.tsv          cesna   \n",
      "31    Data/BOCC/2020/louvain.cesna.2020.bocc_res.tsv          cesna   \n",
      "3025    Data/BOCC/2020/paris.cesna.2020.bocc_res.tsv          cesna   \n",
      "4364    Data/BOCC/2020/paris.cesna.2020.bocc_res.tsv          cesna   \n",
      "3959    Data/BOCC/2020/paris.cesna.2020.bocc_res.tsv          cesna   \n",
      "...                                              ...            ...   \n",
      "5290   Data/BOCC/2020/paris.greedy.2020.bocc_res.tsv         greedy   \n",
      "3773    Data/BOCC/2020/paris.cesna.2020.bocc_res.tsv          cesna   \n",
      "5656  Data/BOCC/2020/paris.infomap.2020.bocc_res.tsv        infomap   \n",
      "2897    Data/BOCC/2020/paris.cesna.2020.bocc_res.tsv          cesna   \n",
      "508   Data/BOCC/2020/louvain.cesna.2020.bocc_res.tsv          cesna   \n",
      "\n",
      "     subcluster_method  year    IDs  predicted_snowballing_pvalue  \\\n",
      "1520           louvain  2020  19211                      0.002036   \n",
      "31             louvain  2020    344                      0.002334   \n",
      "3025             paris  2020   3826                      0.002341   \n",
      "4364             paris  2020  20524                      0.002415   \n",
      "3959             paris  2020  15393                      0.002483   \n",
      "...                ...   ...    ...                           ...   \n",
      "5290             paris  2020   1170                      0.019126   \n",
      "3773             paris  2020  12956                      0.019147   \n",
      "5656             paris  2020   3051                      0.019160   \n",
      "2897             paris  2020   2048                      0.019174   \n",
      "508            louvain  2020   6333                      0.019190   \n",
      "\n",
      "      snowballing_pvalue  max_norm_cell_type_specificity  \\\n",
      "1520                0.00                        0.250000   \n",
      "31                  0.00                        0.222222   \n",
      "3025                0.00                        0.166667   \n",
      "4364                0.00                        0.222222   \n",
      "3959                0.00                        0.230769   \n",
      "...                  ...                             ...   \n",
      "5290                0.00                        0.125000   \n",
      "3773                0.00                        0.125000   \n",
      "5656                0.00                        0.157895   \n",
      "2897                0.01                        0.052632   \n",
      "508                 0.08                        0.187500   \n",
      "\n",
      "      max_norm_disease_specificity  ...    expansion  gene_ratio  \\\n",
      "1520                      0.750000  ...   653.666667    0.444444   \n",
      "31                        0.555556  ...   530.235294    0.529412   \n",
      "3025                      0.833333  ...   761.518519    0.444444   \n",
      "4364                      0.666667  ...   673.388889    0.500000   \n",
      "3959                      0.692308  ...   825.863636    0.590909   \n",
      "...                            ...  ...          ...         ...   \n",
      "5290                      0.562500  ...   271.409091    0.363636   \n",
      "3773                      0.687500  ...  1154.619048    0.761905   \n",
      "5656                      0.578947  ...   267.333333    0.253333   \n",
      "2897                      0.473684  ...   553.476190    0.904762   \n",
      "508                       0.312500  ...  1385.470588    0.941176   \n",
      "\n",
      "      hub_dominance  internal_edge_density  newman_girvan_modularity  \\\n",
      "1520       0.941176               0.535948             -5.539547e-07   \n",
      "31         1.000000               0.661765             -5.736361e-07   \n",
      "3025       1.000000               0.606838             -2.989016e-06   \n",
      "4364       1.000000               0.660131             -9.481508e-07   \n",
      "3959       1.000000               0.683983             -2.236438e-06   \n",
      "...             ...                    ...                       ...   \n",
      "5290       0.620690               0.237200             -5.280589e-07   \n",
      "3773       0.800000               0.509524             -3.648574e-06   \n",
      "5656       0.540541               0.131892              1.764665e-06   \n",
      "2897       1.000000               0.718931             -3.573835e-06   \n",
      "508        1.000000               0.522059             -3.810140e-06   \n",
      "\n",
      "      normalized_cut  significance     surprise  triangle_participation_ratio  \\\n",
      "1520        0.987221   1118.247340   246.232506                      1.000000   \n",
      "31          0.981164   1256.287572   288.915478                      1.000000   \n",
      "3025        0.981393   2943.943171   665.603038                      1.000000   \n",
      "4364        0.984605   1409.425226   323.981534                      1.000000   \n",
      "3959        0.984400   2214.147343   512.348253                      1.000000   \n",
      "...              ...           ...          ...                           ...   \n",
      "5290        0.931302  11455.393880  2007.767710                      0.784091   \n",
      "3773        0.993245   1451.521472   315.996930                      0.809524   \n",
      "5656        0.966426   4380.628250   606.756143                      0.746667   \n",
      "2897        0.951348   8727.576413  2037.668830                      1.000000   \n",
      "508         0.995944    965.585351   211.372201                      1.000000   \n",
      "\n",
      "                             UID  \n",
      "1520  louvain.louvain.2020:19211  \n",
      "31      louvain.louvain.2020:344  \n",
      "3025       paris.paris.2020:3826  \n",
      "4364      paris.paris.2020:20524  \n",
      "3959      paris.paris.2020:15393  \n",
      "...                          ...  \n",
      "5290       paris.paris.2020:1170  \n",
      "3773      paris.paris.2020:12956  \n",
      "5656       paris.paris.2020:3051  \n",
      "2897       paris.paris.2020:2048  \n",
      "508    louvain.louvain.2020:6333  \n",
      "\n",
      "[1898 rows x 35 columns]\n"
     ]
    },
    {
     "name": "stderr",
     "output_type": "stream",
     "text": [
      "/var/folders/ty/694s8g7n1cz_l5s3prx55jzr0000gn/T/ipykernel_76512/1272666798.py:9: SettingWithCopyWarning: \n",
      "A value is trying to be set on a copy of a slice from a DataFrame.\n",
      "Try using .loc[row_indexer,col_indexer] = value instead\n",
      "\n",
      "See the caveats in the documentation: https://pandas.pydata.org/pandas-docs/stable/user_guide/indexing.html#returning-a-view-versus-a-copy\n",
      "  sig_df['UID'] = sig_df['subcluster_method'] + '.' + sig_df['subcluster_method']  + '.' + sig_df['year'].astype(str) + ':' + sig_df['IDs'].astype(str)\n"
     ]
    }
   ],
   "source": [
    "# filter the clusters so only the ones predicted as significant are included in the search\n",
    "predicted_df = pd.read_csv('../xgboost_results.csv')\n",
    "print(predicted_df.columns)\n",
    "print(predicted_df.shape)\n",
    "predicted_df = predicted_df.sort_values('predicted_snowballing_pvalue')\n",
    "predicted_df = predicted_df[predicted_df['year'] == 2020]\n",
    "sig_df = predicted_df.iloc[:1898,:]\n",
    "#paris.censa.2021:1\n",
    "sig_df['UID'] = sig_df['subcluster_method'] + '.' + sig_df['subcluster_method']  + '.' + sig_df['year'].astype(str) + ':' + sig_df['IDs'].astype(str)\n",
    "print(sig_df)\n"
   ]
  },
  {
   "cell_type": "code",
   "execution_count": 16,
   "metadata": {},
   "outputs": [
    {
     "name": "stdout",
     "output_type": "stream",
     "text": [
      "1292\tTNNT3\tHP:0002804\tparis.infomap.2020:2791 1292 ['TNNT3', 'HP:0002804']\n",
      "1292\tTNNT3\tHP:0002804\tparis.greedy.2020:1321 1292 ['TNNT3', 'HP:0002804']\n",
      "1292\tTNNT3\tHP:0005684\tparis.infomap.2020:2791 1292 ['TNNT3', 'HP:0005684']\n",
      "1292\tTNNT3\tHP:0005684\tparis.greedy.2020:1321 1292 ['TNNT3', 'HP:0005684']\n",
      "1922\tFAT2\tHP:0001251\tparis.cesna.2020:20487 1922 ['FAT2', 'HP:0001251']\n",
      "1947\tPLXNB3\tHP:0001290\tparis.cesna.2020:21134 1947 ['PLXNB3', 'HP:0001290']\n",
      "2584\tPYROXD1\tHP:0003560\tparis.greedy.2020:282 2584 ['PYROXD1', 'HP:0003560']\n",
      "2652\tSULF1\tHP:0004322\tparis.cesna.2020:14022 2652 ['SULF1', 'HP:0004322']\n",
      "27\tSCN2A\tHP:0001250\tparis.cesna.2020:9550 27 ['SCN2A', 'HP:0001250']\n",
      "347\tGUCY1A3\tHP:0000822\tparis.cesna.2020:26102 347 ['GUCY1A3', 'HP:0000822']\n",
      "511\tARF1\tHP:0002079\tparis.cesna.2020:21952 511 ['ARF1', 'HP:0002079']\n",
      "511\tARF1\tHP:0001263\tparis.cesna.2020:21952 511 ['ARF1', 'HP:0001263']\n",
      "877\tB9D2\tHP:0001251\tparis.cesna.2020:17558 877 ['B9D2', 'HP:0001251']\n",
      "878\tB9D2\tHP:0001251\tparis.cesna.2020:17558 878 ['B9D2', 'HP:0001251']\n",
      "Number of patients solved by one of these communities 10\n",
      "1292\n",
      "1922\n",
      "1947\n",
      "2584\n",
      "2652\n",
      "27\n",
      "347\n",
      "511\n",
      "877\n",
      "878\n"
     ]
    }
   ],
   "source": [
    "# filter the clusters so only the ones predicted as significant are included in the search\n",
    "\n",
    "\n",
    "def get_res(_year,_unsolved_patients_pairs,_coms_dict,_sig_df,_g8r_1_genes=False):\n",
    "    _filtered_patient_map = {}\n",
    "    for _key in _unsolved_patients_pairs.keys():\n",
    "        _thresh = 0\n",
    "        if _g8r_1_genes:\n",
    "            _thresh = 1\n",
    "        if sum(['HP:' not in x for x in _unsolved_patients_pairs[_key]]) > _thresh:\n",
    "            _filtered_patient_map[_key] = _unsolved_patients_pairs[_key]\n",
    "\n",
    "    # {101:['paris.censa.2021:1:SEMA4A,HP:0000128']} patient_id:list of ids of com this patient was solved by:gene,HPO\n",
    "    _newly_solved_patients = {}\n",
    "    for _pid in _unsolved_patients_pairs:\n",
    "        if 'family_id' in _pid:\n",
    "            continue\n",
    "        # is this pid's pairs in any of the coms?\n",
    "        for _pair in _filtered_patient_map[_pid]:\n",
    "            # for each community sets keys are in formatted like 'paris.cesna.2021'\n",
    "            for _k in _coms_dict.keys():\n",
    "                if _year not in _k:\n",
    "                    continue\n",
    "#                 print(len(_coms_dict))\n",
    "#                 print(len(_coms_dict[_k]))\n",
    "                for _com in _coms_dict[_k]:\n",
    "                    _uid  = '{}:{}'.format(_k,str(_com.name))\n",
    "#                     if _uid in _sig_df['UID'] and _pair[0] in _com.members and _pair[1] in _com.members:\n",
    "                    if _pair[0] in _com.members and _pair[1] in _com.members:\n",
    "                        _res_string = '{pid}\\t{node1}\\t{node2}\\t{cluster_set}:{cluster_id}'.format(cluster_set=_k,\n",
    "                                                                                         cluster_id=str(_com.name),\n",
    "                                                                                         node1=_pair[0],\n",
    "                                                                                         node2=_pair[1],\n",
    "                                                                                         pid=_pid)\n",
    "                        print(_res_string, _pid, _pair)\n",
    "                        if _pid in _newly_solved_patients:\n",
    "                            _newly_solved_patients[_pid].append(_res_string)\n",
    "                        else:\n",
    "                            _newly_solved_patients[_pid] = [_res_string]\n",
    "\n",
    "\n",
    "    print('Number of patients solved by one of these communities', len(_newly_solved_patients)) \n",
    "    for _pid in _newly_solved_patients.keys():\n",
    "        print(_pid)\n",
    "get_res('2020',unsolved_patients_pairs,coms_dict,sig_df,_g8r_1_genes=False)"
   ]
  },
  {
   "cell_type": "markdown",
   "metadata": {},
   "source": [
    "## Prediction Results on 2021"
   ]
  },
  {
   "cell_type": "code",
   "execution_count": 17,
   "metadata": {},
   "outputs": [
    {
     "name": "stdout",
     "output_type": "stream",
     "text": [
      "(17195, 34)\n",
      "(9178, 34)\n",
      "Index(['predicted_snowballing_pvalue', 'snowballing_pvalue', 'cluster_origin',\n",
      "       'bocc_origin', 'year', 'cluster_method', 'subcluster_method', 'IDs',\n",
      "       'max_norm_cell_type_specificity', 'max_norm_disease_specificity',\n",
      "       'max_plof', 'mean_plof', 'median_plof', 'num_cell_type_string',\n",
      "       'num_disease_string', 'num_of_diseases', 'num_sig_go_enrichment_terms',\n",
      "       'std_plof', 'sum_plof', 'avg_embeddedness', 'avg_internal_degree',\n",
      "       'cluster_size', 'conductance', 'cut_ratio', 'edges_inside', 'expansion',\n",
      "       'gene_ratio', 'hub_dominance', 'internal_edge_density',\n",
      "       'newman_girvan_modularity', 'normalized_cut', 'significance',\n",
      "       'surprise', 'triangle_participation_ratio'],\n",
      "      dtype='object')\n",
      "(1898, 35)\n"
     ]
    },
    {
     "name": "stderr",
     "output_type": "stream",
     "text": [
      "/var/folders/ty/694s8g7n1cz_l5s3prx55jzr0000gn/T/ipykernel_76512/3709743817.py:11: SettingWithCopyWarning: \n",
      "A value is trying to be set on a copy of a slice from a DataFrame.\n",
      "Try using .loc[row_indexer,col_indexer] = value instead\n",
      "\n",
      "See the caveats in the documentation: https://pandas.pydata.org/pandas-docs/stable/user_guide/indexing.html#returning-a-view-versus-a-copy\n",
      "  top_pred_df['UID'] = top_pred_df['subcluster_method'] + '.' + top_pred_df['cluster_method']  + '.' + top_pred_df['year'].astype(str) + ':' + top_pred_df['IDs'].astype(str)\n"
     ]
    },
    {
     "name": "stdout",
     "output_type": "stream",
     "text": [
      "1292\tTNNT3\tHP:0002804\tparis.walktrap.2021:1321 1292 ['TNNT3', 'HP:0002804']\n",
      "1292\tTNNT3\tHP:0002804\tparis.greedy.2021:968 1292 ['TNNT3', 'HP:0002804']\n",
      "1635\tSPTBN5\tHP:0001250\tparis.cesna.2021:22018 1635 ['SPTBN5', 'HP:0001250']\n",
      "1922\tFAT2\tHP:0001310\tparis.cesna.2021:15553 1922 ['FAT2', 'HP:0001310']\n",
      "1930\tNBEA\tHP:0001824\tparis.walktrap.2021:84 1930 ['NBEA', 'HP:0001824']\n",
      "1932\tHUWE1\tHP:0000739\tparis.cesna.2021:9175 1932 ['HUWE1', 'HP:0000739']\n",
      "1943\tSHANK2\tHP:0011968\tparis.cesna.2021:3199 1943 ['SHANK2', 'HP:0011968']\n",
      "1948\tCHD2\tHP:0001250\tparis.cesna.2021:9175 1948 ['CHD2', 'HP:0001250']\n",
      "1950\tSATB2\tHP:0001999\tparis.cesna.2021:14105 1950 ['SATB2', 'HP:0001999']\n",
      "1950\tSATB2\tHP:0000202\tparis.cesna.2021:5816 1950 ['SATB2', 'HP:0000202']\n",
      "2197\tC17orf62\tHP:0006532\tparis.cesna.2021:6379 2197 ['C17orf62', 'HP:0006532']\n",
      "2197\tC17orf62\tHP:0001744\tparis.cesna.2021:6379 2197 ['C17orf62', 'HP:0001744']\n",
      "2234\tDROSHA\tHP:0000252\tparis.cesna.2021:24074 2234 ['DROSHA', 'HP:0000252']\n",
      "2527\tTRAPPC5\tHP:0000011\tparis.walktrap.2021:745 2527 ['TRAPPC5', 'HP:0000011']\n",
      "2527\tTRAPPC5\tHP:0000011\tparis.greedy.2021:420 2527 ['TRAPPC5', 'HP:0000011']\n",
      "2584\tPYROXD1\tHP:0003715\tparis.cesna.2021:24123 2584 ['PYROXD1', 'HP:0003715']\n",
      "2584\tPYROXD1\tHP:0003198\tparis.cesna.2021:24123 2584 ['PYROXD1', 'HP:0003198']\n",
      "27\tSCN2A\tHP:0001250\tparis.cesna.2021:1940 27 ['SCN2A', 'HP:0001250']\n",
      "27\tSCN2A\tHP:0001250\tparis.cesna.2021:15778 27 ['SCN2A', 'HP:0001250']\n",
      "27\tSCN2A\tHP:0001250\tparis.cesna.2021:21373 27 ['SCN2A', 'HP:0001250']\n",
      "27\tSCN2A\tHP:0001250\tparis.cesna.2021:24273 27 ['SCN2A', 'HP:0001250']\n",
      "Number of patients solved by one of these communities 13\n",
      "1292\n",
      "1635\n",
      "1922\n",
      "1930\n",
      "1932\n",
      "1943\n",
      "1948\n",
      "1950\n",
      "2197\n",
      "2234\n",
      "2527\n",
      "2584\n",
      "27\n"
     ]
    }
   ],
   "source": [
    "pred_df = pd.read_csv('../predictions_from_2019_fit.csv')\n",
    "print(pred_df.shape)\n",
    "pred_df = pred_df[pred_df['year'] == 2021]\n",
    "print(pred_df.shape)\n",
    "print(pred_df.columns)\n",
    "pred_df = pred_df.sort_values('predicted_snowballing_pvalue')\n",
    "filtered_pred_df = pred_df[pred_df['subcluster_method'] == 'paris']\n",
    "filtered_pred_df = filtered_pred_df[filtered_pred_df['cluster_method'] != 'paris']\n",
    "\n",
    "top_pred_df = filtered_pred_df.iloc[:1898,:]\n",
    "top_pred_df['UID'] = top_pred_df['subcluster_method'] + '.' + top_pred_df['cluster_method']  + '.' + top_pred_df['year'].astype(str) + ':' + top_pred_df['IDs'].astype(str)\n",
    "print(top_pred_df.shape)\n",
    "get_res('2021',unsolved_patients_pairs,coms_dict,top_pred_df,_g8r_1_genes=False)\n"
   ]
  },
  {
   "cell_type": "markdown",
   "metadata": {},
   "source": [
    "## Create list of clusters that are predicted to be significant and their members "
   ]
  },
  {
   "cell_type": "code",
   "execution_count": 18,
   "metadata": {},
   "outputs": [
    {
     "name": "stdout",
     "output_type": "stream",
     "text": [
      "Index(['predicted_snowballing_pvalue', 'snowballing_pvalue', 'cluster_origin',\n",
      "       'bocc_origin', 'year', 'cluster_method', 'subcluster_method', 'IDs',\n",
      "       'max_norm_cell_type_specificity', 'max_norm_disease_specificity',\n",
      "       'max_plof', 'mean_plof', 'median_plof', 'num_cell_type_string',\n",
      "       'num_disease_string', 'num_of_diseases', 'num_sig_go_enrichment_terms',\n",
      "       'std_plof', 'sum_plof', 'avg_embeddedness', 'avg_internal_degree',\n",
      "       'cluster_size', 'conductance', 'cut_ratio', 'edges_inside', 'expansion',\n",
      "       'gene_ratio', 'hub_dominance', 'internal_edge_density',\n",
      "       'newman_girvan_modularity', 'normalized_cut', 'significance',\n",
      "       'surprise', 'triangle_participation_ratio', 'UID'],\n",
      "      dtype='object')\n"
     ]
    }
   ],
   "source": [
    "\n",
    "def get_sign_clusters(_pred_df, _year, _coms_dict, _cut_off=1898):\n",
    "    \"\"\"\n",
    "    returns a dictionary of cluster UID: BOCC objects\n",
    "    \"\"\"\n",
    "    # get just the desired year\n",
    "    _df = _pred_df[_pred_df['year'] == _year]\n",
    "    # filter out things that are not paris crosses\n",
    "    _df = _df[_df['subcluster_method'] == 'paris']\n",
    "    _df = _df[_df['cluster_method'] != 'paris']\n",
    "    # sort values so smallest \"p-values\" are at the top\n",
    "    _df = _df.sort_values('predicted_snowballing_pvalue')\n",
    "    # keep just the top 1898\n",
    "    _df = _df.iloc[:_cut_off,:]\n",
    "    # create universal id for clusters\n",
    "    _df['UID'] = _df['subcluster_method'] + '.' +  _df['cluster_method']  + '.' +  _df['year'].astype(str) + ':' + _df['IDs'].astype(str)\n",
    "    # creat a dictionary of the significant clusters members\n",
    "    _res = {}\n",
    "    print(_df.columns)\n",
    "    for _i,_row in _df.iterrows(): \n",
    "        key = 'paris.{al}.{y}'.format(al=_row['cluster_method'],y=str(_row['year']))\n",
    "        _res[_row['UID']] = _coms_dict[key][_row['IDs']]      \n",
    "    return _res\n",
    "\n",
    "\n",
    "pred_coms_2021 = get_sign_clusters(_pred_df=pred_df, _year=2021, _coms_dict= coms_dict)\n",
    "\n",
    "\n"
   ]
  },
  {
   "cell_type": "code",
   "execution_count": 19,
   "metadata": {},
   "outputs": [
    {
     "name": "stdout",
     "output_type": "stream",
     "text": [
      "1635\tparis.cesna.2021:22018\tSPTBN5\tHP:0001250\n",
      "1932\tparis.cesna.2021:9175\tHUWE1\tHP:0000739\n",
      "1943\tparis.cesna.2021:3199\tSHANK2\tHP:0011968\n",
      "1948\tparis.cesna.2021:9175\tCHD2\tHP:0001250\n",
      "1950\tparis.cesna.2021:14105\tSATB2\tHP:0001999\n",
      "1950\tparis.cesna.2021:5816\tSATB2\tHP:0000202\n",
      "2197\tparis.cesna.2021:6379\tC17orf62\tHP:0006532\n",
      "2197\tparis.cesna.2021:6379\tC17orf62\tHP:0001744\n",
      "2234\tparis.cesna.2021:24074\tDROSHA\tHP:0000252\n",
      "2584\tparis.cesna.2021:24123\tPYROXD1\tHP:0003715\n",
      "2584\tparis.cesna.2021:24123\tPYROXD1\tHP:0003198\n",
      "27\tparis.cesna.2021:21373\tSCN2A\tHP:0001250\n",
      "27\tparis.cesna.2021:15778\tSCN2A\tHP:0001250\n",
      "27\tparis.cesna.2021:24273\tSCN2A\tHP:0001250\n",
      "Number of MyGene2 patients solved  9\n",
      "Number of MyGene2 PAIRS solved  12\n"
     ]
    }
   ],
   "source": [
    "# score MyGene2 with a dictionary returned from get_sign_clusters\n",
    "# for each MyGene2 patient\n",
    "def find_solved_pairs(_unsolved_patients_pairs, _pred_coms):\n",
    "    \"\"\"\n",
    "    @param _unsolved_patients_pairs dictionary of MyGene2 patients that have not yet been solved and all their pairs\n",
    "    @param _pred_coms dictionary of clusters predicted to be significant as made by get_sign_clusters()\n",
    "    return None, prints output\n",
    "    \"\"\"\n",
    "    solved_pid_set = set()\n",
    "    solved_pairs_set = set()\n",
    "    for _pid in _unsolved_patients_pairs.keys():\n",
    "        # for each of their pairs\n",
    "        for _pair in _unsolved_patients_pairs[_pid]:\n",
    "            # for each sign cluster, check for the existance of the pair\n",
    "            for _uid in _pred_coms.keys():\n",
    "                _com = _pred_coms[_uid]\n",
    "                if _pair[0] in _com.members and _pair[1] in _com.members:\n",
    "                    print('{pid}\\t{uid}\\t{node1}\\t{node2}'.format(pid=_pid,uid=_uid,node1=_pair[0],node2=_pair[1]))\n",
    "                    solved_pid_set.add(_pid)\n",
    "                    solved_pairs_set.add(str(_pair))\n",
    "    print('Number of MyGene2 patients solved ',str(len(solved_pid_set)))\n",
    "    print('Number of MyGene2 PAIRS solved ',str(len(solved_pairs_set)))\n",
    "\n",
    "find_solved_pairs(_unsolved_patients_pairs=unsolved_patients_pairs, _pred_coms=pred_coms_2021)"
   ]
  },
  {
   "cell_type": "code",
   "execution_count": 20,
   "metadata": {},
   "outputs": [
    {
     "name": "stdout",
     "output_type": "stream",
     "text": [
      "2020\n",
      "Index(['predicted_snowballing_pvalue', 'snowballing_pvalue', 'cluster_origin',\n",
      "       'bocc_origin', 'year', 'cluster_method', 'subcluster_method', 'IDs',\n",
      "       'max_norm_cell_type_specificity', 'max_norm_disease_specificity',\n",
      "       'max_plof', 'mean_plof', 'median_plof', 'num_cell_type_string',\n",
      "       'num_disease_string', 'num_of_diseases', 'num_sig_go_enrichment_terms',\n",
      "       'std_plof', 'sum_plof', 'avg_embeddedness', 'avg_internal_degree',\n",
      "       'cluster_size', 'conductance', 'cut_ratio', 'edges_inside', 'expansion',\n",
      "       'gene_ratio', 'hub_dominance', 'internal_edge_density',\n",
      "       'newman_girvan_modularity', 'normalized_cut', 'significance',\n",
      "       'surprise', 'triangle_participation_ratio', 'UID'],\n",
      "      dtype='object')\n",
      "Number of MyGene2 patients solved  0\n",
      "Number of MyGene2 PAIRS solved  0\n",
      "2021\n",
      "Index(['predicted_snowballing_pvalue', 'snowballing_pvalue', 'cluster_origin',\n",
      "       'bocc_origin', 'year', 'cluster_method', 'subcluster_method', 'IDs',\n",
      "       'max_norm_cell_type_specificity', 'max_norm_disease_specificity',\n",
      "       'max_plof', 'mean_plof', 'median_plof', 'num_cell_type_string',\n",
      "       'num_disease_string', 'num_of_diseases', 'num_sig_go_enrichment_terms',\n",
      "       'std_plof', 'sum_plof', 'avg_embeddedness', 'avg_internal_degree',\n",
      "       'cluster_size', 'conductance', 'cut_ratio', 'edges_inside', 'expansion',\n",
      "       'gene_ratio', 'hub_dominance', 'internal_edge_density',\n",
      "       'newman_girvan_modularity', 'normalized_cut', 'significance',\n",
      "       'surprise', 'triangle_participation_ratio', 'UID'],\n",
      "      dtype='object')\n",
      "1635\tparis.cesna.2021:22018\tSPTBN5\tHP:0001250\n",
      "1932\tparis.cesna.2021:9175\tHUWE1\tHP:0000739\n",
      "1943\tparis.cesna.2021:3199\tSHANK2\tHP:0011968\n",
      "1948\tparis.cesna.2021:9175\tCHD2\tHP:0001250\n",
      "1950\tparis.cesna.2021:14105\tSATB2\tHP:0001999\n",
      "1950\tparis.cesna.2021:5816\tSATB2\tHP:0000202\n",
      "2197\tparis.cesna.2021:6379\tC17orf62\tHP:0006532\n",
      "2197\tparis.cesna.2021:6379\tC17orf62\tHP:0001744\n",
      "2234\tparis.cesna.2021:24074\tDROSHA\tHP:0000252\n",
      "2584\tparis.cesna.2021:24123\tPYROXD1\tHP:0003715\n",
      "2584\tparis.cesna.2021:24123\tPYROXD1\tHP:0003198\n",
      "27\tparis.cesna.2021:21373\tSCN2A\tHP:0001250\n",
      "27\tparis.cesna.2021:15778\tSCN2A\tHP:0001250\n",
      "27\tparis.cesna.2021:24273\tSCN2A\tHP:0001250\n",
      "Number of MyGene2 patients solved  9\n",
      "Number of MyGene2 PAIRS solved  12\n"
     ]
    }
   ],
   "source": [
    "def find_res(_unsolved_patients_pairs, _cut_off=1898):\n",
    "    \"\"\"\n",
    "    @param _unsolved_patients_pairs dictionary of MyGene2 patients that have not yet been solved and all their pairs\n",
    "    @param _cut_off the number of top scoring clusters to keep\n",
    "    \"\"\"\n",
    "    print('2020')\n",
    "    _pred_coms = get_sign_clusters(_pred_df=pred_df, _year=2020, _coms_dict= coms_dict)\n",
    "    find_solved_pairs(_unsolved_patients_pairs=_unsolved_patients_pairs, _pred_coms=_pred_coms)\n",
    "    print('2021')\n",
    "    _pred_coms = get_sign_clusters(_pred_df=pred_df, _year=2021, _coms_dict= coms_dict)\n",
    "    find_solved_pairs(_unsolved_patients_pairs=_unsolved_patients_pairs, _pred_coms=_pred_coms)\n",
    "\n",
    "\n",
    "find_res(_unsolved_patients_pairs=unsolved_patients_pairs,  _cut_off=1898)"
   ]
  },
  {
   "cell_type": "code",
   "execution_count": 22,
   "metadata": {},
   "outputs": [
    {
     "name": "stdout",
     "output_type": "stream",
     "text": [
      "['cesna' 'infomap' 'walktrap' 'greedy']\n"
     ]
    }
   ],
   "source": [
    "\n",
    "print(top_pred_df['cluster_method'].unique())\n",
    "with open('../WebPage/all_predicted_sign_clusters.2021.txt','w') as outfile:\n",
    "    for i,row in top_pred_df.iterrows():\n",
    "        if row['year'] != 2021:\n",
    "            continue\n",
    "        key = 'paris.{al}.{y}'.format(al=row['cluster_method'],y=str(row['year']))\n",
    "        line = row['UID'] + '\\t' + '\\t'.join(coms_dict[key][row['IDs']].members) + '\\n'\n",
    "        outfile.write(line)"
   ]
  }
 ],
 "metadata": {
  "kernelspec": {
   "display_name": "Python 3 (ipykernel)",
   "language": "python",
   "name": "python3"
  },
  "language_info": {
   "codemirror_mode": {
    "name": "ipython",
    "version": 3
   },
   "file_extension": ".py",
   "mimetype": "text/x-python",
   "name": "python",
   "nbconvert_exporter": "python",
   "pygments_lexer": "ipython3",
   "version": "3.10.4"
  }
 },
 "nbformat": 4,
 "nbformat_minor": 1
}
