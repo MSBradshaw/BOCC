{
 "cells": [
  {
   "cell_type": "markdown",
   "id": "cb347996",
   "metadata": {},
   "source": [
    "# Clinical Trial g2p edge inference\n",
    "These edges were minded from xml records on https://clinicaltrials.gov/. These were downloaded and processed on fiji in /scratch/Shares/layer/workspace/michael_sandbox/ClinicalTrialBOCC.\n",
    "The processes involved searching each record for gene symbols and mesh_terms. If a record contained atleast one gene and one mesh term it was saved. The resulting saved record is what is being parsed here."
   ]
  },
  {
   "cell_type": "code",
   "execution_count": 15,
   "id": "fb0df719",
   "metadata": {},
   "outputs": [],
   "source": [
    "import pandas as pd\n",
    "import matplotlib.pyplot as plt\n",
    "\n",
    "def remove_borders(ax, top=False, bottom=True, left=True, right=False):\n",
    "    ax.spines['top'].set_visible(top)\n",
    "    ax.spines['bottom'].set_visible(bottom)\n",
    "    ax.spines['left'].set_visible(left)\n",
    "    ax.spines['right'].set_visible(right)"
   ]
  },
  {
   "cell_type": "code",
   "execution_count": 5,
   "id": "a1c94b5b",
   "metadata": {},
   "outputs": [
    {
     "name": "stdout",
     "output_type": "stream",
     "text": [
      "Index(['gene', 'hpo', 'overall_status', 'org_study_id'], dtype='object')\n",
      "(3240233, 4)\n",
      "        gene         hpo      overall_status          org_study_id\n",
      "0        CTH  HP:0008258           Completed  NCRR-M01RR01070-0506\n",
      "1        CTH  HP:0000840           Completed  NCRR-M01RR01070-0506\n",
      "2        MET  HP:0000545           Completed                 NEI-9\n",
      "3        MET  HP:0000545           Completed                 NEI-9\n",
      "4        MET  HP:0000545           Completed                 NEI-9\n",
      "...      ...         ...                 ...                   ...\n",
      "3240228  MPL  HP:0012743  Not yet recruiting              H22-0161\n",
      "3240229  GPT  HP:0100843          Recruiting               22.0676\n",
      "3240230  RAN  HP:0100843          Recruiting               22.0676\n",
      "3240231  CRP  HP:0100787  Not yet recruiting              C3441057\n",
      "3240232  TTN  HP:0100787  Not yet recruiting              C3441057\n",
      "\n",
      "[3240233 rows x 4 columns]\n"
     ]
    }
   ],
   "source": [
    "df = pd.read_csv('../Resources/ClinicalTrialCombinedResults.tsv',sep='\\t',header=None)\n",
    "df.columns = ['gene','hpo','overall_status','org_study_id']\n",
    "print(df.columns)\n",
    "print(df.shape)\n",
    "print(df)"
   ]
  },
  {
   "cell_type": "code",
   "execution_count": 13,
   "id": "eea69dec",
   "metadata": {},
   "outputs": [],
   "source": [
    "# what portion of studies are complete?\n",
    "statuses = list(df['overall_status'].unique())\n",
    "s_counts = [sum(df['overall_status'] == x) for x in statuses]\n",
    "status_counts = pd.DataFrame({'status':statuses,'counts':s_counts})\n",
    "sc_df = status_counts.sort_values('counts',ascending=False)\n",
    "# g2p pairs per study - distribution"
   ]
  },
  {
   "cell_type": "code",
   "execution_count": 19,
   "id": "ef0b3c04",
   "metadata": {},
   "outputs": [
    {
     "data": {
      "image/png": "[encoded data removed]",
      "text/plain": [
       "<Figure size 432x288 with 1 Axes>"
      ]
     },
     "metadata": {
      "needs_background": "light"
     },
     "output_type": "display_data"
    }
   ],
   "source": [
    "fig, ax = plt.subplots()\n",
    "ax.bar(x=sc_df['status'],height=sc_df['counts'])\n",
    "plt.xticks(rotation='vertical')\n",
    "ax.set_yscale('log')\n",
    "remove_borders(ax)\n",
    "ax.set_title('Trial Status')\n",
    "plt.show()"
   ]
  }
 ],
 "metadata": {
  "kernelspec": {
   "display_name": "Python 3 (ipykernel)",
   "language": "python",
   "name": "python3"
  },
  "language_info": {
   "codemirror_mode": {
    "name": "ipython",
    "version": 3
   },
   "file_extension": ".py",
   "mimetype": "text/x-python",
   "name": "python",
   "nbconvert_exporter": "python",
   "pygments_lexer": "ipython3",
   "version": "3.10.4"
  }
 },
 "nbformat": 4,
 "nbformat_minor": 5
}
