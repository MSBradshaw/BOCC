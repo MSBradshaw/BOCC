{
 "cells": [
  {
   "cell_type": "code",
   "execution_count": 1,
   "id": "9f2e37e4",
   "metadata": {},
   "outputs": [],
   "source": [
    "from owlready2 import *"
   ]
  },
  {
   "cell_type": "code",
   "execution_count": 4,
   "id": "cee1df2c",
   "metadata": {},
   "outputs": [
    {
     "name": "stdout",
     "output_type": "stream",
     "text": [
      "get_ontology(\"/Users/michael/PycharmProjects/BOCC/Resources/dto_complete.owl#\")\n",
      "<class 'owlready2.namespace.Ontology'>\n"
     ]
    },
    {
     "data": {
      "text/plain": [
       "owlready2.triplelite.SubGraph"
      ]
     },
     "execution_count": 4,
     "metadata": {},
     "output_type": "execute_result"
    }
   ],
   "source": [
    "\n",
    "onto = get_ontology(\"/Users/michael/PycharmProjects/BOCC/Resources/dto_complete.owl\")\n",
    "print(onto)\n",
    "print(type(onto))\n",
    "type(onto.)"
   ]
  },
  {
   "cell_type": "code",
   "execution_count": 52,
   "id": "f9c11ba9",
   "metadata": {},
   "outputs": [
    {
     "name": "stdout",
     "output_type": "stream",
     "text": [
      "0       NaN\n",
      "1       NaN\n",
      "2       NaN\n",
      "3       NaN\n",
      "4       NaN\n",
      "         ..\n",
      "10070   NaN\n",
      "10071   NaN\n",
      "10072   NaN\n",
      "10073   NaN\n",
      "10074   NaN\n",
      "Name: has associated disease with strong evidence from DISEASES, Length: 10075, dtype: float64\n",
      "                                                Class ID  \\\n",
      "0      http://www.drugtargetontology.org/dto/DTO_6200...   \n",
      "1      http://www.drugtargetontology.org/dto/DTO_0310...   \n",
      "2      http://www.drugtargetontology.org/dto/DTO_0210...   \n",
      "3              http://purl.obolibrary.org/obo/DOID_10017   \n",
      "4              http://purl.obolibrary.org/obo/DOID_10016   \n",
      "...                                                  ...   \n",
      "10070  http://www.drugtargetontology.org/dto/DTO_6200...   \n",
      "10071           http://purl.obolibrary.org/obo/DOID_3953   \n",
      "10072         http://purl.obolibrary.org/obo/CHEBI_80330   \n",
      "10073  http://www.drugtargetontology.org/dto/DTO_0220...   \n",
      "10074  http://www.drugtargetontology.org/dto/DTO_0320...   \n",
      "\n",
      "                            Preferred Label Synonyms  \\\n",
      "0                             MET448 in SYK      NaN   \n",
      "1        Serine/threonine-protein kinase 40      NaN   \n",
      "2                                   Opsin-3      NaN   \n",
      "3       multiple endocrine neoplasia type 1      NaN   \n",
      "4      multiple endocrine neoplasia type 2B      NaN   \n",
      "...                                     ...      ...   \n",
      "10070                      MET1059 in INSRR      NaN   \n",
      "10071                  adrenal gland cancer      NaN   \n",
      "10072                            Peptide YY      NaN   \n",
      "10073                          OR11H12 gene      NaN   \n",
      "10074                            DAPK1 gene      NaN   \n",
      "\n",
      "                                             Definitions Obsolete  CUI  \\\n",
      "0                                                    NaN    False  NaN   \n",
      "1      A serine/threonine-protein kinase 40 that is e...    False  NaN   \n",
      "2      An encephalopsin that is encoded in the genome...    False  NaN   \n",
      "3      An autosomal dominant disease that has_materia...    False  NaN   \n",
      "4      An autosomal dominant disease characterized by...    False  NaN   \n",
      "...                                                  ...      ...  ...   \n",
      "10070                                                NaN    false  NaN   \n",
      "10071  An endocrine gland cancer located_in the adren...    false  NaN   \n",
      "10072                                                NaN    false  NaN   \n",
      "10073  An olfactory receptor 11H12 that is encoded in...    false  NaN   \n",
      "10074  Death-associated protein kinase 1 is a positiv...    false  NaN   \n",
      "\n",
      "       Semantic Types                                            Parents  \\\n",
      "0                 NaN         http://purl.obolibrary.org/obo/CHEBI_16044   \n",
      "1                 NaN  http://www.drugtargetontology.org/dto/DTO_0330...   \n",
      "2                 NaN  http://www.drugtargetontology.org/dto/DTO_0230...   \n",
      "3                 NaN        http://purl.obolibrary.org/obo/DOID_0050736   \n",
      "4                 NaN        http://purl.obolibrary.org/obo/DOID_0050736   \n",
      "...               ...                                                ...   \n",
      "10070             NaN         http://purl.obolibrary.org/obo/CHEBI_16044   \n",
      "10071             NaN  http://purl.obolibrary.org/obo/DOID_170|http:/...   \n",
      "10072             NaN         http://purl.obolibrary.org/obo/CHEBI_16670   \n",
      "10073             NaN  http://www.drugtargetontology.org/dto/DTO_0240...   \n",
      "10074             NaN  http://www.drugtargetontology.org/dto/DTO_0340...   \n",
      "\n",
      "       alternative term axiom_lost_from_external_ontology  ... is tautomer of  \\\n",
      "0                   NaN                               NaN  ...            NaN   \n",
      "1                   NaN                               NaN  ...            NaN   \n",
      "2                   NaN                               NaN  ...            NaN   \n",
      "3                   NaN                               NaN  ...            NaN   \n",
      "4                   NaN                               NaN  ...            NaN   \n",
      "...                 ...                               ...  ...            ...   \n",
      "10070               NaN                               NaN  ...            NaN   \n",
      "10071               NaN                               NaN  ...            NaN   \n",
      "10072               NaN                               NaN  ...            NaN   \n",
      "10073               NaN                               NaN  ...            NaN   \n",
      "10074               NaN                               NaN  ...            NaN   \n",
      "\n",
      "      is transported by  logical macro assertion on an object property  \\\n",
      "0                   NaN                                            NaN   \n",
      "1                   NaN                                            NaN   \n",
      "2                   NaN                                            NaN   \n",
      "3                   NaN                                            NaN   \n",
      "4                   NaN                                            NaN   \n",
      "...                 ...                                            ...   \n",
      "10070               NaN                                            NaN   \n",
      "10071               NaN                                            NaN   \n",
      "10072               NaN                                            NaN   \n",
      "10073               NaN                                            NaN   \n",
      "10074               NaN                                            NaN   \n",
      "\n",
      "       map to pfam domain part of related to shorthand taxon_notes  \\\n",
      "0                     NaN     NaN        NaN       NaN         NaN   \n",
      "1                     NaN     NaN        NaN       NaN         NaN   \n",
      "2                     NaN     NaN        NaN       NaN         NaN   \n",
      "3                     NaN     NaN        NaN       NaN         NaN   \n",
      "4                     NaN     NaN        NaN       NaN         NaN   \n",
      "...                   ...     ...        ...       ...         ...   \n",
      "10070                 NaN     NaN        NaN       NaN         NaN   \n",
      "10071                 NaN     NaN        NaN       NaN         NaN   \n",
      "10072                 NaN     NaN        NaN       NaN         NaN   \n",
      "10073                 NaN     NaN        NaN       NaN         NaN   \n",
      "10074                 NaN     NaN        NaN       NaN         NaN   \n",
      "\n",
      "       temporal interpretation  transports molecular entity  \n",
      "0                          NaN                          NaN  \n",
      "1                          NaN                          NaN  \n",
      "2                          NaN                          NaN  \n",
      "3                          NaN                          NaN  \n",
      "4                          NaN                          NaN  \n",
      "...                        ...                          ...  \n",
      "10070                      NaN                          NaN  \n",
      "10071                      NaN                          NaN  \n",
      "10072                      NaN                          NaN  \n",
      "10073                      NaN                          NaN  \n",
      "10074                      NaN                          NaN  \n",
      "\n",
      "[10075 rows x 115 columns]\n"
     ]
    }
   ],
   "source": [
    "print(dto_df['has associated disease with strong evidence from DISEASES'])\n",
    "print(dto_df)\n",
    "dto_df."
   ]
  },
  {
   "cell_type": "code",
   "execution_count": null,
   "id": "08a841b1",
   "metadata": {},
   "outputs": [],
   "source": []
  }
 ],
 "metadata": {
  "kernelspec": {
   "display_name": "Python 3 (ipykernel)",
   "language": "python",
   "name": "python3"
  },
  "language_info": {
   "codemirror_mode": {
    "name": "ipython",
    "version": 3
   },
   "file_extension": ".py",
   "mimetype": "text/x-python",
   "name": "python",
   "nbconvert_exporter": "python",
   "pygments_lexer": "ipython3",
   "version": "3.10.4"
  }
 },
 "nbformat": 4,
 "nbformat_minor": 5
}
