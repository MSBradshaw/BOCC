{
 "cells": [
  {
   "cell_type": "code",
   "execution_count": 1,
   "id": "37213398",
   "metadata": {},
   "outputs": [
    {
     "name": "stdout",
     "output_type": "stream",
     "text": [
      "Index(['entrez-gene-id', 'entrez-gene-symbol', 'HPO-Term-ID', 'HPO-Term-Name',\n",
      "       'Frequency-Raw', 'Frequency-HPO', 'Additional Info from G-D source',\n",
      "       'G-D source', 'disease-ID for link'],\n",
      "      dtype='object')\n",
      "(269994, 9)\n",
      "42\n"
     ]
    }
   ],
   "source": [
    "import pandas as pd\n",
    "import matplotlib.pyplot as plt\n",
    "import statistics\n",
    "from scipy import stats\n",
    "g2p = pd.read_csv('../Resources/genes_to_phenotype.Nov_29_2022.txt',sep='\\t',comment='#',header=None)\n",
    "g2p.columns = ['entrez-gene-id','entrez-gene-symbol','HPO-Term-ID','HPO-Term-Name','Frequency-Raw','Frequency-HPO','Additional Info from G-D source','G-D source','disease-ID for link']\n",
    "print(g2p.columns)\n",
    "print(g2p.shape)\n",
    "#sex_specific_genes\n",
    "ss_genes = set(['HKDC1','HKDC1','HKDC1','CLDN7','MMP24-AS1','RPS26','RPS26','RPS26','RP11-370B11.3',\n",
    "            'LRRC36','CAST','NUDT14','NUDT14','TRIM33','RNASET2','FAM53B','FAM53B','FAM53B',\n",
    "            'FAM53B','FAM53B','FAM53B','RPS10','KRT16','NTN4','NTN4','SNX31','C9orf66','MET','HAGLROS','TRMT112',\n",
    "            'CCDC125','CCDC125','CCDC125','CCDC125','CCDC125','CCDC125','DPYSL4','DPYSL4','PLEKHA1','PLEKHA1',\n",
    "            'TUBG2','CHMP3','ORAI2','MCM4','LINC01806','CELSR2','CELSR2','CELSR2','CELSR2','RPS26','RPS26','RPS26',\n",
    "            'CELSR2','NFKB2','PLEC','PLEC','NOB1','HOXC5','ATP5S','USP30','CRLF3','SFXN2','SFXN2','SFXN2','SFXN2',\n",
    "            'SHANK3','PRKCB','NAGLU','NAGLU','NAGLU','IL18RAP','CCDC88C','CCDC88C','SOWAHC'])\n",
    "\n",
    "print(len(ss_genes))"
   ]
  },
  {
   "cell_type": "code",
   "execution_count": 2,
   "id": "8e4f1183",
   "metadata": {},
   "outputs": [],
   "source": [
    "# distribution of number of annotations per gene\n",
    "gene_counts_dict = { g:sum(g2p['entrez-gene-symbol'] == g) for g in set(g2p['entrez-gene-symbol'])}\n",
    "gene_counts = [sum(g2p['entrez-gene-symbol'] == g) for g in set(g2p['entrez-gene-symbol'])]\n",
    "# gene_counts_dict2 = {}\n",
    "# for i,g in enumerate(g2p['entrez-gene-symbol']):\n",
    "#     if i % 1000 == 0:\n",
    "#         print(i / g2p.shape[0],'%')\n",
    "#     if g not in gene_counts_dict2:\n",
    "#         gene_counts_dict2[g] = 0\n",
    "#     gene_counts_dict2[g] += 1"
   ]
  },
  {
   "cell_type": "markdown",
   "id": "96199d78",
   "metadata": {},
   "source": [
    "## Find the 30 or 22"
   ]
  },
  {
   "cell_type": "markdown",
   "id": "f7aa85fd",
   "metadata": {},
   "source": [
    "\"Only 30 genes (0.23%), 22 of which are known constitutive XCI escapees (table S3), exhibited consistent sex bias across all 44 tissue sources (Fig. 2B).\"\n",
    "\n",
    "https://www.science.org/doi/full/10.1126/science.aba3066#supplementary-materials"
   ]
  },
  {
   "cell_type": "code",
   "execution_count": 3,
   "id": "98e0c6ec",
   "metadata": {},
   "outputs": [
    {
     "name": "stdout",
     "output_type": "stream",
     "text": [
      "['README', 'Replication', 'ADPSBQ', 'ADPVSC', 'ADRNLG', 'ARTAORT', 'ARTCRN', 'ARTTBL', 'BRNAMY', 'BRNACC', 'BRNCDT', 'BRNCHB', 'BRNCHA', 'BRNCTXA', 'BRNCTXB', 'BRNHPP', 'BRNHPT', 'BRNNCC', 'BRNPTM', 'BRNSPC', 'BRNSNG', 'BREAST', 'FIBRBLS', 'LCL', 'CLNSGM', 'CLNTRN', 'ESPGEJ', 'ESPMCS', 'ESPMSL', 'HRTAA', 'HRTLV', 'KDNCTX', 'LIVER', 'LUNG', 'SLVRYG', 'MSCLSK', 'NERVET', 'PNCREAS', 'PTTARY', 'SKINNS', 'SKINS', 'SNTTRM', 'SPLEEN', 'STMACH', 'THYROID', 'WHLBLD']\n",
      "27\n",
      "{'KDM5C', 'FRG1CP', 'CD99P1', 'MIR4458HG', 'CD99', 'KDM6A', 'ZFX', nan, 'EIF2S3B', 'JPX', 'RPS4X', 'EIF2S3', 'TXLNG', 'EIF1AX', 'SYAP1', 'UBA1', 'SPESP1', 'FRG1BP', 'DDX3X', 'DDX43', 'STS', 'PUDP', 'PNPLA4', 'ZRSR2', 'XIST', 'SMC1A', 'CA5BP1'}\n",
      "['CA5BP1', 'CD99', 'CD99P1', 'DDX3X', 'DDX43', 'EIF1AX', 'EIF2S3', 'EIF2S3B', 'FRG1BP', 'FRG1CP', 'JPX', 'KDM5C', 'KDM6A', 'MIR4458HG', 'Missing', 'PNPLA4', 'PUDP', 'RPS4X', 'SMC1A', 'SPESP1', 'STS', 'SYAP1', 'TXLNG', 'UBA1', 'XIST', 'ZFX', 'ZRSR2']\n"
     ]
    }
   ],
   "source": [
    "xls = pd.ExcelFile('/Users/michael/Downloads/aba3066-table-s2.xlsx')\n",
    "print(xls.sheet_names)\n",
    "# go into each sheet, skip the first two since they are not about any tissue\n",
    "present_in_all = None\n",
    "for sheet_name in xls.sheet_names[2:]:\n",
    "    # find all genes that are present in all sheets\n",
    "#     print(sheet_name)\n",
    "    xdf = xls.parse(sheet_name)\n",
    "    if present_in_all is None:\n",
    "        present_in_all = set(xdf['HUGO_gene_id'])\n",
    "    else:\n",
    "        present_in_all = present_in_all.intersection(set(xdf['HUGO_gene_id']))\n",
    "print(len(present_in_all))\n",
    "print(present_in_all)\n",
    "sex_dif_genes_in_all_tissues = present_in_all\n",
    "\n",
    "sex_dif_genes_in_all_tissues = [x if isinstance(x,str) else 'Missing' for x in sex_dif_genes_in_all_tissues]\n",
    "sex_dif_genes_in_all_tissues.sort()\n",
    "print(sex_dif_genes_in_all_tissues)"
   ]
  },
  {
   "cell_type": "code",
   "execution_count": 4,
   "id": "d59a01ff",
   "metadata": {},
   "outputs": [
    {
     "data": {
      "image/png": "[encoded data removed]",
      "text/plain": [
       "<Figure size 432x288 with 1 Axes>"
      ]
     },
     "metadata": {
      "needs_background": "light"
     },
     "output_type": "display_data"
    }
   ],
   "source": [
    "plt.hist(gene_counts,bins=100)\n",
    "plt.xlabel('Number of g2p annotations for a gene')\n",
    "plt.ylabel('Number of Genes')\n",
    "plt.show()"
   ]
  },
  {
   "cell_type": "code",
   "execution_count": 5,
   "id": "ebdb1f78",
   "metadata": {},
   "outputs": [
    {
     "name": "stdout",
     "output_type": "stream",
     "text": [
      "301\n",
      "Gene with largest number of annotations SMC1A\n",
      "Num 0s: 19\n",
      "DDX3X 51\n",
      "EIF2S3 64\n",
      "KDM5C 84\n",
      "KDM6A 175\n",
      "SMC1A 301\n",
      "STS 42\n",
      "UBA1 82\n",
      "XIST 1\n"
     ]
    }
   ],
   "source": [
    "# what are teh number of g2p for the sex_dif_genes_in_all_tissues?\n",
    "sex_dif_genes_in_all_tissues\n",
    "sdgat_counts = [gene_counts_dict[x] if x in gene_counts_dict else 0 for x in sex_dif_genes_in_all_tissues]\n",
    "print(max(sdgat_counts))\n",
    "max_i = sdgat_counts.index(max(sdgat_counts))\n",
    "print('Gene with largest number of annotations', sex_dif_genes_in_all_tissues[max_i], )\n",
    "print('Num 0s:',sdgat_counts.count(0))\n",
    "\n",
    "for x in sex_dif_genes_in_all_tissues:\n",
    "    if x in gene_counts_dict:\n",
    "        print(x, gene_counts_dict[x])"
   ]
  },
  {
   "cell_type": "code",
   "execution_count": 6,
   "id": "5b705a9f",
   "metadata": {},
   "outputs": [
    {
     "data": {
      "image/png": "[encoded data removed]",
      "text/plain": [
       "<Figure size 432x288 with 1 Axes>"
      ]
     },
     "metadata": {
      "needs_background": "light"
     },
     "output_type": "display_data"
    }
   ],
   "source": [
    "plt.boxplot(sdgat_counts)\n",
    "plt.show()"
   ]
  },
  {
   "cell_type": "code",
   "execution_count": 7,
   "id": "91eab158",
   "metadata": {},
   "outputs": [
    {
     "name": "stdout",
     "output_type": "stream",
     "text": [
      "Ttest_indResult(statistic=-1.9499840262248636, pvalue=0.06193980918240975)\n",
      "Ttest_indResult(statistic=-62.737722298214905, pvalue=0.0)\n"
     ]
    }
   ],
   "source": [
    "p = stats.ttest_ind(sdgat_counts, gene_counts, equal_var=False)\n",
    "print(p)\n",
    "\n",
    "p_no_0 = stats.ttest_ind([0 for x in sdgat_counts if x != 0], gene_counts, equal_var=False)\n",
    "print(p_no_0)"
   ]
  },
  {
   "cell_type": "markdown",
   "id": "a7d4106c",
   "metadata": {},
   "source": [
    "In the paper Stranger et al. say there are 30 genes that exhibited consistent sex bias across all 44 tissue sources. Looking through table-s2 I found only 27 genes that were listed on all of the tissue tabs (close enough to 30 for me).\n",
    "\n",
    "19 of these 27 have 0 gene-to-phenotype annotations. \n",
    "\n",
    "Comparing these genes' number of annotations to that of all genes there is a p = 0.06. But this list of \"all gene\" only inlcudes ones with > 0 annotations. So comparing the 8 sex-differentiated genes with > 0 annotations of there is a p = 0.0 (too small for python floats). Honestly the t-test is not that important or meaningful in either way. Most have no way of saying they have more or less than other genes, because they are 0. The ones that do have annotations have significantly more one average, but there are only 8 of them.\n",
    "\n",
    "One of the genes has 301 annotations, SMC1A (Structural Maintenance Of Chromosomes 1A). \n",
    "\n",
    "SMC1A 301 (Structural Maintenance Of Chromosomes 1A)\n",
    "\n",
    "KDM6A 175 (X chromosome, Kabuki Syndrome)\n",
    "\n",
    "KDM5C 84 (X-linked cognitive disability)\n",
    "\n",
    "UBA1 82 (X-linked, catalyzes the first step in ubiquitin conjugation to mark cellular proteins for degradation)\n",
    "\n",
    "EIF2S3 64 (X, largest subunit of a heterotrimeric GTP-binding protein)\n",
    "\n",
    "DDX3X 51 (X-Linked, DEAD-box protein, ATP-dependent RNA helicase activity)\n",
    "\n",
    "STS 42 (X, hydrolyzes several a metabolic precursors for estrogens, androgens, and cholesterol)\n",
    "\n",
    "XIST 1 (X Inactive Specific Transcript, lncRNA)"
   ]
  },
  {
   "cell_type": "code",
   "execution_count": 8,
   "id": "63e124d5",
   "metadata": {},
   "outputs": [
    {
     "name": "stdout",
     "output_type": "stream",
     "text": [
      "  gene  tissue_count  g2p_count\n",
      "6  NaN          1829          0\n"
     ]
    }
   ],
   "source": [
    "# make a plot\n",
    "# x - number of tissues differentiall expressed in\n",
    "# y - number of g2p annotations\n",
    "\n",
    "# count the number of tissues a gene is differentially expressed in\n",
    "gene_tissue_counts = {}\n",
    "for sheet_name in xls.sheet_names[2:]:\n",
    "    xdf = xls.parse(sheet_name)\n",
    "    for g in xdf['HUGO_gene_id']:\n",
    "        if g not in gene_tissue_counts:\n",
    "            gene_tissue_counts[g] = 0\n",
    "        gene_tissue_counts[g] += 1\n",
    "\n",
    "# build a df\n",
    "genes = gene_tissue_counts.keys()\n",
    "data = {'gene':genes,'tissue_count':[gene_tissue_counts[g] for g in genes],\n",
    "        'g2p_count':[gene_counts_dict[g] if g in gene_counts_dict else 0 for g in genes]}\n",
    "df = pd.DataFrame(data)\n",
    "df['tissue_count'].max()\n",
    "print(df[df['tissue_count'] == df['tissue_count'].max()])\n",
    "df = df[df['tissue_count'] < 45]"
   ]
  },
  {
   "cell_type": "code",
   "execution_count": 12,
   "id": "a692f187",
   "metadata": {},
   "outputs": [
    {
     "data": {
      "image/png": "[encoded data removed]",
      "text/plain": [
       "<Figure size 720x720 with 1 Axes>"
      ]
     },
     "metadata": {
      "needs_background": "light"
     },
     "output_type": "display_data"
    }
   ],
   "source": [
    "fig, ax = plt.subplots()\n",
    "fig.set_size_inches(10, 10)\n",
    "ax.scatter(df['tissue_count'], df['g2p_count'],s=4)\n",
    "ax.set_xlabel('Number of tissues the gene is sex-based differentially expressed in')\n",
    "ax.set_ylabel('Number of gene-to-phenotype edges')\n",
    "plt.show()\n"
   ]
  },
  {
   "cell_type": "code",
   "execution_count": null,
   "id": "7b824916",
   "metadata": {},
   "outputs": [],
   "source": [
    "\n",
    "\n",
    "\n",
    "\n",
    "\n",
    "print(stats.pearsonr(df['tissue_count'], df['g2p_count']))"
   ]
  }
 ],
 "metadata": {
  "kernelspec": {
   "display_name": "Python 3 (ipykernel)",
   "language": "python",
   "name": "python3"
  },
  "language_info": {
   "codemirror_mode": {
    "name": "ipython",
    "version": 3
   },
   "file_extension": ".py",
   "mimetype": "text/x-python",
   "name": "python",
   "nbconvert_exporter": "python",
   "pygments_lexer": "ipython3",
   "version": "3.10.4"
  }
 },
 "nbformat": 4,
 "nbformat_minor": 5
}
