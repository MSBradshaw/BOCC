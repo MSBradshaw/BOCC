{
 "cells": [
  {
   "cell_type": "code",
   "execution_count": 1,
   "id": "5166a27c",
   "metadata": {},
   "outputs": [],
   "source": [
    "import networkx as nx\n",
    "import matplotlib.pyplot as plt\n",
    "import obonet\n",
    "import BOCC\n",
    "import pandas as pd\n",
    "import numpy as np\n",
    "import math\n",
    "import typing\n",
    "import seaborn as sns\n",
    "import os\n"
   ]
  },
  {
   "cell_type": "markdown",
   "id": "8052f750",
   "metadata": {},
   "source": [
    "## Plotting Constants"
   ]
  },
  {
   "cell_type": "code",
   "execution_count": 2,
   "id": "a91ab211",
   "metadata": {},
   "outputs": [],
   "source": [
    "label_size = 16\n",
    "tick_label_size = 14\n",
    "panel_number_size = 24\n",
    "algos = ['paris-greedy','paris-walktrap','paris-infomap','paris-cesna']\n",
    "colors = ['#f4cccc','#fff2cc','#d9ead3','#a4c2f4']\n",
    "algos_colors = {x:c for x,c in zip(algos,colors)}"
   ]
  },
  {
   "cell_type": "code",
   "execution_count": 3,
   "id": "edd5e189",
   "metadata": {},
   "outputs": [],
   "source": [
    "def clear_ax(ax, top=False, bottom=False, left=False, right=False):\n",
    "    ax.spines['top'].set_visible(top)\n",
    "    ax.spines['bottom'].set_visible(bottom)\n",
    "    ax.spines['left'].set_visible(left)\n",
    "    ax.spines['right'].set_visible(right)\n",
    "    # ax.get_xaxis().set_visible(False)\n",
    "    ax.get_yaxis().set_visible(True)\n",
    "    ax.yaxis.set_tick_params(width=0.0, labelsize=8)\n",
    "    ax.xaxis.set_tick_params(width=0.0, labelsize=8)"
   ]
  },
  {
   "cell_type": "markdown",
   "id": "10078d68",
   "metadata": {},
   "source": [
    "## Load data"
   ]
  },
  {
   "cell_type": "code",
   "execution_count": 4,
   "id": "7709056b",
   "metadata": {},
   "outputs": [],
   "source": [
    "# load the edgelists as networkx objects\n",
    "G15 = nx.read_edgelist('../Edgelists/String_HPO_2015.phenotypic_branch.edgelist.txt')\n",
    "G16 = nx.read_edgelist('../Edgelists/String_HPO_2016.phenotypic_branch.edgelist.txt')\n",
    "G17 = nx.read_edgelist('../Edgelists/String_HPO_2017.phenotypic_branch.edgelist.txt')\n",
    "G18 = nx.read_edgelist('../Edgelists/String_HPO_2018.phenotypic_branch.edgelist.txt')\n",
    "\n",
    "G19 = nx.read_edgelist('../Edgelists/String_HPO_2019.phenotypic_branch.edgelist.txt')\n",
    "G20 = nx.read_edgelist('../Edgelists/String_HPO_2020.phenotypic_branch.edgelist.txt')\n",
    "G21 = nx.read_edgelist('../Edgelists/String_HPO_2021.phenotypic_branch.edgelist.txt')"
   ]
  },
  {
   "cell_type": "code",
   "execution_count": 5,
   "id": "87885a47",
   "metadata": {},
   "outputs": [
    {
     "name": "stdout",
     "output_type": "stream",
     "text": [
      "(182900, 5)\n",
      "(80400, 5)\n",
      "(385500, 5)\n",
      "(2847100, 5)\n"
     ]
    }
   ],
   "source": [
    "# load rediscovery stats\n",
    "g_snow = pd.read_csv('../SnowballResults/snowball.paris.greedy.String_HPO_2020.phenotypic_branch.tsv',sep='\\t')\n",
    "w_snow = pd.read_csv('../SnowballResults/snowball.paris.walktrap.String_HPO_2020.phenotypic_branch.tsv',sep='\\t')\n",
    "i_snow = pd.read_csv('../SnowballResults/snowball.paris.infomap.String_HPO_2020.phenotypic_branch.tsv',sep='\\t')\n",
    "c_snow = pd.read_csv('../SnowballResults/snowball.paris.cesna.String_HPO_2020.phenotypic_branch.tsv',sep='\\t')\n",
    "print(g_snow.shape)\n",
    "print(w_snow.shape)\n",
    "print(i_snow.shape)\n",
    "print(c_snow.shape)"
   ]
  },
  {
   "cell_type": "markdown",
   "id": "ac94266f",
   "metadata": {},
   "source": [
    "## Plot network size stats by year"
   ]
  },
  {
   "cell_type": "code",
   "execution_count": 6,
   "id": "a5dec79a",
   "metadata": {},
   "outputs": [],
   "source": [
    "# count node and edge type stats\n",
    "def count_size_stats(_G):\n",
    "    # count genes\n",
    "    num_genes = sum(['HP:' not in n for n in _G.nodes])\n",
    "    # count HPOs\n",
    "    num_hpos = sum(['HP:' in n for n in _G.nodes])\n",
    "    # 0 = p2p, 1 = p2g, 2 = p2p\n",
    "    hpo_counts = [ sum(['HP:' in x for x in e]) for e in _G.edges]\n",
    "    # count g2p\n",
    "    num_g2p = hpo_counts.count(1)\n",
    "    # count g2g\n",
    "    num_p2p = hpo_counts.count(2)\n",
    "    # count p2p\n",
    "    num_g2g = hpo_counts.count(0)\n",
    "    return [num_genes, num_hpos, num_p2p, num_g2p, num_g2g]\n",
    "\n",
    "plt_data = {'year':[],'type':[],'count':[]}\n",
    "for y,_g in zip(list(range(2015,2022)),[G15,G16,G17,G18,G19,G20,G21]):\n",
    "    stats = count_size_stats(_g)\n",
    "    for t,x in zip(['STRING nodes', 'HPO Terms', 'HPO edges', 'gene-2-phenotyoe', 'STRING edges'],stats):\n",
    "        plt_data['year'].append(y)\n",
    "        plt_data['type'].append(t)\n",
    "        plt_data['count'].append(x)\n",
    "plt_df = pd.DataFrame(plt_data)\n",
    "\n",
    "                                        "
   ]
  },
  {
   "cell_type": "code",
   "execution_count": 7,
   "id": "42908000",
   "metadata": {},
   "outputs": [
    {
     "data": {
      "text/plain": [
       "<Figure size 1080x1080 with 0 Axes>"
      ]
     },
     "metadata": {},
     "output_type": "display_data"
    },
    {
     "data": {
      "image/png": "[encoded data removed]",
      "text/plain": [
       "<Figure size 487.625x360 with 1 Axes>"
      ]
     },
     "metadata": {
      "needs_background": "light"
     },
     "output_type": "display_data"
    }
   ],
   "source": [
    "plt.figure(figsize = (15,15))\n",
    "g=sns.catplot(\n",
    "    data=plt_df, kind=\"bar\",\n",
    "    x=\"year\", y=\"count\", hue=\"type\",\n",
    "    ci=\"sd\")\n",
    "sns.set(rc={'figure.figsize':(15,15)})\n",
    "g.set(yscale='log',xlabel='', facecolor='white')\n",
    "plt.savefig('../Figures/yearly_stats.jpg',dpi=300)\n"
   ]
  },
  {
   "cell_type": "code",
   "execution_count": 8,
   "id": "40b6f19f",
   "metadata": {},
   "outputs": [
    {
     "name": "stdout",
     "output_type": "stream",
     "text": [
      "    year              type   count\n",
      "3   2015  gene-2-phenotyoe   22810\n",
      "8   2016  gene-2-phenotyoe   29196\n",
      "13  2017  gene-2-phenotyoe   29654\n",
      "18  2018  gene-2-phenotyoe   56380\n",
      "23  2019  gene-2-phenotyoe   42079\n",
      "28  2020  gene-2-phenotyoe  170892\n",
      "33  2021  gene-2-phenotyoe  197926\n"
     ]
    }
   ],
   "source": [
    "print(plt_df[plt_df['type'] == 'gene-2-phenotyoe'])"
   ]
  },
  {
   "cell_type": "markdown",
   "id": "d69fb011",
   "metadata": {},
   "source": [
    "## Calculate Log2Ratio and empirical p-value for each cluster in each algo"
   ]
  },
  {
   "cell_type": "code",
   "execution_count": 9,
   "id": "ee390e70",
   "metadata": {},
   "outputs": [
    {
     "name": "stderr",
     "output_type": "stream",
     "text": [
      "/var/folders/ty/694s8g7n1cz_l5s3prx55jzr0000gn/T/ipykernel_58009/379432370.py:8: RuntimeWarning: invalid value encountered in double_scalars\n",
      "  return float(np.log2(o / np.median(np.array(e))))\n",
      "/var/folders/ty/694s8g7n1cz_l5s3prx55jzr0000gn/T/ipykernel_58009/379432370.py:8: RuntimeWarning: divide by zero encountered in log2\n",
      "  return float(np.log2(o / np.median(np.array(e))))\n",
      "/var/folders/ty/694s8g7n1cz_l5s3prx55jzr0000gn/T/ipykernel_58009/379432370.py:8: RuntimeWarning: divide by zero encountered in double_scalars\n",
      "  return float(np.log2(o / np.median(np.array(e))))\n"
     ]
    },
    {
     "name": "stdout",
     "output_type": "stream",
     "text": [
      "Index(['algorith', 'cluster_id', 'log2ratio', 'p-value'], dtype='object')\n",
      "(34959, 4)\n"
     ]
    }
   ],
   "source": [
    "l2r_p = {'algorith':[],'cluster_id':[],'log2ratio':[],'p-value':[]}\n",
    "\n",
    "def log_2_ratio(o: int, e: typing.List[int]) -> float:\n",
    "    \"\"\"\n",
    "    param o: observed number of rediscoveries\n",
    "    param e: list of expected number of rediscoveries based on the null model\n",
    "    \"\"\"\n",
    "    return float(np.log2(o / np.median(np.array(e))))\n",
    "\n",
    "def empircal_p(o: int, e: typing.List[int]) -> float:\n",
    "    \"\"\"\n",
    "    param o: observed number of rediscoveries\n",
    "    param e: list of expected number of rediscoveries based on the null model\n",
    "    \"\"\"\n",
    "    return float(1 - (sum([ o > x for x in e]) / len(e)))\n",
    "\n",
    "# test the functions\n",
    "assert(log_2_ratio(2,[2,2,2]) == 0)\n",
    "assert(log_2_ratio(2,[1,1,1]) > 0)\n",
    "assert(log_2_ratio(2,[3,3,3]) < 0)\n",
    "assert(empircal_p(2,[2,2,2]) == 1)\n",
    "assert(empircal_p(2,[1,1,1]) == 0)\n",
    "assert(round(empircal_p(2,[3,1,1]),2) == round(float(1/3),2))\n",
    "\n",
    "# calc log2ratio and p value for each cluster in each algo category. Save it all in one dataframe\n",
    "for df,algo in zip([g_snow, w_snow, i_snow, c_snow],algos):\n",
    "    for cid in df['com_id'].unique():\n",
    "        sub = df[df['com_id'] == cid]\n",
    "        observed = list(sub['com_score'])[0]\n",
    "        expected = list(sub['replicate_score'])\n",
    "        l2r = log_2_ratio(observed,expected)\n",
    "        p = empircal_p(observed,expected)\n",
    "        l2r_p['algorith'].append(algo)\n",
    "        l2r_p['cluster_id'].append(cid)\n",
    "        l2r_p['log2ratio'].append(l2r)\n",
    "        l2r_p['p-value'].append(p)\n",
    "l2r_p_df = pd.DataFrame(l2r_p)\n",
    "print(l2r_p_df.columns)\n",
    "print(l2r_p_df.shape)"
   ]
  },
  {
   "cell_type": "markdown",
   "id": "87bbeb54",
   "metadata": {},
   "source": [
    "## Plot Log-2-Ratio vs P-Value"
   ]
  },
  {
   "cell_type": "code",
   "execution_count": 10,
   "id": "61eada53",
   "metadata": {},
   "outputs": [
    {
     "name": "stdout",
     "output_type": "stream",
     "text": [
      "Log-2-ratio non inf max and min 10.59245703726808 -4.129283016944966\n",
      "paris-greedy\n",
      "number of infs 178 , 0.09732094040459267\n",
      "number of -infs 332 , 0.1815199562602515\n",
      "% r > 0 19.35483870967742 %\n",
      "p < .0001 1.9682886823400765 %\n",
      "paris-walktrap\n",
      "number of infs 50 , 0.06218905472636816\n",
      "number of -infs 169 , 0.21019900497512436\n",
      "% r > 0 11.442786069651742 %\n",
      "p < .0001 2.8606965174129355 %\n",
      "paris-infomap\n",
      "number of infs 137 , 0.035538261997405965\n",
      "number of -infs 924 , 0.2396887159533074\n",
      "% r > 0 6.511024643320364 %\n",
      "p < .0001 0.9079118028534372 %\n",
      "paris-cesna\n",
      "number of infs 1962 , 0.06891222647606336\n",
      "number of -infs 5990 , 0.21038951915984686\n",
      "% r > 0 8.29264866004004 %\n",
      "p < .0001 2.700993993888518 %\n"
     ]
    },
    {
     "data": {
      "image/png": "[encoded data removed]",
      "text/plain": [
       "<Figure size 1080x1080 with 24 Axes>"
      ]
     },
     "metadata": {},
     "output_type": "display_data"
    }
   ],
   "source": [
    "# plot\n",
    "# for each algo\n",
    "l2r_p_df = pd.DataFrame(l2r_p)\n",
    "l2r_p_df = l2r_p_df.sort_values('log2ratio',ascending=False)\n",
    "arr = l2r_p_df['log2ratio']\n",
    "l2r_min = np.nanmin(arr[arr != -np.inf])\n",
    "l2r_max = np.nanmax(arr[arr != np.inf])\n",
    "print('Log-2-ratio non inf max and min', l2r_max, l2r_min)\n",
    "\n",
    "# replace INF with 12 (well above the next largest value) and -INF -7 (well below the next lowest)\n",
    "inf_replacement = 12\n",
    "neg_inf_replacement = -6    \n",
    "l2r_p_df['log2ratio'] = [inf_replacement if x == np.inf else x for x in l2r_p_df['log2ratio']]\n",
    "l2r_p_df['log2ratio'] = [neg_inf_replacement if x == -np.inf else x for x in l2r_p_df['log2ratio']]\n",
    "\n",
    "# create figure and axes objects\n",
    "fig, axes = plt.subplots(12,2,gridspec_kw={'width_ratios': [3, 1],'height_ratios': [2, 4, 1, 2, 4, 1, 2, 4, 1, 2, 4, 1]})\n",
    "fig.set_size_inches(15, 15)\n",
    "\n",
    "# remove borders and ticks of plots that should be blank space\n",
    "for i in range(0,12):\n",
    "    for j in range(2):\n",
    "        clear_ax(axes[i][j])\n",
    "        if i % 3 == 0 and j == 1 or i in [2,5,8,11]:\n",
    "            axes[i][j].set_xticks([])\n",
    "            axes[i][j].set_yticks([])\n",
    "\n",
    "# labels for plot panels\n",
    "labels = ['A','B','C','D']\n",
    "for i,algo in enumerate(algos):\n",
    "    print(algo)\n",
    "    # establish proper indexes for histograms and scatter plots\n",
    "    hist_i = i * 3\n",
    "    scat_i = hist_i + 1\n",
    "    \n",
    "    # sub set the df for just this algo\n",
    "    sub = l2r_p_df[l2r_p_df['algorith'] == algo]\n",
    "    print('number of infs',sum(sub['log2ratio'] == inf_replacement), ',', sum(sub['log2ratio'] == inf_replacement) / sub.shape[0] )\n",
    "    print('number of -infs',sum(sub['log2ratio'] == neg_inf_replacement), ',', sum(sub['log2ratio'] == neg_inf_replacement) / sub.shape[0])\n",
    "    print('% r > 0', (sum(sub['log2ratio'] > 0) / sub.shape[0]) * 100, '%')\n",
    "    print('p < .0001', (sum(sub['p-value'] <= 0.0001) / sub.shape[0]) * 100, '%' )\n",
    "    # scatter\n",
    "    axes[scat_i][0].scatter(sub['log2ratio'],sub['p-value'],c = algos_colors[algo])\n",
    "    axes[scat_i][0].set_xlim(neg_inf_replacement,inf_replacement)\n",
    "    # set the x tick and artificially add\n",
    "    axes[scat_i][0].set_xticks([neg_inf_replacement,-4,-2,0,2,4,6,8,10,inf_replacement])\n",
    "    axes[scat_i][0].set_xticklabels(['-inf',-4,-2,0,2,4,6,8,10,'inf'])\n",
    "    axes[scat_i][0].set_ylim(-.2,1)\n",
    "    axes[scat_i][0].set_ylabel('{}\\np-value'.format(algo),size=label_size)\n",
    "    axes[scat_i][0].set_yticks([0,.5,1])\n",
    "    axes[scat_i][0].set_xlabel('log-2-ratio',size=label_size)\n",
    "    axes[scat_i][0].tick_params(axis='both', which='major', labelsize=tick_label_size)\n",
    "    \n",
    "    # X hist - above\n",
    "    hist_bins = axes[hist_i][0].hist(sub['log2ratio'],\n",
    "                                     bins=np.arange(neg_inf_replacement, inf_replacement + 1, 1),\n",
    "                                     orientation='vertical',\n",
    "                                     color = algos_colors[algo])\n",
    "    axes[hist_i][0].set_xlim(neg_inf_replacement,inf_replacement)\n",
    "    axes[hist_i][0].set_xticks([])\n",
    "    axes[hist_i][0].set_yscale('log')\n",
    "    axes[hist_i][0].set_ylabel('count',size=label_size)\n",
    "    axes[hist_i][0].tick_params(axis='both', which='major', labelsize=tick_label_size)\n",
    "    \n",
    "    # Panel label\n",
    "    axes[hist_i][0].text(-0.1, 1.15, labels[i], transform=axes[hist_i][0].transAxes,\n",
    "      fontsize=panel_number_size, fontweight='bold', va='top')\n",
    "    \n",
    "    # X hist - right\n",
    "    axes[scat_i][1].hist(sub['p-value'],bins=20,orientation='horizontal',color = algos_colors[algo])\n",
    "    axes[scat_i][1].set_ylim(-.2,1.1)\n",
    "    axes[scat_i][1].set_xscale('log')\n",
    "    axes[scat_i][1].set_yticks([])\n",
    "    axes[scat_i][1].set_xlabel('count',size=label_size)\n",
    "    axes[scat_i][1].tick_params(axis='both', which='major', labelsize=tick_label_size)\n",
    "\n",
    "plt.tight_layout()\n",
    "plt.savefig('../Figures/log_vs_p_19v20.png',dpi=300)\n",
    "plt.show()"
   ]
  },
  {
   "cell_type": "code",
   "execution_count": 11,
   "id": "09527b20",
   "metadata": {},
   "outputs": [
    {
     "name": "stdout",
     "output_type": "stream",
     "text": [
      "Index(['com_id', 'com_score', 'replicate_id', 'replicate_score',\n",
      "       'rep_and_com_size'],\n",
      "      dtype='object')\n",
      "         com_id  com_score  replicate_id  replicate_score  rep_and_com_size\n",
      "2136400   21364        538             0               74                42\n",
      "2136401   21364        538             1                0                42\n",
      "2136402   21364        538             2                0                42\n",
      "2136403   21364        538             3               44                42\n",
      "2136404   21364        538             4               36                42\n",
      "...         ...        ...           ...              ...               ...\n",
      "2136495   21364        538            95                0                42\n",
      "2136496   21364        538            96                0                42\n",
      "2136497   21364        538            97                0                42\n",
      "2136498   21364        538            98               28                42\n",
      "2136499   21364        538            99                0                42\n",
      "\n",
      "[100 rows x 5 columns]\n",
      "inf\n",
      "O= 538\n",
      "E= 0.0\n",
      "Neg Inf\n",
      "         com_id  com_score  replicate_id  replicate_score  rep_and_com_size\n",
      "1821000   18210          0             0               34                24\n",
      "1821001   18210          0             1               14                24\n",
      "1821002   18210          0             2                0                24\n",
      "1821003   18210          0             3                0                24\n",
      "1821004   18210          0             4                8                24\n",
      "...         ...        ...           ...              ...               ...\n",
      "1821095   18210          0            95                0                24\n",
      "1821096   18210          0            96                0                24\n",
      "1821097   18210          0            97               12                24\n",
      "1821098   18210          0            98               12                24\n",
      "1821099   18210          0            99                4                24\n",
      "\n",
      "[100 rows x 5 columns]\n",
      "-inf\n",
      "O= 0\n",
      "E= 1.0\n",
      "-inf\n"
     ]
    },
    {
     "name": "stderr",
     "output_type": "stream",
     "text": [
      "/var/folders/ty/694s8g7n1cz_l5s3prx55jzr0000gn/T/ipykernel_58009/379432370.py:8: RuntimeWarning: divide by zero encountered in double_scalars\n",
      "  return float(np.log2(o / np.median(np.array(e))))\n",
      "/var/folders/ty/694s8g7n1cz_l5s3prx55jzr0000gn/T/ipykernel_58009/379432370.py:8: RuntimeWarning: divide by zero encountered in log2\n",
      "  return float(np.log2(o / np.median(np.array(e))))\n",
      "/var/folders/ty/694s8g7n1cz_l5s3prx55jzr0000gn/T/ipykernel_58009/1168395686.py:19: RuntimeWarning: divide by zero encountered in log2\n",
      "  print(np.log2(temp_o / 10))\n"
     ]
    },
    {
     "data": {
      "text/plain": [
       "27852    0.00\n",
       "27450    0.45\n",
       "10270    0.40\n",
       "10272    0.00\n",
       "10280    0.02\n",
       "         ... \n",
       "34952    1.00\n",
       "34954    1.00\n",
       "34955    1.00\n",
       "34957    1.00\n",
       "34958    1.00\n",
       "Name: p-value, Length: 34959, dtype: float64"
      ]
     },
     "execution_count": 11,
     "metadata": {},
     "output_type": "execute_result"
    }
   ],
   "source": [
    "# print(np.log2())\n",
    "print(c_snow.columns)\n",
    "aa = c_snow[c_snow['com_id'] == 21364]\n",
    "print(aa)\n",
    "print(log_2_ratio(list(aa['com_score'])[0],list(aa['replicate_score'])))\n",
    "temp_o = list(aa['com_score'])[0]\n",
    "temp_e = list(aa['replicate_score'])\n",
    "print('O=',temp_o)\n",
    "print('E=',np.median(np.array(temp_e)))\n",
    "# float(np.log2(temp_o / np.median(np.array(temp_e))))\n",
    "print('Neg Inf')\n",
    "aa = c_snow[c_snow['com_id'] == 18210]\n",
    "print(aa)\n",
    "print(log_2_ratio(list(aa['com_score'])[0],list(aa['replicate_score'])))\n",
    "temp_o = list(aa['com_score'])[0]\n",
    "temp_e = list(aa['replicate_score'])\n",
    "print('O=',temp_o)\n",
    "print('E=',np.median(np.array(temp_e)))\n",
    "print(np.log2(temp_o / 10))\n",
    "l2r_p_df['p-value']"
   ]
  },
  {
   "cell_type": "markdown",
   "id": "e771d0a5",
   "metadata": {},
   "source": [
    "## Edge Uniqueness"
   ]
  },
  {
   "cell_type": "code",
   "execution_count": 23,
   "id": "e9eb638a",
   "metadata": {},
   "outputs": [
    {
     "name": "stdout",
     "output_type": "stream",
     "text": [
      "31858\n"
     ]
    }
   ],
   "source": [
    "g2p_edges_2021 = [e for e in G21.edges if sum('HP:' in x for x in e) == 1 and e not in G20.edges]\n",
    "print(len(g2p_edges_2021))\n",
    "# get a list of rediscoveries per algo\n",
    "def rediscover(edges,coms):\n",
    "    \"\"\"\n",
    "    @param edges: list of edges [[node1,node2],[node1,node3],..]\n",
    "    @param coms: list of BOCC objects\n",
    "    \"\"\"\n",
    "    rediscoveries = list()\n",
    "    for com in coms:\n",
    "        for edge in edges:\n",
    "            edge = list(edge)\n",
    "            if edge[0] in com.members and edge[1] in com.members:\n",
    "                edge.sort()\n",
    "                rediscoveries.append(str(edge))\n",
    "                print(com.name,edge)\n",
    "    return rediscoveries\n"
   ]
  },
  {
   "cell_type": "code",
   "execution_count": null,
   "id": "5e7d3376",
   "metadata": {},
   "outputs": [],
   "source": [
    "clusters_dict_2020 = {}\n",
    "for f in os.listdir('../SubComs/2020/'):\n",
    "    if 'paris' not in f:\n",
    "        continue\n",
    "    tmp_coms = BOCC.load_clusters('../SubComs/2020/' + f)\n",
    "    tmp_name = f.replace('.coms.txt','')\n",
    "    rediscover(g2p_edges_2021,tmp_coms)\n",
    "    clusters_dict_2020[tmp_name] = rediscover(g2p_edges_2021,tmp_coms)\n",
    "    print(tmp_name)\n",
    "    print(len(clusters_dict_2020[tmp_name]))"
   ]
  },
  {
   "cell_type": "code",
   "execution_count": null,
   "id": "faef341c",
   "metadata": {},
   "outputs": [],
   "source": [
    "# calc data for uniqueness\n",
    "uniq_rediscovery = {'algo':[],'infotype':[],'count':[]}\n",
    "# all_rediscoveries = list()\n",
    "# for key in rediscovery_res.keys():\n",
    "#     all_rediscoveries = all_rediscoveries + rediscovery_res[key]\n",
    "# all_rediscoveries_set = set(all_rediscoveries)\n",
    "\n",
    "for key in clusters_dict_2020.keys():\n",
    "    all_rediscoveries = list()\n",
    "    for key2 in clusters_dict_2020.keys():\n",
    "        if key == key2:\n",
    "            continue\n",
    "        all_rediscoveries = all_rediscoveries + clusters_dict_2020[key2]\n",
    "    \n",
    "    all_rediscoveries_set = set(all_rediscoveries)\n",
    "    print(len(all_rediscoveries_set))\n",
    "    print(key)\n",
    "    uniq_rediscovery['algo'].append(key)\n",
    "    uniq_rediscovery['infotype'].append('total')\n",
    "    uniq_rediscovery['count'].append(len(clusters_dict_2020[key]))\n",
    "    \n",
    "    uniq_rediscovery['algo'].append(key)\n",
    "    uniq_rediscovery['infotype'].append('total unique self')\n",
    "    uniq_rediscovery['count'].append(len(set(clusters_dict_2020[key])))\n",
    "    \n",
    "    uniq_rediscovery['algo'].append(key)\n",
    "    uniq_rediscovery['infotype'].append('common')\n",
    "    uniq_rediscovery['count'].append(len([x for x in set(clusters_dict_2020[key]) if x in all_rediscoveries_set]))\n",
    "    \n",
    "    uniq_rediscovery['algo'].append(key)\n",
    "    uniq_rediscovery['infotype'].append('unique')\n",
    "    uniq_rediscovery['count'].append(len([x for x in set(clusters_dict_2020[key]) if x not in all_rediscoveries_set]))\n",
    "\n",
    "uniq_rediscovery_df = pd.DataFrame(uniq_rediscovery)\n",
    "print(uniq_rediscovery_df.shape)\n",
    "assert(uniq_rediscovery_df.shape[0] == 4 * 4)"
   ]
  },
  {
   "cell_type": "code",
   "execution_count": null,
   "id": "20a246f4",
   "metadata": {},
   "outputs": [],
   "source": [
    "# plot it\n",
    "print(uniq_rediscovery_df)\n",
    "print('unique:',sum(uniq_rediscovery_df[uniq_rediscovery_df['infotype'] == 'unique']['count']))\n",
    "print('total unique self:',sum(uniq_rediscovery_df[uniq_rediscovery_df['infotype'] == 'total unique self']['count']))\n",
    "print('common:',sum(uniq_rediscovery_df[uniq_rediscovery_df['infotype'] == 'common']['count']))\n",
    "sns.barplot(data=uniq_rediscovery_df,x='algo',y='count',hue='infotype')\n",
    "sns.set_style(\"whitegrid\", {'axes.grid' : False})\n",
    "plt.savefig('../Figures/2021_rediscovery_on_2020_uniqness.jpg', dpi=300)\n",
    "plt.show()"
   ]
  },
  {
   "cell_type": "markdown",
   "id": "be929b27",
   "metadata": {},
   "source": [
    "## HPO to Gene Edges Infered from MPO"
   ]
  },
  {
   "cell_type": "code",
   "execution_count": 25,
   "id": "300fa4dc",
   "metadata": {},
   "outputs": [
    {
     "name": "stdout",
     "output_type": "stream",
     "text": [
      "             0       1                                     2\n",
      "0   HP:0000086  FANCD2                        Ectopic kidney\n",
      "1   HP:0000093    G6PC                           Proteinuria\n",
      "2   HP:0000097    G6PC    Focal segmental glomerulosclerosis\n",
      "3   HP:0000105    G6PC                       Enlarged kidney\n",
      "4   HP:0000238    MSH2                         Hydrocephalus\n",
      "..         ...     ...                                   ...\n",
      "80  HP:0011463     XPC                       Childhood onset\n",
      "81  HP:0012213    G6PC  Decreased glomerular filtration rate\n",
      "82  HP:0020073    MSH2                  Hypopigmented macule\n",
      "83  HP:0030052    MSH2                    Inguinal freckling\n",
      "84  HP:0100697    MSH2                     Neurofibrosarcoma\n",
      "\n",
      "[85 rows x 3 columns]\n"
     ]
    }
   ],
   "source": [
    "hpo_from_mpo = pd.read_csv('../Resources/hpo_to_gene_derived_by_mpo.edgelist.2021.unique.txt',sep='\\t',header=None)\n",
    "print(hpo_from_mpo)\n",
    "hpo_from_mpo.columns = ['HPO','Gene','Name']"
   ]
  },
  {
   "cell_type": "code",
   "execution_count": 26,
   "id": "85970dab",
   "metadata": {},
   "outputs": [
    {
     "name": "stdout",
     "output_type": "stream",
     "text": [
      "1309 ['HP:0000979', 'ITGB3']\n",
      "1309 ['HP:0001892', 'ITGB3']\n",
      "paris.walktrap.2021\n",
      "2\n",
      "1697 ['HP:0004813', 'ITGB3']\n",
      "1828 ['FANCD2', 'HP:0000086']\n",
      "paris.infomap.2021\n",
      "2\n",
      "956 ['HP:0000979', 'ITGB3']\n",
      "956 ['HP:0001892', 'ITGB3']\n",
      "paris.greedy.2021\n",
      "2\n",
      "14597 ['HP:0001263', 'TDGF1']\n",
      "22354 ['FANCD2', 'HP:0000086']\n",
      "paris.cesna.2021\n",
      "2\n",
      "{\"['HP:0001892', 'ITGB3']\", \"['HP:0000979', 'ITGB3']\", \"['HP:0004813', 'ITGB3']\", \"['HP:0001263', 'TDGF1']\", \"['FANCD2', 'HP:0000086']\"}\n",
      "5\n"
     ]
    }
   ],
   "source": [
    "hpo_mpo_edges = [[row['HPO'],row['Gene']] for i,row in hpo_from_mpo.iterrows()]\n",
    "hpo_mpo_clusters_dict_2021 = {}\n",
    "all_new_mpo_edges = []\n",
    "for f in os.listdir('../SubComs/2021/'):\n",
    "    if 'paris' not in f:\n",
    "        continue\n",
    "    tmp_coms = BOCC.load_clusters('../SubComs/2021/' + f)\n",
    "    tmp_name = f.replace('.coms.txt','')\n",
    "    hpo_mpo_clusters_dict_2021[tmp_name] = rediscover(hpo_mpo_edges,tmp_coms)\n",
    "    print(tmp_name)\n",
    "    print(len(hpo_mpo_clusters_dict_2021[tmp_name]))\n",
    "#     print(hpo_mpo_clusters_dict_2021[tmp_name])\n",
    "    all_new_mpo_edges = all_new_mpo_edges + hpo_mpo_clusters_dict_2021[tmp_name]\n",
    "\n",
    "print(set(all_new_mpo_edges))\n",
    "print(len(set(all_new_mpo_edges)))"
   ]
  }
 ],
 "metadata": {
  "kernelspec": {
   "display_name": "Python 3 (ipykernel)",
   "language": "python",
   "name": "python3"
  },
  "language_info": {
   "codemirror_mode": {
    "name": "ipython",
    "version": 3
   },
   "file_extension": ".py",
   "mimetype": "text/x-python",
   "name": "python",
   "nbconvert_exporter": "python",
   "pygments_lexer": "ipython3",
   "version": "3.10.4"
  }
 },
 "nbformat": 4,
 "nbformat_minor": 5
}
